{
  "nbformat": 4,
  "nbformat_minor": 0,
  "metadata": {
    "colab": {
      "name": "oneHotEncoding.ipynb",
      "provenance": [],
      "authorship_tag": "ABX9TyOvmVFWpPq853lMcoxMbvTN",
      "include_colab_link": true
    },
    "kernelspec": {
      "name": "python3",
      "display_name": "Python 3"
    },
    "language_info": {
      "name": "python"
    }
  },
  "cells": [
    {
      "cell_type": "markdown",
      "metadata": {
        "id": "view-in-github",
        "colab_type": "text"
      },
      "source": [
        "<a href=\"https://colab.research.google.com/github/samp3209/datamining/blob/main/oneHotEncoding.ipynb\" target=\"_parent\"><img src=\"https://colab.research.google.com/assets/colab-badge.svg\" alt=\"Open In Colab\"/></a>"
      ]
    },
    {
      "cell_type": "code",
      "metadata": {
        "colab": {
          "base_uri": "https://localhost:8080/",
          "height": 333
        },
        "id": "ptJJFBWTsm7p",
        "outputId": "ff6697bc-4f7e-49b7-ac1b-3cc7851e4438"
      },
      "source": [
        "import pandas as pd\n",
        "import numpy as np\n",
        "import sklearn\n",
        "from sklearn.preprocessing import OneHotEncoder\n",
        "from sklearn.preprocessing import LabelEncoder\n",
        "from sklearn import linear_model as lm\n",
        "from sklearn.model_selection import train_test_split\n",
        "import matplotlib.pyplot as plt\n",
        "import sklearn.preprocessing\n",
        "from sklearn.preprocessing import MinMaxScaler\n",
        "university_towns = []\n",
        "\n",
        "with open('university_towns.txt') as file:\n",
        "  for line in file:\n",
        "    if '[edit]' in line:\n",
        "      state = line\n",
        "    else:\n",
        "      university_towns.append((state,line))\n",
        "\n",
        "university_towns[:5]\n",
        "\n",
        "df = pd.DataFrame(university_towns, columns=['State', 'RegionName'])\n",
        "#print(df.head())\n",
        "df['State'] = df['State'].str.replace('\\[edit\\]\\\\n', ' ')\n",
        "\n",
        "def get_city(item):\n",
        "  #takes in df and goes line by line editing the data by finding where a given character is a choosing everything before that character\n",
        "    if ')' in item:\n",
        "      return item[:item.find(')')]\n",
        "    elif '[' in item:\n",
        "      return item[:item.find('[')]\n",
        "    else:\n",
        "      return item\n",
        "\n",
        "df = df.applymap(get_city)\n",
        "df.head()\n",
        "#splits the regionname column into city and university and cleaning the columns up\n",
        "df[['City', 'University', 'misc']] = df['RegionName'].str.split(\"\\(\", expand=True)\n",
        "df.drop('misc', axis=1, inplace=True)\n",
        "df.drop('RegionName', axis=1, inplace=True)\n",
        "df = df.dropna()\n",
        "label_df = df\n",
        "\n",
        "label_encoder = LabelEncoder()\n",
        "#print(df.dtypes)\n",
        "data_coloumn_category = df.select_dtypes(exclude=[np.number]).columns\n",
        "data_column_numeric = df.select_dtypes(include=[np.number]).columns\n",
        "\n",
        "#print(data_coloumn_category)\n",
        "onehot_encoder = OneHotEncoder(sparse=False)\n",
        "\n",
        "onehot_encoded = onehot_encoder.fit_transform(df[['City', 'University']])\n",
        "\n",
        "#creating final dataset. Problem is that there are so many states and cities its difficult to use onehot\n",
        "onehot_encoded_frame = pd.DataFrame(onehot_encoded, columns = onehot_encoder.get_feature_names(['City','University']))\n",
        "#df_onehot_getdummies = pd.get_dummies(df[data_coloumn_category], prefix=data_coloumn_category)\n",
        "#final_df = pd.concat([df_onehot_getdummies, df[data_column_numeric]], axis=1)\n",
        "#final_df.std().sort_values(ascending=False)\n",
        "#onehot_encoded_frame.std().sort_values(ascending=False)\n",
        "#print(onehot_encoded_frame.shape)\n",
        "\n",
        "\n",
        "\n",
        "#scaler = MinMaxScaler()\n",
        "#label encoding the dataset into new df called label_df\n",
        "\n",
        "label_df['State'] = label_encoder.fit_transform(df['State'])\n",
        "\n",
        "#label_df = sklearn.preprocessing.minmax_scale(label_df)\n",
        "#scaling each of the columns using min max scaler\n",
        "#label_df['University'] = sklearn.preprocessing.minmax_scale(label_df['University'])\n",
        "label_df['State'] = sklearn.preprocessing.minmax_scale(label_df['State'])\n",
        "#label_df['City'] = sklearn.preprocessing.minmax_scale(label_df['City'])\n",
        "#print(label_df.shape)\n",
        "\n",
        "\n",
        "\n",
        "\n",
        "#splitting data into testing/training data sets and reshaping data\n",
        "X_train, X_test, Y_train, Y_test = train_test_split(onehot_encoded_frame,label_df['State'], test_size=.25)\n",
        "xb = np.array(X_train)\n",
        "print(xb.shape)\n",
        "xb = xb.reshape(384,997)\n",
        "print(yb.shape)\n",
        "yb = np.array(Y_train)\n",
        "yb = yb.reshape(384,)\n",
        "\n",
        "xb_test = np.array(X_test)\n",
        "xb_test = xb.reshape(384,997)\n",
        "yb_test = np.array(Y_test)\n",
        "yb_test = yb.reshape(384,)\n",
        "\n",
        "#generating best model and getting its score\n",
        "bestModel = lm.LinearRegression().fit(xb,yb)\n",
        "BMscore = bestModel.score(xb_test, yb_test)\n",
        "print(BMscore)\n",
        "yb_pred = bestModel.predict(xb_test)\n",
        "#plotting the model\n",
        "plt.figure(0)\n",
        "plt.scatter(xb_test[:,0], yb_test)\n",
        "#plt.plot(xb_test, yb_pred, color='red')\n",
        "\n",
        "#final thoughts: This data has a linear regression score of 1 which means that it can accurately predict the state a university is in given the school name and city its in"
      ],
      "execution_count": 37,
      "outputs": [
        {
          "output_type": "stream",
          "name": "stdout",
          "text": [
            "(384, 997)\n",
            "(384,)\n",
            "1.0\n"
          ]
        },
        {
          "output_type": "execute_result",
          "data": {
            "text/plain": [
              "<matplotlib.collections.PathCollection at 0x7f632515bd10>"
            ]
          },
          "metadata": {},
          "execution_count": 37
        },
        {
          "output_type": "display_data",
          "data": {
            "image/png": "[encoded data removed]",
            "text/plain": [
              "<Figure size 432x288 with 1 Axes>"
            ]
          },
          "metadata": {
            "needs_background": "light"
          }
        }
      ]
    }
  ]
}