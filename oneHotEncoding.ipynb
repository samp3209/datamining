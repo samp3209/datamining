{
  "nbformat": 4,
  "nbformat_minor": 0,
  "metadata": {
    "colab": {
      "name": "oneHotEncoding.ipynb",
      "provenance": [],
      "authorship_tag": "ABX9TyPA6pviTQ0e27yZZnldsI5m",
      "include_colab_link": true
    },
    "kernelspec": {
      "name": "python3",
      "display_name": "Python 3"
    },
    "language_info": {
      "name": "python"
    }
  },
  "cells": [
    {
      "cell_type": "markdown",
      "metadata": {
        "id": "view-in-github",
        "colab_type": "text"
      },
      "source": [
        "<a href=\"https://colab.research.google.com/github/samp3209/datamining/blob/main/oneHotEncoding.ipynb\" target=\"_parent\"><img src=\"https://colab.research.google.com/assets/colab-badge.svg\" alt=\"Open In Colab\"/></a>"
      ]
    },
    {
      "cell_type": "code",
      "metadata": {
        "colab": {
          "base_uri": "https://localhost:8080/",
          "height": 367
        },
        "id": "ptJJFBWTsm7p",
        "outputId": "28cf6080-e47e-49f2-a061-98e4dec3746a"
      },
      "source": [
        "import pandas as pd\n",
        "import numpy as np\n",
        "import sklearn\n",
        "from sklearn.preprocessing import OneHotEncoder\n",
        "from sklearn.preprocessing import LabelEncoder\n",
        "from sklearn import linear_model as lm\n",
        "from sklearn.model_selection import train_test_split\n",
        "import matplotlib.pyplot as plt\n",
        "import sklearn.preprocessing\n",
        "from sklearn.preprocessing import MinMaxScaler\n",
        "university_towns = []\n",
        "\n",
        "with open('university_towns.txt') as file:\n",
        "  for line in file:\n",
        "    if '[edit]' in line:\n",
        "      state = line\n",
        "    else:\n",
        "      university_towns.append((state,line))\n",
        "\n",
        "university_towns[:5]\n",
        "\n",
        "df = pd.DataFrame(university_towns, columns=['State', 'RegionName'])\n",
        "#print(df.head())\n",
        "df['State'] = df['State'].str.replace('\\[edit\\]\\\\n', ' ')\n",
        "\n",
        "def get_city(item):\n",
        "  #takes in df and goes line by line editing the data by finding where a given character is a choosing everything before that character\n",
        "    if ')' in item:\n",
        "      return item[:item.find(')')]\n",
        "    elif '[' in item:\n",
        "      return item[:item.find('[')]\n",
        "    else:\n",
        "      return item\n",
        "\n",
        "df = df.applymap(get_city)\n",
        "df.head()\n",
        "#splits the regionname column into city and university and cleaning the columns up\n",
        "df[['City', 'University', 'misc']] = df['RegionName'].str.split(\"\\(\", expand=True)\n",
        "df.drop('misc', axis=1, inplace=True)\n",
        "df.drop('RegionName', axis=1, inplace=True)\n",
        "df = df.dropna()\n",
        "label_df = df\n",
        "\n",
        "label_encoder = LabelEncoder()\n",
        "#print(df.dtypes)\n",
        "data_coloumn_category = df.select_dtypes(exclude=[np.number]).columns\n",
        "data_column_numeric = df.select_dtypes(include=[np.number]).columns\n",
        "\n",
        "#print(data_coloumn_category)\n",
        "onehot_encoder = OneHotEncoder(sparse=False)\n",
        "\n",
        "onehot_encoded = onehot_encoder.fit_transform(df[data_coloumn_category])\n",
        "\n",
        "#creating final dataset. Problem is that there are so many states and cities its difficult to use onehot\n",
        "onehot_encoded_frame = pd.DataFrame(onehot_encoded, columns = onehot_encoder.get_feature_names(data_coloumn_category))\n",
        "df_onehot_getdummies = pd.get_dummies(df[data_coloumn_category], prefix=data_coloumn_category)\n",
        "final_df = pd.concat([df_onehot_getdummies, df[data_column_numeric]], axis=1)\n",
        "final_df.std().sort_values(ascending=False)\n",
        "onehot_encoded_frame.std().sort_values(ascending=False)\n",
        "\n",
        "#scaler = MinMaxScaler()\n",
        "#label encoding the dataset into new df called label_df\n",
        "for i in data_coloumn_category:\n",
        "  label_df[i] = label_encoder.fit_transform(label_df[i])\n",
        "\n",
        "#label_df = sklearn.preprocessing.minmax_scale(label_df)\n",
        "#scaling each of the columns using min max scaler\n",
        "label_df['University'] = sklearn.preprocessing.minmax_scale(label_df['University'])\n",
        "label_df['State'] = sklearn.preprocessing.minmax_scale(label_df['State'])\n",
        "label_df['City'] = sklearn.preprocessing.minmax_scale(label_df['City'])\n",
        "\n",
        "#finding the column with largest standard deviation\n",
        "print(label_df.std().sort_values(ascending=False))\n",
        "feature = label_df['City']\n",
        "\n",
        "#splitting data into testing/training data sets and reshaping data\n",
        "X_train, X_test, Y_train, Y_test = train_test_split(label_df['City'], label_df['University'], test_size=.25)\n",
        "xb = np.array(X_train)\n",
        "xb = xb.reshape(-1,1)\n",
        "yb = np.array(Y_train)\n",
        "yb = yb.reshape(-1,1)\n",
        "\n",
        "xb_test = np.array(X_test)\n",
        "xb_test = xb.reshape(-1,1)\n",
        "yb_test = np.array(Y_test)\n",
        "yb_test = yb.reshape(-1,1)\n",
        "\n",
        "#generating best model and getting its score\n",
        "bestModel = lm.LinearRegression().fit(xb,yb)\n",
        "BMscore = bestModel.score(xb_test, yb_test)\n",
        "print(BMscore)\n",
        "yb_pred = bestModel.predict(xb_test)\n",
        "#plotting the model\n",
        "plt.figure(0)\n",
        "plt.scatter(xb_test, yb_test)\n",
        "plt.plot(xb_test, yb_pred, color='red')\n",
        "\n",
        "#final thoughts: The data does not have any strong linearity after testing out all of the features. This data cannot be accurately predicted with linear regression."
      ],
      "execution_count": 39,
      "outputs": [
        {
          "output_type": "stream",
          "name": "stdout",
          "text": [
            "City          0.290114\n",
            "University    0.289253\n",
            "State         0.277223\n",
            "dtype: float64\n",
            "0.0341149831374884\n"
          ]
        },
        {
          "output_type": "execute_result",
          "data": {
            "text/plain": [
              "[<matplotlib.lines.Line2D at 0x7f634ad69d90>]"
            ]
          },
          "metadata": {},
          "execution_count": 39
        },
        {
          "output_type": "display_data",
          "data": {
            "image/png": "[encoded data removed]",
            "text/plain": [
              "<Figure size 432x288 with 1 Axes>"
            ]
          },
          "metadata": {
            "needs_background": "light"
          }
        }
      ]
    }
  ]
}