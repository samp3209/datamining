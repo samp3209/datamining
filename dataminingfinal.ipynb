{
  "nbformat": 4,
  "nbformat_minor": 0,
  "metadata": {
    "colab": {
      "name": "dataminingfinal.ipynb",
      "provenance": [],
      "authorship_tag": "ABX9TyOH0znLXyGUSbTfRiFOQviX",
      "include_colab_link": true
    },
    "kernelspec": {
      "name": "python3",
      "display_name": "Python 3"
    },
    "language_info": {
      "name": "python"
    }
  },
  "cells": [
    {
      "cell_type": "markdown",
      "metadata": {
        "id": "view-in-github",
        "colab_type": "text"
      },
      "source": [
        "<a href=\"https://colab.research.google.com/github/samp3209/datamining/blob/main/dataminingfinal.ipynb\" target=\"_parent\"><img src=\"https://colab.research.google.com/assets/colab-badge.svg\" alt=\"Open In Colab\"/></a>"
      ]
    },
    {
      "cell_type": "code",
      "execution_count": 2,
      "metadata": {
        "id": "uCJ6nGCk8PZu"
      },
      "outputs": [],
      "source": [
        "import pandas as pd\n",
        "import numpy as np\n",
        "import multiprocessing\n",
        "#data visualization libraries\n",
        "import seaborn as sns\n",
        "import matplotlib.pyplot as plt\n",
        "#library for processing objects structured like emails\n",
        "import email\n"
      ]
    },
    {
      "cell_type": "code",
      "source": [
        "#example of multi-class classification task\n",
        "from numpy import where\n",
        "from collections import Counter\n",
        "from sklearn.datasets import make_blobs\n",
        "from sklearn.cluster import KMeans\n",
        "from sklearn.tree import DecisionTreeClassifier\n",
        "from sklearn.model_selection import train_test_split\n",
        "from sklearn.datasets import make_classification\n",
        "from sklearn.metrics import accuracy_score\n",
        "from matplotlib import pyplot\n",
        "import pandas as pd"
      ],
      "metadata": {
        "id": "csKkeiEoCna7"
      },
      "execution_count": 3,
      "outputs": []
    },
    {
      "cell_type": "code",
      "source": [
        "df = pd.read_csv(\"final_proj_data.csv\")\n",
        "len(df)"
      ],
      "metadata": {
        "id": "yU-OeQPu8gjQ",
        "colab": {
          "base_uri": "https://localhost:8080/"
        },
        "outputId": "3f64e2f4-e7d1-4227-c43e-d2cebc6a8548"
      },
      "execution_count": 96,
      "outputs": [
        {
          "output_type": "execute_result",
          "data": {
            "text/plain": [
              "94592"
            ]
          },
          "metadata": {},
          "execution_count": 96
        }
      ]
    },
    {
      "cell_type": "code",
      "metadata": {
        "trusted": true,
        "colab": {
          "base_uri": "https://localhost:8080/",
          "height": 120
        },
        "id": "guKq6RcErsnr",
        "outputId": "8db95cf9-a504-4d96-dfa9-ab14a7ba4cfa"
      },
      "source": [
        "# transform the email into correct format\n",
        "message = df.loc[1]['message']\n",
        "#uses the new library 'email'\n",
        "e = email.message_from_string(message)\n",
        "\n",
        "e.items()\n",
        "# get date\n",
        "e.get('Date')\n",
        "# show message body\n",
        "e.get_payload()"
      ],
      "execution_count": 97,
      "outputs": [
        {
          "output_type": "execute_result",
          "data": {
            "application/vnd.google.colaboratory.intrinsic+json": {
              "type": "string"
            },
            "text/plain": [
              "\"Palu,\\r\\n \\r\\nAre we getting a portion of the 49C2 conference video?  We are getting something from one of the video rooms.  any ideas?\\r\\n \\r\\nThanks, Kim.\\r\\n-----Original Message-----\\r\\nFrom: Robertson, Audrey \\r\\nSent: Tuesday, August 14, 2001 9:41 AM\\r\\nTo: Watson, Kimberly\\r\\nCc: Harris, Steven\\r\\nSubject: FW: Video Conference Room\\r\\n\\r\\n\\r\\n    FYI,\\r\\n \\r\\n -----Original Message-----\\r\\nFrom: Jones, Dana \\r\\nSent: Tuesday, August 14, 2001 9:40 AM\\r\\nTo: Robertson, Audrey\\r\\nCc: Gilbert, Steve\\r\\nSubject: RE: Video Conference Room\\r\\n\\r\\n\\r\\nAudrey,  No Steve Harris's cost center is not currently charged for use of the video conference.  We are however currently assessing allocating some portion of the cost to the various users.\\r\\n \\r\\nDana\\r\\n \\r\\n\\r\\n-----Original Message-----\\r\\nFrom: Robertson, Audrey \\r\\nSent: Tuesday, August 14, 2001 7:55 AM\\r\\nTo: Jones, Dana\\r\\nCc: Cappiello, Deborah; Watson, Kimberly\\r\\nSubject: FW: Video Conference Room\\r\\n\\r\\n\\r\\nDana, would you be able to tell me if Steve's Cost Center is being charged for the use of the Video Conference Room - EB-4102.  If it is, what percentage.\\r\\n \\r\\nThanks in advance,\\r\\n\\r\\nAudrey D. Robertson \\r\\nTranswestern Pipeline Company \\r\\nemail address:  audrey.robertson@enron.com \\r\\n(713) 853-5849 \\r\\n(713) 646-2551 Fax \\r\\n\\r\\n-----Original Message-----\\r\\nFrom: Cappiello, Deborah \\r\\nSent: Monday, August 13, 2001 4:18 PM\\r\\nTo: Robertson, Audrey\\r\\nSubject: Video Conference Room\\r\\n\\r\\n\\r\\nAudrey, as far as I know, TW is not presently being charged for the Marketing Video Conference room.  Dana could probably tell you more but we were under the impression that it was all being charged to NNG.  If you do not get this resolved with Dana, let me know and I will do some additional research on it.\\r\\n \\r\\nTalk to you tomorrow.\""
            ]
          },
          "metadata": {},
          "execution_count": 97
        }
      ]
    },
    {
      "cell_type": "code",
      "source": [
        "# now we add those fields into our 'df' dataframe\n",
        "def get_field(field, messages):\n",
        "    column = []\n",
        "    for message in messages:\n",
        "        e = email.message_from_string(message)\n",
        "        column.append(e.get(field))\n",
        "    return column"
      ],
      "metadata": {
        "id": "nz3BxhuI8pUC"
      },
      "execution_count": 98,
      "outputs": []
    },
    {
      "cell_type": "code",
      "source": [
        "df['date'] = get_field(\"Date\", df['message'])\n",
        "df['subject'] = get_field(\"Subject\", df['message'])\n",
        "df['X-Folder'] = get_field(\"X-Folder\", df['message'])\n",
        "df['X-From'] = get_field(\"X-From\", df['message'])\n",
        "df['X-To'] = get_field(\"X-To\", df['message'])\n",
        "df.head(3)"
      ],
      "metadata": {
        "colab": {
          "base_uri": "https://localhost:8080/",
          "height": 434
        },
        "id": "UU4m9A6VBMPj",
        "outputId": "056df134-2b34-4792-b5a3-023d7848e361"
      },
      "execution_count": 99,
      "outputs": [
        {
          "output_type": "execute_result",
          "data": {
            "text/html": [
              "<div>\n",
              "<style scoped>\n",
              "    .dataframe tbody tr th:only-of-type {\n",
              "        vertical-align: middle;\n",
              "    }\n",
              "\n",
              "    .dataframe tbody tr th {\n",
              "        vertical-align: top;\n",
              "    }\n",
              "\n",
              "    .dataframe thead th {\n",
              "        text-align: right;\n",
              "    }\n",
              "</style>\n",
              "<table border=\"1\" class=\"dataframe\">\n",
              "  <thead>\n",
              "    <tr style=\"text-align: right;\">\n",
              "      <th></th>\n",
              "      <th>Unnamed: 0</th>\n",
              "      <th>Unnamed</th>\n",
              "      <th>file</th>\n",
              "      <th>message</th>\n",
              "      <th>date</th>\n",
              "      <th>subject</th>\n",
              "      <th>X-Folder</th>\n",
              "      <th>X-From</th>\n",
              "      <th>X-To</th>\n",
              "      <th>body</th>\n",
              "      <th>employee</th>\n",
              "      <th>label</th>\n",
              "    </tr>\n",
              "  </thead>\n",
              "  <tbody>\n",
              "    <tr>\n",
              "      <th>0</th>\n",
              "      <td>1</td>\n",
              "      <td>2</td>\n",
              "      <td>shackleton-s/notes_inbox/2286.</td>\n",
              "      <td>Message-ID: &lt;12206143.1075844795936.JavaMail.e...</td>\n",
              "      <td>Mon, 7 May 2001 02:37:00 -0700 (PDT)</td>\n",
              "      <td>(01-149) Silver and Gold Options Expiration Op...</td>\n",
              "      <td>\\Sara_Shackleton_Dec2000_June2001_2\\Notes Fold...</td>\n",
              "      <td>exchangeinfo@nymex.com</td>\n",
              "      <td>sara.shackleton@enron.com</td>\n",
              "      <td>Notice No. 01-149\\r\\nMay 7, 2001\\r\\n\\r\\nTO:\\r\\...</td>\n",
              "      <td>shackleton-s</td>\n",
              "      <td>Not Spam</td>\n",
              "    </tr>\n",
              "    <tr>\n",
              "      <th>1</th>\n",
              "      <td>3</td>\n",
              "      <td>4</td>\n",
              "      <td>watson-k/sent_items/146.</td>\n",
              "      <td>Message-ID: &lt;6768695.1075852893849.JavaMail.ev...</td>\n",
              "      <td>Tue, 14 Aug 2001 07:56:51 -0700 (PDT)</td>\n",
              "      <td>FW: Video Conference Room</td>\n",
              "      <td>\\KWATSON (Non-Privileged)\\Watson, Kimberly\\Sen...</td>\n",
              "      <td>Watson, Kimberly &lt;/O=ENRON/OU=NA/CN=RECIPIENTS...</td>\n",
              "      <td>Goradia, Pallavi &lt;/O=ENRON/OU=NA/CN=RECIPIENTS...</td>\n",
              "      <td>Palu,\\r\\n \\r\\nAre we getting a portion of the ...</td>\n",
              "      <td>watson-k</td>\n",
              "      <td>Not Spam</td>\n",
              "    </tr>\n",
              "    <tr>\n",
              "      <th>2</th>\n",
              "      <td>4</td>\n",
              "      <td>5</td>\n",
              "      <td>causholli-m/deleted_items/15.</td>\n",
              "      <td>Message-ID: &lt;4383187.1075853152536.JavaMail.ev...</td>\n",
              "      <td>Fri, 26 Oct 2001 16:11:01 -0700 (PDT)</td>\n",
              "      <td>Solicitation Calls</td>\n",
              "      <td>\\MCAUSHOL (Non-Privileged)\\Deleted Items</td>\n",
              "      <td>Office of the Chairman, &lt;/O=ENRON/OU=NA/CN=REC...</td>\n",
              "      <td>All Enron Worldwide@ENRON</td>\n",
              "      <td>Trade press, recruiting firms and others recen...</td>\n",
              "      <td>causholli-m</td>\n",
              "      <td>Not Spam</td>\n",
              "    </tr>\n",
              "  </tbody>\n",
              "</table>\n",
              "</div>"
            ],
            "text/plain": [
              "   Unnamed: 0  Unnamed  ...      employee     label\n",
              "0           1        2  ...  shackleton-s  Not Spam\n",
              "1           3        4  ...      watson-k  Not Spam\n",
              "2           4        5  ...   causholli-m  Not Spam\n",
              "\n",
              "[3 rows x 12 columns]"
            ]
          },
          "metadata": {},
          "execution_count": 99
        }
      ]
    },
    {
      "cell_type": "code",
      "source": [
        "def body(messages):\n",
        "    column = []\n",
        "    for message in messages:\n",
        "        e = email.message_from_string(message)\n",
        "        column.append(e.get_payload())\n",
        "    return column\n",
        "\n",
        "df['body'] = body(df['message'])\n",
        "df.head(3)"
      ],
      "metadata": {
        "colab": {
          "base_uri": "https://localhost:8080/",
          "height": 434
        },
        "id": "4kI8pazwBMxk",
        "outputId": "ad634ef1-3cad-4fde-a294-0a0bef47ee08"
      },
      "execution_count": 100,
      "outputs": [
        {
          "output_type": "execute_result",
          "data": {
            "text/html": [
              "<div>\n",
              "<style scoped>\n",
              "    .dataframe tbody tr th:only-of-type {\n",
              "        vertical-align: middle;\n",
              "    }\n",
              "\n",
              "    .dataframe tbody tr th {\n",
              "        vertical-align: top;\n",
              "    }\n",
              "\n",
              "    .dataframe thead th {\n",
              "        text-align: right;\n",
              "    }\n",
              "</style>\n",
              "<table border=\"1\" class=\"dataframe\">\n",
              "  <thead>\n",
              "    <tr style=\"text-align: right;\">\n",
              "      <th></th>\n",
              "      <th>Unnamed: 0</th>\n",
              "      <th>Unnamed</th>\n",
              "      <th>file</th>\n",
              "      <th>message</th>\n",
              "      <th>date</th>\n",
              "      <th>subject</th>\n",
              "      <th>X-Folder</th>\n",
              "      <th>X-From</th>\n",
              "      <th>X-To</th>\n",
              "      <th>body</th>\n",
              "      <th>employee</th>\n",
              "      <th>label</th>\n",
              "    </tr>\n",
              "  </thead>\n",
              "  <tbody>\n",
              "    <tr>\n",
              "      <th>0</th>\n",
              "      <td>1</td>\n",
              "      <td>2</td>\n",
              "      <td>shackleton-s/notes_inbox/2286.</td>\n",
              "      <td>Message-ID: &lt;12206143.1075844795936.JavaMail.e...</td>\n",
              "      <td>Mon, 7 May 2001 02:37:00 -0700 (PDT)</td>\n",
              "      <td>(01-149) Silver and Gold Options Expiration Op...</td>\n",
              "      <td>\\Sara_Shackleton_Dec2000_June2001_2\\Notes Fold...</td>\n",
              "      <td>exchangeinfo@nymex.com</td>\n",
              "      <td>sara.shackleton@enron.com</td>\n",
              "      <td>Notice No. 01-149\\r\\nMay 7, 2001\\r\\n\\r\\nTO:\\r\\...</td>\n",
              "      <td>shackleton-s</td>\n",
              "      <td>Not Spam</td>\n",
              "    </tr>\n",
              "    <tr>\n",
              "      <th>1</th>\n",
              "      <td>3</td>\n",
              "      <td>4</td>\n",
              "      <td>watson-k/sent_items/146.</td>\n",
              "      <td>Message-ID: &lt;6768695.1075852893849.JavaMail.ev...</td>\n",
              "      <td>Tue, 14 Aug 2001 07:56:51 -0700 (PDT)</td>\n",
              "      <td>FW: Video Conference Room</td>\n",
              "      <td>\\KWATSON (Non-Privileged)\\Watson, Kimberly\\Sen...</td>\n",
              "      <td>Watson, Kimberly &lt;/O=ENRON/OU=NA/CN=RECIPIENTS...</td>\n",
              "      <td>Goradia, Pallavi &lt;/O=ENRON/OU=NA/CN=RECIPIENTS...</td>\n",
              "      <td>Palu,\\r\\n \\r\\nAre we getting a portion of the ...</td>\n",
              "      <td>watson-k</td>\n",
              "      <td>Not Spam</td>\n",
              "    </tr>\n",
              "    <tr>\n",
              "      <th>2</th>\n",
              "      <td>4</td>\n",
              "      <td>5</td>\n",
              "      <td>causholli-m/deleted_items/15.</td>\n",
              "      <td>Message-ID: &lt;4383187.1075853152536.JavaMail.ev...</td>\n",
              "      <td>Fri, 26 Oct 2001 16:11:01 -0700 (PDT)</td>\n",
              "      <td>Solicitation Calls</td>\n",
              "      <td>\\MCAUSHOL (Non-Privileged)\\Deleted Items</td>\n",
              "      <td>Office of the Chairman, &lt;/O=ENRON/OU=NA/CN=REC...</td>\n",
              "      <td>All Enron Worldwide@ENRON</td>\n",
              "      <td>Trade press, recruiting firms and others recen...</td>\n",
              "      <td>causholli-m</td>\n",
              "      <td>Not Spam</td>\n",
              "    </tr>\n",
              "  </tbody>\n",
              "</table>\n",
              "</div>"
            ],
            "text/plain": [
              "   Unnamed: 0  Unnamed  ...      employee     label\n",
              "0           1        2  ...  shackleton-s  Not Spam\n",
              "1           3        4  ...      watson-k  Not Spam\n",
              "2           4        5  ...   causholli-m  Not Spam\n",
              "\n",
              "[3 rows x 12 columns]"
            ]
          },
          "metadata": {},
          "execution_count": 100
        }
      ]
    },
    {
      "cell_type": "code",
      "source": [
        "def employee(file):\n",
        "    column = []\n",
        "    for string in file:\n",
        "        column.append(string.split(\"/\")[0])\n",
        "    return column\n",
        "\n",
        "df['employee'] = employee(df['file'])\n",
        "df.head(3)"
      ],
      "metadata": {
        "colab": {
          "base_uri": "https://localhost:8080/",
          "height": 434
        },
        "id": "o0RYc3WvBO4w",
        "outputId": "c1b77d5a-a985-411e-e5ea-e126ffe56b20"
      },
      "execution_count": 101,
      "outputs": [
        {
          "output_type": "execute_result",
          "data": {
            "text/html": [
              "<div>\n",
              "<style scoped>\n",
              "    .dataframe tbody tr th:only-of-type {\n",
              "        vertical-align: middle;\n",
              "    }\n",
              "\n",
              "    .dataframe tbody tr th {\n",
              "        vertical-align: top;\n",
              "    }\n",
              "\n",
              "    .dataframe thead th {\n",
              "        text-align: right;\n",
              "    }\n",
              "</style>\n",
              "<table border=\"1\" class=\"dataframe\">\n",
              "  <thead>\n",
              "    <tr style=\"text-align: right;\">\n",
              "      <th></th>\n",
              "      <th>Unnamed: 0</th>\n",
              "      <th>Unnamed</th>\n",
              "      <th>file</th>\n",
              "      <th>message</th>\n",
              "      <th>date</th>\n",
              "      <th>subject</th>\n",
              "      <th>X-Folder</th>\n",
              "      <th>X-From</th>\n",
              "      <th>X-To</th>\n",
              "      <th>body</th>\n",
              "      <th>employee</th>\n",
              "      <th>label</th>\n",
              "    </tr>\n",
              "  </thead>\n",
              "  <tbody>\n",
              "    <tr>\n",
              "      <th>0</th>\n",
              "      <td>1</td>\n",
              "      <td>2</td>\n",
              "      <td>shackleton-s/notes_inbox/2286.</td>\n",
              "      <td>Message-ID: &lt;12206143.1075844795936.JavaMail.e...</td>\n",
              "      <td>Mon, 7 May 2001 02:37:00 -0700 (PDT)</td>\n",
              "      <td>(01-149) Silver and Gold Options Expiration Op...</td>\n",
              "      <td>\\Sara_Shackleton_Dec2000_June2001_2\\Notes Fold...</td>\n",
              "      <td>exchangeinfo@nymex.com</td>\n",
              "      <td>sara.shackleton@enron.com</td>\n",
              "      <td>Notice No. 01-149\\r\\nMay 7, 2001\\r\\n\\r\\nTO:\\r\\...</td>\n",
              "      <td>shackleton-s</td>\n",
              "      <td>Not Spam</td>\n",
              "    </tr>\n",
              "    <tr>\n",
              "      <th>1</th>\n",
              "      <td>3</td>\n",
              "      <td>4</td>\n",
              "      <td>watson-k/sent_items/146.</td>\n",
              "      <td>Message-ID: &lt;6768695.1075852893849.JavaMail.ev...</td>\n",
              "      <td>Tue, 14 Aug 2001 07:56:51 -0700 (PDT)</td>\n",
              "      <td>FW: Video Conference Room</td>\n",
              "      <td>\\KWATSON (Non-Privileged)\\Watson, Kimberly\\Sen...</td>\n",
              "      <td>Watson, Kimberly &lt;/O=ENRON/OU=NA/CN=RECIPIENTS...</td>\n",
              "      <td>Goradia, Pallavi &lt;/O=ENRON/OU=NA/CN=RECIPIENTS...</td>\n",
              "      <td>Palu,\\r\\n \\r\\nAre we getting a portion of the ...</td>\n",
              "      <td>watson-k</td>\n",
              "      <td>Not Spam</td>\n",
              "    </tr>\n",
              "    <tr>\n",
              "      <th>2</th>\n",
              "      <td>4</td>\n",
              "      <td>5</td>\n",
              "      <td>causholli-m/deleted_items/15.</td>\n",
              "      <td>Message-ID: &lt;4383187.1075853152536.JavaMail.ev...</td>\n",
              "      <td>Fri, 26 Oct 2001 16:11:01 -0700 (PDT)</td>\n",
              "      <td>Solicitation Calls</td>\n",
              "      <td>\\MCAUSHOL (Non-Privileged)\\Deleted Items</td>\n",
              "      <td>Office of the Chairman, &lt;/O=ENRON/OU=NA/CN=REC...</td>\n",
              "      <td>All Enron Worldwide@ENRON</td>\n",
              "      <td>Trade press, recruiting firms and others recen...</td>\n",
              "      <td>causholli-m</td>\n",
              "      <td>Not Spam</td>\n",
              "    </tr>\n",
              "  </tbody>\n",
              "</table>\n",
              "</div>"
            ],
            "text/plain": [
              "   Unnamed: 0  Unnamed  ...      employee     label\n",
              "0           1        2  ...  shackleton-s  Not Spam\n",
              "1           3        4  ...      watson-k  Not Spam\n",
              "2           4        5  ...   causholli-m  Not Spam\n",
              "\n",
              "[3 rows x 12 columns]"
            ]
          },
          "metadata": {},
          "execution_count": 101
        }
      ]
    },
    {
      "cell_type": "code",
      "source": [
        "unique_emails = pd.DataFrame(df['X-Folder'].value_counts())\n",
        "unique_emails.reset_index(inplace=True)\n",
        "\n",
        "\n",
        "unique_emails.columns = ['folder_name', 'count']\n",
        "# top 20 folders\n",
        "unique_emails.iloc[:20,:]"
      ],
      "metadata": {
        "colab": {
          "base_uri": "https://localhost:8080/",
          "height": 669
        },
        "id": "3VHeDcG2CXPs",
        "outputId": "db36de5b-64a6-4850-801d-8d49447e6524"
      },
      "execution_count": 102,
      "outputs": [
        {
          "output_type": "execute_result",
          "data": {
            "text/html": [
              "<div>\n",
              "<style scoped>\n",
              "    .dataframe tbody tr th:only-of-type {\n",
              "        vertical-align: middle;\n",
              "    }\n",
              "\n",
              "    .dataframe tbody tr th {\n",
              "        vertical-align: top;\n",
              "    }\n",
              "\n",
              "    .dataframe thead th {\n",
              "        text-align: right;\n",
              "    }\n",
              "</style>\n",
              "<table border=\"1\" class=\"dataframe\">\n",
              "  <thead>\n",
              "    <tr style=\"text-align: right;\">\n",
              "      <th></th>\n",
              "      <th>folder_name</th>\n",
              "      <th>count</th>\n",
              "    </tr>\n",
              "  </thead>\n",
              "  <tbody>\n",
              "    <tr>\n",
              "      <th>0</th>\n",
              "      <td>\\Kay_Mann_June2001_1\\Notes Folders\\All documents</td>\n",
              "      <td>1225</td>\n",
              "    </tr>\n",
              "    <tr>\n",
              "      <th>1</th>\n",
              "      <td>\\Tanya_Jones_Dec2000\\Notes Folders\\All documents</td>\n",
              "      <td>1109</td>\n",
              "    </tr>\n",
              "    <tr>\n",
              "      <th>2</th>\n",
              "      <td>\\Jeff_Dasovich_June2001\\Notes Folders\\All docu...</td>\n",
              "      <td>1003</td>\n",
              "    </tr>\n",
              "    <tr>\n",
              "      <th>3</th>\n",
              "      <td>\\Sara_Shackleton_Dec2000_June2001_1\\Notes Fold...</td>\n",
              "      <td>992</td>\n",
              "    </tr>\n",
              "    <tr>\n",
              "      <th>4</th>\n",
              "      <td>\\Kay_Mann_June2001_2\\Notes Folders\\Discussion ...</td>\n",
              "      <td>979</td>\n",
              "    </tr>\n",
              "    <tr>\n",
              "      <th>5</th>\n",
              "      <td>\\Vincent_Kaminski_Jun2001_1\\Notes Folders\\All ...</td>\n",
              "      <td>914</td>\n",
              "    </tr>\n",
              "    <tr>\n",
              "      <th>6</th>\n",
              "      <td>\\Kay_Mann_June2001_3\\Notes Folders\\Sent</td>\n",
              "      <td>882</td>\n",
              "    </tr>\n",
              "    <tr>\n",
              "      <th>7</th>\n",
              "      <td>\\Kay_Mann_June2001_4\\Notes Folders\\'sent mail</td>\n",
              "      <td>818</td>\n",
              "    </tr>\n",
              "    <tr>\n",
              "      <th>8</th>\n",
              "      <td>\\Jeff_Dasovich_Dec2000\\Notes Folders\\All docum...</td>\n",
              "      <td>815</td>\n",
              "    </tr>\n",
              "    <tr>\n",
              "      <th>9</th>\n",
              "      <td>\\Mark_Taylor _Dec_2000\\Notes Folders\\All docum...</td>\n",
              "      <td>794</td>\n",
              "    </tr>\n",
              "    <tr>\n",
              "      <th>10</th>\n",
              "      <td>\\Vincent_Kaminski_Jun2001_2\\Notes Folders\\Disc...</td>\n",
              "      <td>729</td>\n",
              "    </tr>\n",
              "    <tr>\n",
              "      <th>11</th>\n",
              "      <td>\\Jeff_Dasovich_June2001\\Notes Folders\\Notes inbox</td>\n",
              "      <td>644</td>\n",
              "    </tr>\n",
              "    <tr>\n",
              "      <th>12</th>\n",
              "      <td>\\Tanya_Jones_June2001\\Notes Folders\\All documents</td>\n",
              "      <td>643</td>\n",
              "    </tr>\n",
              "    <tr>\n",
              "      <th>13</th>\n",
              "      <td>\\Sara_Shackleton_Dec2000_June2001_2\\Notes Fold...</td>\n",
              "      <td>581</td>\n",
              "    </tr>\n",
              "    <tr>\n",
              "      <th>14</th>\n",
              "      <td>\\kate symes 6-27-02\\Notes Folders\\All documents</td>\n",
              "      <td>576</td>\n",
              "    </tr>\n",
              "    <tr>\n",
              "      <th>15</th>\n",
              "      <td>\\Darren_Farmer_Dec2000\\Notes Folders\\All docum...</td>\n",
              "      <td>567</td>\n",
              "    </tr>\n",
              "    <tr>\n",
              "      <th>16</th>\n",
              "      <td>\\Steven_Kean_June2001_4\\Notes Folders\\Discussi...</td>\n",
              "      <td>560</td>\n",
              "    </tr>\n",
              "    <tr>\n",
              "      <th>17</th>\n",
              "      <td>\\kate symes 6-27-02\\Notes Folders\\Discussion t...</td>\n",
              "      <td>554</td>\n",
              "    </tr>\n",
              "    <tr>\n",
              "      <th>18</th>\n",
              "      <td>\\Tanya_Jones_Dec2000\\Notes Folders\\Notes inbox</td>\n",
              "      <td>545</td>\n",
              "    </tr>\n",
              "    <tr>\n",
              "      <th>19</th>\n",
              "      <td>\\Jeff_Dasovich_Dec2000\\Notes Folders\\Notes inbox</td>\n",
              "      <td>519</td>\n",
              "    </tr>\n",
              "  </tbody>\n",
              "</table>\n",
              "</div>"
            ],
            "text/plain": [
              "                                          folder_name  count\n",
              "0    \\Kay_Mann_June2001_1\\Notes Folders\\All documents   1225\n",
              "1    \\Tanya_Jones_Dec2000\\Notes Folders\\All documents   1109\n",
              "2   \\Jeff_Dasovich_June2001\\Notes Folders\\All docu...   1003\n",
              "3   \\Sara_Shackleton_Dec2000_June2001_1\\Notes Fold...    992\n",
              "4   \\Kay_Mann_June2001_2\\Notes Folders\\Discussion ...    979\n",
              "5   \\Vincent_Kaminski_Jun2001_1\\Notes Folders\\All ...    914\n",
              "6             \\Kay_Mann_June2001_3\\Notes Folders\\Sent    882\n",
              "7       \\Kay_Mann_June2001_4\\Notes Folders\\'sent mail    818\n",
              "8   \\Jeff_Dasovich_Dec2000\\Notes Folders\\All docum...    815\n",
              "9   \\Mark_Taylor _Dec_2000\\Notes Folders\\All docum...    794\n",
              "10  \\Vincent_Kaminski_Jun2001_2\\Notes Folders\\Disc...    729\n",
              "11  \\Jeff_Dasovich_June2001\\Notes Folders\\Notes inbox    644\n",
              "12  \\Tanya_Jones_June2001\\Notes Folders\\All documents    643\n",
              "13  \\Sara_Shackleton_Dec2000_June2001_2\\Notes Fold...    581\n",
              "14    \\kate symes 6-27-02\\Notes Folders\\All documents    576\n",
              "15  \\Darren_Farmer_Dec2000\\Notes Folders\\All docum...    567\n",
              "16  \\Steven_Kean_June2001_4\\Notes Folders\\Discussi...    560\n",
              "17  \\kate symes 6-27-02\\Notes Folders\\Discussion t...    554\n",
              "18     \\Tanya_Jones_Dec2000\\Notes Folders\\Notes inbox    545\n",
              "19   \\Jeff_Dasovich_Dec2000\\Notes Folders\\Notes inbox    519"
            ]
          },
          "metadata": {},
          "execution_count": 102
        }
      ]
    },
    {
      "cell_type": "code",
      "source": [
        "plt.figure(figsize=(10,6))\n",
        "sns.barplot(x='count', y='folder_name', data=unique_emails.iloc[:20, :], palette=\"Blues_d\")\n",
        "plt.title(\"Top 20 folders\")\n",
        "plt.xlabel(\"Count\")\n",
        "plt.ylabel(\"Folder_Name\")\n",
        "plt.show()"
      ],
      "metadata": {
        "colab": {
          "base_uri": "https://localhost:8080/",
          "height": 404
        },
        "id": "Ojqlo3IABU50",
        "outputId": "97c1a035-f42f-450b-a8c8-fdc7d7e017de"
      },
      "execution_count": 11,
      "outputs": [
        {
          "output_type": "display_data",
          "data": {
            "image/png": "[encoded data removed]",
            "text/plain": [
              "<Figure size 720x432 with 1 Axes>"
            ]
          },
          "metadata": {
            "needs_background": "light"
          }
        }
      ]
    },
    {
      "cell_type": "code",
      "source": [
        "top_20 = pd.DataFrame(df['employee'].value_counts()[:20])\n",
        "top_20.reset_index(inplace=True)\n",
        "top_20.columns = [\"Employee_name\", \"Counts\"]\n",
        "top_20"
      ],
      "metadata": {
        "colab": {
          "base_uri": "https://localhost:8080/",
          "height": 669
        },
        "id": "E-257qUDBWUQ",
        "outputId": "b5e9e3db-cf58-4bfe-b3d9-33f82c3ab6de"
      },
      "execution_count": 103,
      "outputs": [
        {
          "output_type": "execute_result",
          "data": {
            "text/html": [
              "<div>\n",
              "<style scoped>\n",
              "    .dataframe tbody tr th:only-of-type {\n",
              "        vertical-align: middle;\n",
              "    }\n",
              "\n",
              "    .dataframe tbody tr th {\n",
              "        vertical-align: top;\n",
              "    }\n",
              "\n",
              "    .dataframe thead th {\n",
              "        text-align: right;\n",
              "    }\n",
              "</style>\n",
              "<table border=\"1\" class=\"dataframe\">\n",
              "  <thead>\n",
              "    <tr style=\"text-align: right;\">\n",
              "      <th></th>\n",
              "      <th>Employee_name</th>\n",
              "      <th>Counts</th>\n",
              "    </tr>\n",
              "  </thead>\n",
              "  <tbody>\n",
              "    <tr>\n",
              "      <th>0</th>\n",
              "      <td>kaminski-v</td>\n",
              "      <td>5152</td>\n",
              "    </tr>\n",
              "    <tr>\n",
              "      <th>1</th>\n",
              "      <td>dasovich-j</td>\n",
              "      <td>5032</td>\n",
              "    </tr>\n",
              "    <tr>\n",
              "      <th>2</th>\n",
              "      <td>kean-s</td>\n",
              "      <td>4528</td>\n",
              "    </tr>\n",
              "    <tr>\n",
              "      <th>3</th>\n",
              "      <td>mann-k</td>\n",
              "      <td>4494</td>\n",
              "    </tr>\n",
              "    <tr>\n",
              "      <th>4</th>\n",
              "      <td>jones-t</td>\n",
              "      <td>3778</td>\n",
              "    </tr>\n",
              "    <tr>\n",
              "      <th>5</th>\n",
              "      <td>shackleton-s</td>\n",
              "      <td>3607</td>\n",
              "    </tr>\n",
              "    <tr>\n",
              "      <th>6</th>\n",
              "      <td>taylor-m</td>\n",
              "      <td>2591</td>\n",
              "    </tr>\n",
              "    <tr>\n",
              "      <th>7</th>\n",
              "      <td>farmer-d</td>\n",
              "      <td>2483</td>\n",
              "    </tr>\n",
              "    <tr>\n",
              "      <th>8</th>\n",
              "      <td>germany-c</td>\n",
              "      <td>2305</td>\n",
              "    </tr>\n",
              "    <tr>\n",
              "      <th>9</th>\n",
              "      <td>beck-s</td>\n",
              "      <td>2217</td>\n",
              "    </tr>\n",
              "    <tr>\n",
              "      <th>10</th>\n",
              "      <td>nemec-g</td>\n",
              "      <td>2082</td>\n",
              "    </tr>\n",
              "    <tr>\n",
              "      <th>11</th>\n",
              "      <td>symes-k</td>\n",
              "      <td>1977</td>\n",
              "    </tr>\n",
              "    <tr>\n",
              "      <th>12</th>\n",
              "      <td>scott-s</td>\n",
              "      <td>1518</td>\n",
              "    </tr>\n",
              "    <tr>\n",
              "      <th>13</th>\n",
              "      <td>sanders-r</td>\n",
              "      <td>1374</td>\n",
              "    </tr>\n",
              "    <tr>\n",
              "      <th>14</th>\n",
              "      <td>bass-e</td>\n",
              "      <td>1365</td>\n",
              "    </tr>\n",
              "    <tr>\n",
              "      <th>15</th>\n",
              "      <td>rogers-b</td>\n",
              "      <td>1203</td>\n",
              "    </tr>\n",
              "    <tr>\n",
              "      <th>16</th>\n",
              "      <td>campbell-l</td>\n",
              "      <td>1196</td>\n",
              "    </tr>\n",
              "    <tr>\n",
              "      <th>17</th>\n",
              "      <td>guzman-m</td>\n",
              "      <td>1147</td>\n",
              "    </tr>\n",
              "    <tr>\n",
              "      <th>18</th>\n",
              "      <td>shapiro-r</td>\n",
              "      <td>1103</td>\n",
              "    </tr>\n",
              "    <tr>\n",
              "      <th>19</th>\n",
              "      <td>lay-k</td>\n",
              "      <td>1101</td>\n",
              "    </tr>\n",
              "  </tbody>\n",
              "</table>\n",
              "</div>"
            ],
            "text/plain": [
              "   Employee_name  Counts\n",
              "0     kaminski-v    5152\n",
              "1     dasovich-j    5032\n",
              "2         kean-s    4528\n",
              "3         mann-k    4494\n",
              "4        jones-t    3778\n",
              "5   shackleton-s    3607\n",
              "6       taylor-m    2591\n",
              "7       farmer-d    2483\n",
              "8      germany-c    2305\n",
              "9         beck-s    2217\n",
              "10       nemec-g    2082\n",
              "11       symes-k    1977\n",
              "12       scott-s    1518\n",
              "13     sanders-r    1374\n",
              "14        bass-e    1365\n",
              "15      rogers-b    1203\n",
              "16    campbell-l    1196\n",
              "17      guzman-m    1147\n",
              "18     shapiro-r    1103\n",
              "19         lay-k    1101"
            ]
          },
          "metadata": {},
          "execution_count": 103
        }
      ]
    },
    {
      "cell_type": "code",
      "source": [
        "import datetime\n",
        "from dateutil import parser\n",
        "\n",
        "# this is sample example\n",
        "x = parser.parse(\"Fri, 4 May 2001 13:51:00 -0700 (PDT)\")\n",
        "print(x.strftime(\"%d-%m-%Y %H:%M:%S\"))"
      ],
      "metadata": {
        "colab": {
          "base_uri": "https://localhost:8080/"
        },
        "id": "v4y1gZXpBZhk",
        "outputId": "2e1f84fe-e550-4d85-d319-0ae35e43a017"
      },
      "execution_count": 104,
      "outputs": [
        {
          "output_type": "stream",
          "name": "stdout",
          "text": [
            "04-05-2001 13:51:00\n"
          ]
        }
      ]
    },
    {
      "cell_type": "code",
      "source": [
        "def change_type(dates):\n",
        "    column = []\n",
        "    \n",
        "    for date in dates:\n",
        "        column.append(parser.parse(date).strftime(\"%d-%m-%Y %H:%M:%S\"))\n",
        "    return column\n",
        "\n",
        "df['date'] = change_type(df['date'])\n",
        "df.head(2)"
      ],
      "metadata": {
        "colab": {
          "base_uri": "https://localhost:8080/",
          "height": 267
        },
        "id": "9lGg_4H8Bdr7",
        "outputId": "0c142adc-0bbb-437d-c395-7ae3223e1e75"
      },
      "execution_count": 105,
      "outputs": [
        {
          "output_type": "execute_result",
          "data": {
            "text/html": [
              "<div>\n",
              "<style scoped>\n",
              "    .dataframe tbody tr th:only-of-type {\n",
              "        vertical-align: middle;\n",
              "    }\n",
              "\n",
              "    .dataframe tbody tr th {\n",
              "        vertical-align: top;\n",
              "    }\n",
              "\n",
              "    .dataframe thead th {\n",
              "        text-align: right;\n",
              "    }\n",
              "</style>\n",
              "<table border=\"1\" class=\"dataframe\">\n",
              "  <thead>\n",
              "    <tr style=\"text-align: right;\">\n",
              "      <th></th>\n",
              "      <th>Unnamed: 0</th>\n",
              "      <th>Unnamed</th>\n",
              "      <th>file</th>\n",
              "      <th>message</th>\n",
              "      <th>date</th>\n",
              "      <th>subject</th>\n",
              "      <th>X-Folder</th>\n",
              "      <th>X-From</th>\n",
              "      <th>X-To</th>\n",
              "      <th>body</th>\n",
              "      <th>employee</th>\n",
              "      <th>label</th>\n",
              "    </tr>\n",
              "  </thead>\n",
              "  <tbody>\n",
              "    <tr>\n",
              "      <th>0</th>\n",
              "      <td>1</td>\n",
              "      <td>2</td>\n",
              "      <td>shackleton-s/notes_inbox/2286.</td>\n",
              "      <td>Message-ID: &lt;12206143.1075844795936.JavaMail.e...</td>\n",
              "      <td>07-05-2001 02:37:00</td>\n",
              "      <td>(01-149) Silver and Gold Options Expiration Op...</td>\n",
              "      <td>\\Sara_Shackleton_Dec2000_June2001_2\\Notes Fold...</td>\n",
              "      <td>exchangeinfo@nymex.com</td>\n",
              "      <td>sara.shackleton@enron.com</td>\n",
              "      <td>Notice No. 01-149\\r\\nMay 7, 2001\\r\\n\\r\\nTO:\\r\\...</td>\n",
              "      <td>shackleton-s</td>\n",
              "      <td>Not Spam</td>\n",
              "    </tr>\n",
              "    <tr>\n",
              "      <th>1</th>\n",
              "      <td>3</td>\n",
              "      <td>4</td>\n",
              "      <td>watson-k/sent_items/146.</td>\n",
              "      <td>Message-ID: &lt;6768695.1075852893849.JavaMail.ev...</td>\n",
              "      <td>14-08-2001 07:56:51</td>\n",
              "      <td>FW: Video Conference Room</td>\n",
              "      <td>\\KWATSON (Non-Privileged)\\Watson, Kimberly\\Sen...</td>\n",
              "      <td>Watson, Kimberly &lt;/O=ENRON/OU=NA/CN=RECIPIENTS...</td>\n",
              "      <td>Goradia, Pallavi &lt;/O=ENRON/OU=NA/CN=RECIPIENTS...</td>\n",
              "      <td>Palu,\\r\\n \\r\\nAre we getting a portion of the ...</td>\n",
              "      <td>watson-k</td>\n",
              "      <td>Not Spam</td>\n",
              "    </tr>\n",
              "  </tbody>\n",
              "</table>\n",
              "</div>"
            ],
            "text/plain": [
              "   Unnamed: 0  Unnamed  ...      employee     label\n",
              "0           1        2  ...  shackleton-s  Not Spam\n",
              "1           3        4  ...      watson-k  Not Spam\n",
              "\n",
              "[2 rows x 12 columns]"
            ]
          },
          "metadata": {},
          "execution_count": 105
        }
      ]
    },
    {
      "cell_type": "code",
      "source": [
        "print(df['X-Folder'][0])\n",
        "\n",
        "# we only want last folder name\n",
        "df['X-Folder'][0].split(\"\\\\\")[-1]"
      ],
      "metadata": {
        "colab": {
          "base_uri": "https://localhost:8080/",
          "height": 52
        },
        "id": "yzJSaXOLBf2f",
        "outputId": "4a719760-02f7-4841-d332-249f1a40b381"
      },
      "execution_count": 106,
      "outputs": [
        {
          "output_type": "stream",
          "name": "stdout",
          "text": [
            "\\Sara_Shackleton_Dec2000_June2001_2\\Notes Folders\\Notes inbox\n"
          ]
        },
        {
          "output_type": "execute_result",
          "data": {
            "application/vnd.google.colaboratory.intrinsic+json": {
              "type": "string"
            },
            "text/plain": [
              "'Notes inbox'"
            ]
          },
          "metadata": {},
          "execution_count": 106
        }
      ]
    },
    {
      "cell_type": "code",
      "source": [
        "def preprocess_folder(folders):\n",
        "    column = []\n",
        "    for folder in folders:\n",
        "        if (folder is None or folder == \"\"):\n",
        "            column.append(np.nan)\n",
        "        else:\n",
        "            column.append(folder.split(\"\\\\\")[-1].lower())\n",
        "    return column\n",
        "\n",
        "df['X-Folder'] = preprocess_folder(df['X-Folder'])\n",
        "df.head(2)"
      ],
      "metadata": {
        "colab": {
          "base_uri": "https://localhost:8080/",
          "height": 267
        },
        "id": "g90UsF2iBhrt",
        "outputId": "e21b7c6a-4f40-4fb2-8397-b7efe4f55eec"
      },
      "execution_count": 107,
      "outputs": [
        {
          "output_type": "execute_result",
          "data": {
            "text/html": [
              "<div>\n",
              "<style scoped>\n",
              "    .dataframe tbody tr th:only-of-type {\n",
              "        vertical-align: middle;\n",
              "    }\n",
              "\n",
              "    .dataframe tbody tr th {\n",
              "        vertical-align: top;\n",
              "    }\n",
              "\n",
              "    .dataframe thead th {\n",
              "        text-align: right;\n",
              "    }\n",
              "</style>\n",
              "<table border=\"1\" class=\"dataframe\">\n",
              "  <thead>\n",
              "    <tr style=\"text-align: right;\">\n",
              "      <th></th>\n",
              "      <th>Unnamed: 0</th>\n",
              "      <th>Unnamed</th>\n",
              "      <th>file</th>\n",
              "      <th>message</th>\n",
              "      <th>date</th>\n",
              "      <th>subject</th>\n",
              "      <th>X-Folder</th>\n",
              "      <th>X-From</th>\n",
              "      <th>X-To</th>\n",
              "      <th>body</th>\n",
              "      <th>employee</th>\n",
              "      <th>label</th>\n",
              "    </tr>\n",
              "  </thead>\n",
              "  <tbody>\n",
              "    <tr>\n",
              "      <th>0</th>\n",
              "      <td>1</td>\n",
              "      <td>2</td>\n",
              "      <td>shackleton-s/notes_inbox/2286.</td>\n",
              "      <td>Message-ID: &lt;12206143.1075844795936.JavaMail.e...</td>\n",
              "      <td>07-05-2001 02:37:00</td>\n",
              "      <td>(01-149) Silver and Gold Options Expiration Op...</td>\n",
              "      <td>notes inbox</td>\n",
              "      <td>exchangeinfo@nymex.com</td>\n",
              "      <td>sara.shackleton@enron.com</td>\n",
              "      <td>Notice No. 01-149\\r\\nMay 7, 2001\\r\\n\\r\\nTO:\\r\\...</td>\n",
              "      <td>shackleton-s</td>\n",
              "      <td>Not Spam</td>\n",
              "    </tr>\n",
              "    <tr>\n",
              "      <th>1</th>\n",
              "      <td>3</td>\n",
              "      <td>4</td>\n",
              "      <td>watson-k/sent_items/146.</td>\n",
              "      <td>Message-ID: &lt;6768695.1075852893849.JavaMail.ev...</td>\n",
              "      <td>14-08-2001 07:56:51</td>\n",
              "      <td>FW: Video Conference Room</td>\n",
              "      <td>sent items</td>\n",
              "      <td>Watson, Kimberly &lt;/O=ENRON/OU=NA/CN=RECIPIENTS...</td>\n",
              "      <td>Goradia, Pallavi &lt;/O=ENRON/OU=NA/CN=RECIPIENTS...</td>\n",
              "      <td>Palu,\\r\\n \\r\\nAre we getting a portion of the ...</td>\n",
              "      <td>watson-k</td>\n",
              "      <td>Not Spam</td>\n",
              "    </tr>\n",
              "  </tbody>\n",
              "</table>\n",
              "</div>"
            ],
            "text/plain": [
              "   Unnamed: 0  Unnamed  ...      employee     label\n",
              "0           1        2  ...  shackleton-s  Not Spam\n",
              "1           3        4  ...      watson-k  Not Spam\n",
              "\n",
              "[2 rows x 12 columns]"
            ]
          },
          "metadata": {},
          "execution_count": 107
        }
      ]
    },
    {
      "cell_type": "code",
      "source": [
        "def replace_empty_with_nan(subject):\n",
        "    column = []\n",
        "    for val in subject:\n",
        "        if (val == \"\"):\n",
        "            column.append(np.nan) \n",
        "        else:\n",
        "            column.append(val)\n",
        "    return column"
      ],
      "metadata": {
        "id": "KSoOxxZvBjYa"
      },
      "execution_count": 108,
      "outputs": []
    },
    {
      "cell_type": "code",
      "source": [
        "df['subject'] = replace_empty_with_nan(df['subject'])\n",
        "df['X-To'] = replace_empty_with_nan(df['X-To'])"
      ],
      "metadata": {
        "id": "rsRZePM9Bm25"
      },
      "execution_count": 109,
      "outputs": []
    },
    {
      "cell_type": "code",
      "source": [
        "# drop missing value rows\n",
        "df.dropna(axis=0, inplace=True)\n",
        "len(df)"
      ],
      "metadata": {
        "id": "Nb92T6dfBo7W",
        "colab": {
          "base_uri": "https://localhost:8080/"
        },
        "outputId": "8a367055-1d87-4845-fef0-205c1791b559"
      },
      "execution_count": 112,
      "outputs": [
        {
          "output_type": "execute_result",
          "data": {
            "text/plain": [
              "94592"
            ]
          },
          "metadata": {},
          "execution_count": 112
        }
      ]
    },
    {
      "cell_type": "code",
      "source": [
        "#Feature creation\n",
        "from sklearn.preprocessing import LabelEncoder\n",
        "label_encoder = LabelEncoder()\n",
        "\n",
        "df['le_Xfrom'] = label_encoder.fit_transform(df['X-From'])\n",
        "df['le_subject'] = label_encoder.fit_transform(df['subject'])\n",
        "df['date'] = pd.to_datetime(df['date'])\n",
        "#df.dtypes\n",
        "df['hour'] = df.date.dt.hour\n",
        "df['weekday'] = df.date.dt.weekday\n"
      ],
      "metadata": {
        "id": "thpPdi_eRpLx"
      },
      "execution_count": 111,
      "outputs": []
    },
    {
      "cell_type": "code",
      "source": [
        "#decision tree using all features\n",
        "X = df[['hour', 'weekday', 'le_subject', 'le_Xfrom']]\n",
        "y = df['label']\n",
        "\n",
        "tree_scores = [None]*100\n",
        "depth_of_tree = [None]*100\n",
        "leaves_of_tree = [None]*100\n",
        "\n",
        "for i in range(0,99):\n",
        "\t#Implement train_test_split\n",
        "\tX_train, X_test, Y_train, Y_test = train_test_split(X, y, test_size=.2)\n",
        "\n",
        "\t#code for  k means cluster analysis with sklearn\n",
        "\t#km = KMeans(n_clusters=2).fit(X_train)\n",
        " \n",
        "\t#code for Decision tree classifier\n",
        "\tclf = DecisionTreeClassifier(max_depth=5).fit(X_train, Y_train)\n",
        "\n",
        "\t#y_pred = km.predict(X_test)\n",
        "\ty_tree_pred = clf.predict(X_test)\n",
        "\t#kmeans_scores[i] = accuracy_score(y_pred, Y_test)\n",
        "\ttree_scores[i] = clf.score(X_test, Y_test)\n",
        "\tdepth_of_tree[i] = clf.get_depth()\n",
        "\tleaves_of_tree[i] = clf.get_n_leaves()\n",
        " \n",
        "\n",
        "print(\"Tree Accuracy:\\n\", pd.Series(tree_scores).describe())\n",
        "print(\"Tree Depths:\\n\", pd.Series(depth_of_tree).describe())\n",
        "print(\"Tree Depths:\\n\", pd.Series(leaves_of_tree).describe())"
      ],
      "metadata": {
        "id": "1vYWZJU3OryH",
        "colab": {
          "base_uri": "https://localhost:8080/"
        },
        "outputId": "f927f658-ece3-40d0-a1aa-52a303b8027a"
      },
      "execution_count": 47,
      "outputs": [
        {
          "output_type": "stream",
          "name": "stdout",
          "text": [
            "Tree Accuracy:\n",
            " count    99.000000\n",
            "mean      0.950216\n",
            "std       0.001807\n",
            "min       0.945082\n",
            "25%       0.948993\n",
            "50%       0.950314\n",
            "75%       0.951372\n",
            "max       0.953803\n",
            "dtype: float64\n",
            "Tree Depths:\n",
            " count    99.0\n",
            "mean      5.0\n",
            "std       0.0\n",
            "min       5.0\n",
            "25%       5.0\n",
            "50%       5.0\n",
            "75%       5.0\n",
            "max       5.0\n",
            "dtype: float64\n",
            "Tree Depths:\n",
            " count    99.000000\n",
            "mean     26.868687\n",
            "std       0.443697\n",
            "min      24.000000\n",
            "25%      27.000000\n",
            "50%      27.000000\n",
            "75%      27.000000\n",
            "max      27.000000\n",
            "dtype: float64\n"
          ]
        }
      ]
    },
    {
      "cell_type": "code",
      "source": [
        "#decision tree using only label encoded features which is the most accurate \n",
        "X = df[['le_subject', 'le_Xfrom']]\n",
        "y = df['label']\n",
        "\n",
        "tree_scores = [None]*100\n",
        "depth_of_tree = [None]*100\n",
        "leaves_of_tree = [None]*100\n",
        "\n",
        "for i in range(0,99):\n",
        "\t#Implement train_test_split\n",
        "\tX_train, X_test, Y_train, Y_test = train_test_split(X, y, test_size=.2)\n",
        "\n",
        "\t#code for  k means cluster analysis with sklearn\n",
        "\t#km = KMeans(n_clusters=2).fit(X_train)\n",
        " \n",
        "\t#code for Decision tree classifier\n",
        "\tclf = DecisionTreeClassifier(max_depth=5).fit(X_train, Y_train)\n",
        "\n",
        "\t#y_pred = km.predict(X_test)\n",
        "\ty_tree_pred = clf.predict(X_test)\n",
        "\t#kmeans_scores[i] = accuracy_score(y_pred, Y_test)\n",
        "\ttree_scores[i] = clf.score(X_test, Y_test)\n",
        "\tdepth_of_tree[i] = clf.get_depth()\n",
        "\tleaves_of_tree[i] = clf.get_n_leaves()\n",
        " \n",
        "\n",
        "print(\"Tree Accuracy:\\n\", pd.Series(tree_scores).describe())\n",
        "print(\"Tree Depths:\\n\", pd.Series(depth_of_tree).describe())\n",
        "print(\"Tree Depths:\\n\", pd.Series(leaves_of_tree).describe())"
      ],
      "metadata": {
        "colab": {
          "base_uri": "https://localhost:8080/"
        },
        "id": "kCdQitYQ9z54",
        "outputId": "728d72c3-d008-4093-ec35-25e08d0c1f64"
      },
      "execution_count": 48,
      "outputs": [
        {
          "output_type": "stream",
          "name": "stdout",
          "text": [
            "Tree Accuracy:\n",
            " count    99.000000\n",
            "mean      0.961158\n",
            "std       0.001414\n",
            "min       0.958560\n",
            "25%       0.960040\n",
            "50%       0.961150\n",
            "75%       0.962075\n",
            "max       0.964956\n",
            "dtype: float64\n",
            "Tree Depths:\n",
            " count    99.0\n",
            "mean      5.0\n",
            "std       0.0\n",
            "min       5.0\n",
            "25%       5.0\n",
            "50%       5.0\n",
            "75%       5.0\n",
            "max       5.0\n",
            "dtype: float64\n",
            "Tree Depths:\n",
            " count    99.000000\n",
            "mean     21.030303\n",
            "std       0.172292\n",
            "min      21.000000\n",
            "25%      21.000000\n",
            "50%      21.000000\n",
            "75%      21.000000\n",
            "max      22.000000\n",
            "dtype: float64\n"
          ]
        }
      ]
    },
    {
      "cell_type": "code",
      "source": [
        "X = df[['hour', 'weekday']]\n",
        "y = df['label']\n",
        "\n",
        "tree_scores = [None]*100\n",
        "depth_of_tree = [None]*100\n",
        "leaves_of_tree = [None]*100\n",
        "\n",
        "for i in range(0,99):\n",
        "\t#Implement train_test_split\n",
        "\tX_train, X_test, Y_train, Y_test = train_test_split(X, y, test_size=.2)\n",
        "\n",
        "\t#code for  k means cluster analysis with sklearn\n",
        "\t#km = KMeans(n_clusters=2).fit(X_train)\n",
        " \n",
        "\t#code for Decision tree classifier\n",
        "\tclf = DecisionTreeClassifier(max_depth=5).fit(X_train, Y_train)\n",
        "\n",
        "\t#y_pred = km.predict(X_test)\n",
        "\ty_tree_pred = clf.predict(X_test)\n",
        "\t#kmeans_scores[i] = accuracy_score(y_pred, Y_test)\n",
        "\ttree_scores[i] = clf.score(X_test, Y_test)\n",
        "\tdepth_of_tree[i] = clf.get_depth()\n",
        "\tleaves_of_tree[i] = clf.get_n_leaves()\n",
        " \n",
        "\n",
        "print(\"Tree Accuracy:\\n\", pd.Series(tree_scores).describe())\n",
        "print(\"Tree Depths:\\n\", pd.Series(depth_of_tree).describe())\n",
        "print(\"Tree Depths:\\n\", pd.Series(leaves_of_tree).describe())"
      ],
      "metadata": {
        "colab": {
          "base_uri": "https://localhost:8080/"
        },
        "id": "g5AQdxXz-PVE",
        "outputId": "6b13c9e9-429d-474c-bd6e-cc3ac3769eb8"
      },
      "execution_count": 45,
      "outputs": [
        {
          "output_type": "stream",
          "name": "stdout",
          "text": [
            "Tree Accuracy:\n",
            " count    99.000000\n",
            "mean      0.910863\n",
            "std       0.001895\n",
            "min       0.906338\n",
            "25%       0.909641\n",
            "50%       0.910725\n",
            "75%       0.912284\n",
            "max       0.914953\n",
            "dtype: float64\n",
            "Tree Depths:\n",
            " count    99.0\n",
            "mean      5.0\n",
            "std       0.0\n",
            "min       5.0\n",
            "25%       5.0\n",
            "50%       5.0\n",
            "75%       5.0\n",
            "max       5.0\n",
            "dtype: float64\n",
            "Tree Depths:\n",
            " count    99.000000\n",
            "mean     26.585859\n",
            "std       0.756065\n",
            "min      25.000000\n",
            "25%      26.000000\n",
            "50%      27.000000\n",
            "75%      27.000000\n",
            "max      28.000000\n",
            "dtype: float64\n"
          ]
        }
      ]
    },
    {
      "cell_type": "markdown",
      "source": [
        "The features I'm going to be using for the optimal datamodel are gonna be the label encoded subject and encoded X-from given that these two features give the highest accuracy even more than using all of the features. "
      ],
      "metadata": {
        "id": "rN1e3Pu6_dEA"
      }
    },
    {
      "cell_type": "code",
      "source": [
        "tdata = pd.read_csv(\"NewData (1).csv\")\n",
        "# transform the email into correct format\n",
        "message = tdata.loc[1]['message']\n",
        "#uses the new library 'email'\n",
        "e = email.message_from_string(message)\n",
        "\n",
        "e.items()\n",
        "# get date\n",
        "e.get('Date')\n",
        "# show message body\n",
        "e.get_payload()"
      ],
      "metadata": {
        "colab": {
          "base_uri": "https://localhost:8080/",
          "height": 120
        },
        "id": "cyiDeXiBAD3C",
        "outputId": "afd45543-dfce-464b-d7cf-bc04e2046e76"
      },
      "execution_count": 93,
      "outputs": [
        {
          "output_type": "execute_result",
          "data": {
            "application/vnd.google.colaboratory.intrinsic+json": {
              "type": "string"
            },
            "text/plain": [
              "'\\r\\n[IMAGE] =09\\r\\n\\r\\n\\r\\n    Search   BooksAll Products  for         Dear Amazon.com Customer,  As s=\\r\\nomeone who has purchased books by Henry Cloud in the past, you might  like =\\r\\nto know that How People Grow : What the Bible Reveals About  Personal Growt=\\r\\nh is now available.  You can order your copy at a savings  of 30% by follow=\\r\\ning the link below.      [IMAGE]  How  People Grow : What the Bible Reveals=\\r\\n About Personal Growth  List Price:  $19.99  Our Price: $13.99  You Save: $=\\r\\n6.00  (30%)    [IMAGE]   Amazon.com Whether you\\'re hoping to achieve person=\\r\\nal and spiritual growth or are  looking for guidance to help others, you\\'ll=\\r\\n find practical and proven  wisdom in Drs. Henry Cloud and John Townsend\\'s =\\r\\nHow People Grow: What the  Bible Reveals About Personal Growth. Starting wi=\\r\\nth the premise that all  growth is spiritual growth, the authors then expou=\\r\\nnd on the concept. Cloud  postulates that we spend too much time focusing o=\\r\\nn problems, rather than on  root issues. \"We are not just to help others \\'f=\\r\\neel better\\' or...  Read  more     [IMAGE]  [IMAGE]   [IMAGE]   [IMAGE]    B=\\r\\nuilding  a Church of Small Groups : A Place Where Nobody Stands Alone  by B=\\r\\nill Donahue, Russ Robinson     Transitioning  by Dan Southerland     Soul  =\\r\\nSurvivor: How My Faith Survived the Church  by Philip Yancey      Sign  up =\\r\\nfor book recommendations by e-mail   See  other titles in Christian Books  =\\r\\n    Sincerely,   Katherine Koberg Editor Amazon.com   =09\\r\\n\\r\\n\\r\\n We hope you enjoyed receiving  this message. However, if you\\'d rather not =\\r\\nreceive future e-mails of this  sort from Amazon.com, please visit your  Am=\\r\\nazon.com Account  page.  Under the Your Account Settings heading, click the=\\r\\n \"Update your  communication preferences\" link.    =09\\r\\n\\r\\nPlease note that this message  was sent to the following e-mail address: pa=\\r\\nllen@enron.com'"
            ]
          },
          "metadata": {},
          "execution_count": 93
        }
      ]
    },
    {
      "cell_type": "code",
      "source": [
        "# now we add those fields into our 'df' dataframe\n",
        "def get_field(field, messages):\n",
        "    column = []\n",
        "    for message in messages:\n",
        "        e = email.message_from_string(message)\n",
        "        column.append(e.get(field))\n",
        "    return column"
      ],
      "metadata": {
        "id": "HocjuGRdC_vR"
      },
      "execution_count": 94,
      "outputs": []
    },
    {
      "cell_type": "code",
      "source": [
        "tdata['date'] = get_field(\"Date\", tdata['message'])\n",
        "tdata['subject'] = get_field(\"Subject\", tdata['message'])\n",
        "tdata['X-Folder'] = get_field(\"X-Folder\", tdata['message'])\n",
        "tdata['X-From'] = get_field(\"X-From\", tdata['message'])\n",
        "tdata['X-To'] = get_field(\"X-To\", tdata['message'])\n",
        "tdata.head(3)\n",
        "print(len(tdata))"
      ],
      "metadata": {
        "colab": {
          "base_uri": "https://localhost:8080/"
        },
        "id": "8Xe_cQgCDE-3",
        "outputId": "6deabe01-5866-43c0-9e4a-1f3a18f34c47"
      },
      "execution_count": 95,
      "outputs": [
        {
          "output_type": "stream",
          "name": "stdout",
          "text": [
            "10000\n"
          ]
        }
      ]
    },
    {
      "cell_type": "code",
      "source": [
        "def body(messages):\n",
        "    column = []\n",
        "    for message in messages:\n",
        "        e = email.message_from_string(message)\n",
        "        column.append(e.get_payload())\n",
        "    return column\n",
        "\n",
        "tdata['body'] = body(tdata['message'])\n",
        "tdata.head(3)"
      ],
      "metadata": {
        "colab": {
          "base_uri": "https://localhost:8080/",
          "height": 434
        },
        "id": "m9lENnSxDjtq",
        "outputId": "78ea7599-d68f-4125-a282-022a9be865b3"
      },
      "execution_count": 78,
      "outputs": [
        {
          "output_type": "execute_result",
          "data": {
            "text/html": [
              "<div>\n",
              "<style scoped>\n",
              "    .dataframe tbody tr th:only-of-type {\n",
              "        vertical-align: middle;\n",
              "    }\n",
              "\n",
              "    .dataframe tbody tr th {\n",
              "        vertical-align: top;\n",
              "    }\n",
              "\n",
              "    .dataframe thead th {\n",
              "        text-align: right;\n",
              "    }\n",
              "</style>\n",
              "<table border=\"1\" class=\"dataframe\">\n",
              "  <thead>\n",
              "    <tr style=\"text-align: right;\">\n",
              "      <th></th>\n",
              "      <th>Unnamed: 0</th>\n",
              "      <th>Unnamed</th>\n",
              "      <th>file</th>\n",
              "      <th>message</th>\n",
              "      <th>label</th>\n",
              "      <th>date</th>\n",
              "      <th>subject</th>\n",
              "      <th>X-Folder</th>\n",
              "      <th>X-From</th>\n",
              "      <th>X-To</th>\n",
              "      <th>body</th>\n",
              "    </tr>\n",
              "  </thead>\n",
              "  <tbody>\n",
              "    <tr>\n",
              "      <th>0</th>\n",
              "      <td>0</td>\n",
              "      <td>1</td>\n",
              "      <td>badeer-r/discussion_threads/212.</td>\n",
              "      <td>Message-ID: &lt;13581696.1075863601488.JavaMail.e...</td>\n",
              "      <td>0.0</td>\n",
              "      <td>Thu, 24 Aug 2000 09:55:00 -0700 (PDT)</td>\n",
              "      <td>Total Transfer Capabilities</td>\n",
              "      <td>\\Robert_Badeer_Aug2000\\Notes Folders\\Discussio...</td>\n",
              "      <td>\"Neeley, Myrna\" &lt;MNeeley@caiso.com&gt;</td>\n",
              "      <td>Market Status &lt;MarketStatus@caiso.com&gt;, PX Rea...</td>\n",
              "      <td>Attached are the Total Transfer Capabilities (...</td>\n",
              "    </tr>\n",
              "    <tr>\n",
              "      <th>1</th>\n",
              "      <td>1</td>\n",
              "      <td>2</td>\n",
              "      <td>allen-p/deleted_items/189.</td>\n",
              "      <td>Message-ID: &lt;7027882.1075858635275.JavaMail.ev...</td>\n",
              "      <td>0.0</td>\n",
              "      <td>Wed, 24 Oct 2001 21:45:42 -0700 (PDT)</td>\n",
              "      <td>Save 30% on \"How People Grow : What the Bible ...</td>\n",
              "      <td>\\PALLEN (Non-Privileged)\\Allen, Phillip K.\\Del...</td>\n",
              "      <td>\"Amazon.com\" &lt;book-news@amazon.com&gt;@ENRON</td>\n",
              "      <td>pallen@enron.com</td>\n",
              "      <td>\\r\\n[IMAGE] =09\\r\\n\\r\\n\\r\\n    Search   BooksA...</td>\n",
              "    </tr>\n",
              "    <tr>\n",
              "      <th>2</th>\n",
              "      <td>2</td>\n",
              "      <td>3</td>\n",
              "      <td>arnold-j/all_documents/331.</td>\n",
              "      <td>Message-ID: &lt;23580308.1075857574590.JavaMail.e...</td>\n",
              "      <td>0.0</td>\n",
              "      <td>Wed, 4 Oct 2000 01:23:00 -0700 (PDT)</td>\n",
              "      <td>Re: ABN</td>\n",
              "      <td>\\John_Arnold_Dec2000\\Notes Folders\\All documents</td>\n",
              "      <td>John Arnold</td>\n",
              "      <td>Sarah Wesner</td>\n",
              "      <td>Credit lines are like bandwidth.  Create the c...</td>\n",
              "    </tr>\n",
              "  </tbody>\n",
              "</table>\n",
              "</div>"
            ],
            "text/plain": [
              "   Unnamed: 0  ...                                               body\n",
              "0           0  ...  Attached are the Total Transfer Capabilities (...\n",
              "1           1  ...  \\r\\n[IMAGE] =09\\r\\n\\r\\n\\r\\n    Search   BooksA...\n",
              "2           2  ...  Credit lines are like bandwidth.  Create the c...\n",
              "\n",
              "[3 rows x 11 columns]"
            ]
          },
          "metadata": {},
          "execution_count": 78
        }
      ]
    },
    {
      "cell_type": "code",
      "source": [
        "def employee(file):\n",
        "    column = []\n",
        "    for string in file:\n",
        "        column.append(string.split(\"/\")[0])\n",
        "    return column\n",
        "\n",
        "tdata['employee'] = employee(tdata['file'])\n",
        "tdata.head(3)"
      ],
      "metadata": {
        "colab": {
          "base_uri": "https://localhost:8080/",
          "height": 434
        },
        "id": "793AsLZqDv1D",
        "outputId": "34c5984f-272e-4076-fce2-f8b5ddd86253"
      },
      "execution_count": 79,
      "outputs": [
        {
          "output_type": "execute_result",
          "data": {
            "text/html": [
              "<div>\n",
              "<style scoped>\n",
              "    .dataframe tbody tr th:only-of-type {\n",
              "        vertical-align: middle;\n",
              "    }\n",
              "\n",
              "    .dataframe tbody tr th {\n",
              "        vertical-align: top;\n",
              "    }\n",
              "\n",
              "    .dataframe thead th {\n",
              "        text-align: right;\n",
              "    }\n",
              "</style>\n",
              "<table border=\"1\" class=\"dataframe\">\n",
              "  <thead>\n",
              "    <tr style=\"text-align: right;\">\n",
              "      <th></th>\n",
              "      <th>Unnamed: 0</th>\n",
              "      <th>Unnamed</th>\n",
              "      <th>file</th>\n",
              "      <th>message</th>\n",
              "      <th>label</th>\n",
              "      <th>date</th>\n",
              "      <th>subject</th>\n",
              "      <th>X-Folder</th>\n",
              "      <th>X-From</th>\n",
              "      <th>X-To</th>\n",
              "      <th>body</th>\n",
              "      <th>employee</th>\n",
              "    </tr>\n",
              "  </thead>\n",
              "  <tbody>\n",
              "    <tr>\n",
              "      <th>0</th>\n",
              "      <td>0</td>\n",
              "      <td>1</td>\n",
              "      <td>badeer-r/discussion_threads/212.</td>\n",
              "      <td>Message-ID: &lt;13581696.1075863601488.JavaMail.e...</td>\n",
              "      <td>0.0</td>\n",
              "      <td>Thu, 24 Aug 2000 09:55:00 -0700 (PDT)</td>\n",
              "      <td>Total Transfer Capabilities</td>\n",
              "      <td>\\Robert_Badeer_Aug2000\\Notes Folders\\Discussio...</td>\n",
              "      <td>\"Neeley, Myrna\" &lt;MNeeley@caiso.com&gt;</td>\n",
              "      <td>Market Status &lt;MarketStatus@caiso.com&gt;, PX Rea...</td>\n",
              "      <td>Attached are the Total Transfer Capabilities (...</td>\n",
              "      <td>badeer-r</td>\n",
              "    </tr>\n",
              "    <tr>\n",
              "      <th>1</th>\n",
              "      <td>1</td>\n",
              "      <td>2</td>\n",
              "      <td>allen-p/deleted_items/189.</td>\n",
              "      <td>Message-ID: &lt;7027882.1075858635275.JavaMail.ev...</td>\n",
              "      <td>0.0</td>\n",
              "      <td>Wed, 24 Oct 2001 21:45:42 -0700 (PDT)</td>\n",
              "      <td>Save 30% on \"How People Grow : What the Bible ...</td>\n",
              "      <td>\\PALLEN (Non-Privileged)\\Allen, Phillip K.\\Del...</td>\n",
              "      <td>\"Amazon.com\" &lt;book-news@amazon.com&gt;@ENRON</td>\n",
              "      <td>pallen@enron.com</td>\n",
              "      <td>\\r\\n[IMAGE] =09\\r\\n\\r\\n\\r\\n    Search   BooksA...</td>\n",
              "      <td>allen-p</td>\n",
              "    </tr>\n",
              "    <tr>\n",
              "      <th>2</th>\n",
              "      <td>2</td>\n",
              "      <td>3</td>\n",
              "      <td>arnold-j/all_documents/331.</td>\n",
              "      <td>Message-ID: &lt;23580308.1075857574590.JavaMail.e...</td>\n",
              "      <td>0.0</td>\n",
              "      <td>Wed, 4 Oct 2000 01:23:00 -0700 (PDT)</td>\n",
              "      <td>Re: ABN</td>\n",
              "      <td>\\John_Arnold_Dec2000\\Notes Folders\\All documents</td>\n",
              "      <td>John Arnold</td>\n",
              "      <td>Sarah Wesner</td>\n",
              "      <td>Credit lines are like bandwidth.  Create the c...</td>\n",
              "      <td>arnold-j</td>\n",
              "    </tr>\n",
              "  </tbody>\n",
              "</table>\n",
              "</div>"
            ],
            "text/plain": [
              "   Unnamed: 0  ...  employee\n",
              "0           0  ...  badeer-r\n",
              "1           1  ...   allen-p\n",
              "2           2  ...  arnold-j\n",
              "\n",
              "[3 rows x 12 columns]"
            ]
          },
          "metadata": {},
          "execution_count": 79
        }
      ]
    },
    {
      "cell_type": "code",
      "source": [
        "unique_emails = pd.DataFrame(tdata['X-Folder'].value_counts())\n",
        "unique_emails.reset_index(inplace=True)\n",
        "\n",
        "\n",
        "unique_emails.columns = ['folder_name', 'count']"
      ],
      "metadata": {
        "id": "zXm5Sp0CD5iR"
      },
      "execution_count": 80,
      "outputs": []
    },
    {
      "cell_type": "code",
      "source": [
        "def change_type(dates):\n",
        "    column = []\n",
        "    \n",
        "    for date in dates:\n",
        "        column.append(parser.parse(date).strftime(\"%d-%m-%Y %H:%M:%S\"))\n",
        "    return column\n",
        "\n",
        "tdata['date'] = change_type(tdata['date'])\n",
        "tdata.head(2)"
      ],
      "metadata": {
        "colab": {
          "base_uri": "https://localhost:8080/",
          "height": 301
        },
        "id": "tJv6JQLbEFX3",
        "outputId": "532e88a9-192c-41fc-d2c5-e2fd8a5a5f5f"
      },
      "execution_count": 81,
      "outputs": [
        {
          "output_type": "execute_result",
          "data": {
            "text/html": [
              "<div>\n",
              "<style scoped>\n",
              "    .dataframe tbody tr th:only-of-type {\n",
              "        vertical-align: middle;\n",
              "    }\n",
              "\n",
              "    .dataframe tbody tr th {\n",
              "        vertical-align: top;\n",
              "    }\n",
              "\n",
              "    .dataframe thead th {\n",
              "        text-align: right;\n",
              "    }\n",
              "</style>\n",
              "<table border=\"1\" class=\"dataframe\">\n",
              "  <thead>\n",
              "    <tr style=\"text-align: right;\">\n",
              "      <th></th>\n",
              "      <th>Unnamed: 0</th>\n",
              "      <th>Unnamed</th>\n",
              "      <th>file</th>\n",
              "      <th>message</th>\n",
              "      <th>label</th>\n",
              "      <th>date</th>\n",
              "      <th>subject</th>\n",
              "      <th>X-Folder</th>\n",
              "      <th>X-From</th>\n",
              "      <th>X-To</th>\n",
              "      <th>body</th>\n",
              "      <th>employee</th>\n",
              "    </tr>\n",
              "  </thead>\n",
              "  <tbody>\n",
              "    <tr>\n",
              "      <th>0</th>\n",
              "      <td>0</td>\n",
              "      <td>1</td>\n",
              "      <td>badeer-r/discussion_threads/212.</td>\n",
              "      <td>Message-ID: &lt;13581696.1075863601488.JavaMail.e...</td>\n",
              "      <td>0.0</td>\n",
              "      <td>24-08-2000 09:55:00</td>\n",
              "      <td>Total Transfer Capabilities</td>\n",
              "      <td>\\Robert_Badeer_Aug2000\\Notes Folders\\Discussio...</td>\n",
              "      <td>\"Neeley, Myrna\" &lt;MNeeley@caiso.com&gt;</td>\n",
              "      <td>Market Status &lt;MarketStatus@caiso.com&gt;, PX Rea...</td>\n",
              "      <td>Attached are the Total Transfer Capabilities (...</td>\n",
              "      <td>badeer-r</td>\n",
              "    </tr>\n",
              "    <tr>\n",
              "      <th>1</th>\n",
              "      <td>1</td>\n",
              "      <td>2</td>\n",
              "      <td>allen-p/deleted_items/189.</td>\n",
              "      <td>Message-ID: &lt;7027882.1075858635275.JavaMail.ev...</td>\n",
              "      <td>0.0</td>\n",
              "      <td>24-10-2001 21:45:42</td>\n",
              "      <td>Save 30% on \"How People Grow : What the Bible ...</td>\n",
              "      <td>\\PALLEN (Non-Privileged)\\Allen, Phillip K.\\Del...</td>\n",
              "      <td>\"Amazon.com\" &lt;book-news@amazon.com&gt;@ENRON</td>\n",
              "      <td>pallen@enron.com</td>\n",
              "      <td>\\r\\n[IMAGE] =09\\r\\n\\r\\n\\r\\n    Search   BooksA...</td>\n",
              "      <td>allen-p</td>\n",
              "    </tr>\n",
              "  </tbody>\n",
              "</table>\n",
              "</div>"
            ],
            "text/plain": [
              "   Unnamed: 0  ...  employee\n",
              "0           0  ...  badeer-r\n",
              "1           1  ...   allen-p\n",
              "\n",
              "[2 rows x 12 columns]"
            ]
          },
          "metadata": {},
          "execution_count": 81
        }
      ]
    },
    {
      "cell_type": "code",
      "source": [
        "def preprocess_folder(folders):\n",
        "    column = []\n",
        "    for folder in folders:\n",
        "        if (folder is None or folder == \"\"):\n",
        "            column.append(np.nan)\n",
        "        else:\n",
        "            column.append(folder.split(\"\\\\\")[-1].lower())\n",
        "    return column\n",
        "\n",
        "tdata['X-Folder'] = preprocess_folder(tdata['X-Folder'])\n",
        "tdata.head(2)"
      ],
      "metadata": {
        "colab": {
          "base_uri": "https://localhost:8080/",
          "height": 281
        },
        "id": "QUu2pbuDEWPe",
        "outputId": "82f60503-1202-415a-f00c-36e7968e2b94"
      },
      "execution_count": 82,
      "outputs": [
        {
          "output_type": "execute_result",
          "data": {
            "text/html": [
              "<div>\n",
              "<style scoped>\n",
              "    .dataframe tbody tr th:only-of-type {\n",
              "        vertical-align: middle;\n",
              "    }\n",
              "\n",
              "    .dataframe tbody tr th {\n",
              "        vertical-align: top;\n",
              "    }\n",
              "\n",
              "    .dataframe thead th {\n",
              "        text-align: right;\n",
              "    }\n",
              "</style>\n",
              "<table border=\"1\" class=\"dataframe\">\n",
              "  <thead>\n",
              "    <tr style=\"text-align: right;\">\n",
              "      <th></th>\n",
              "      <th>Unnamed: 0</th>\n",
              "      <th>Unnamed</th>\n",
              "      <th>file</th>\n",
              "      <th>message</th>\n",
              "      <th>label</th>\n",
              "      <th>date</th>\n",
              "      <th>subject</th>\n",
              "      <th>X-Folder</th>\n",
              "      <th>X-From</th>\n",
              "      <th>X-To</th>\n",
              "      <th>body</th>\n",
              "      <th>employee</th>\n",
              "    </tr>\n",
              "  </thead>\n",
              "  <tbody>\n",
              "    <tr>\n",
              "      <th>0</th>\n",
              "      <td>0</td>\n",
              "      <td>1</td>\n",
              "      <td>badeer-r/discussion_threads/212.</td>\n",
              "      <td>Message-ID: &lt;13581696.1075863601488.JavaMail.e...</td>\n",
              "      <td>0.0</td>\n",
              "      <td>24-08-2000 09:55:00</td>\n",
              "      <td>Total Transfer Capabilities</td>\n",
              "      <td>discussion threads</td>\n",
              "      <td>\"Neeley, Myrna\" &lt;MNeeley@caiso.com&gt;</td>\n",
              "      <td>Market Status &lt;MarketStatus@caiso.com&gt;, PX Rea...</td>\n",
              "      <td>Attached are the Total Transfer Capabilities (...</td>\n",
              "      <td>badeer-r</td>\n",
              "    </tr>\n",
              "    <tr>\n",
              "      <th>1</th>\n",
              "      <td>1</td>\n",
              "      <td>2</td>\n",
              "      <td>allen-p/deleted_items/189.</td>\n",
              "      <td>Message-ID: &lt;7027882.1075858635275.JavaMail.ev...</td>\n",
              "      <td>0.0</td>\n",
              "      <td>24-10-2001 21:45:42</td>\n",
              "      <td>Save 30% on \"How People Grow : What the Bible ...</td>\n",
              "      <td>deleted items</td>\n",
              "      <td>\"Amazon.com\" &lt;book-news@amazon.com&gt;@ENRON</td>\n",
              "      <td>pallen@enron.com</td>\n",
              "      <td>\\r\\n[IMAGE] =09\\r\\n\\r\\n\\r\\n    Search   BooksA...</td>\n",
              "      <td>allen-p</td>\n",
              "    </tr>\n",
              "  </tbody>\n",
              "</table>\n",
              "</div>"
            ],
            "text/plain": [
              "   Unnamed: 0  ...  employee\n",
              "0           0  ...  badeer-r\n",
              "1           1  ...   allen-p\n",
              "\n",
              "[2 rows x 12 columns]"
            ]
          },
          "metadata": {},
          "execution_count": 82
        }
      ]
    },
    {
      "cell_type": "code",
      "source": [
        "tdata['subject'] = replace_empty_with_nan(tdata['subject'])\n",
        "tdata['X-To'] = replace_empty_with_nan(tdata['X-To'])\n",
        "tdata\n"
      ],
      "metadata": {
        "colab": {
          "base_uri": "https://localhost:8080/",
          "height": 1000
        },
        "id": "fFzrV7-eEhaR",
        "outputId": "92286999-d71a-4a76-c869-e4370ea1e091"
      },
      "execution_count": 113,
      "outputs": [
        {
          "output_type": "execute_result",
          "data": {
            "text/html": [
              "<div>\n",
              "<style scoped>\n",
              "    .dataframe tbody tr th:only-of-type {\n",
              "        vertical-align: middle;\n",
              "    }\n",
              "\n",
              "    .dataframe tbody tr th {\n",
              "        vertical-align: top;\n",
              "    }\n",
              "\n",
              "    .dataframe thead th {\n",
              "        text-align: right;\n",
              "    }\n",
              "</style>\n",
              "<table border=\"1\" class=\"dataframe\">\n",
              "  <thead>\n",
              "    <tr style=\"text-align: right;\">\n",
              "      <th></th>\n",
              "      <th>Unnamed: 0</th>\n",
              "      <th>Unnamed</th>\n",
              "      <th>file</th>\n",
              "      <th>message</th>\n",
              "      <th>label</th>\n",
              "      <th>date</th>\n",
              "      <th>subject</th>\n",
              "      <th>X-Folder</th>\n",
              "      <th>X-From</th>\n",
              "      <th>X-To</th>\n",
              "    </tr>\n",
              "  </thead>\n",
              "  <tbody>\n",
              "    <tr>\n",
              "      <th>0</th>\n",
              "      <td>0</td>\n",
              "      <td>1</td>\n",
              "      <td>badeer-r/discussion_threads/212.</td>\n",
              "      <td>Message-ID: &lt;13581696.1075863601488.JavaMail.e...</td>\n",
              "      <td>0.0</td>\n",
              "      <td>Thu, 24 Aug 2000 09:55:00 -0700 (PDT)</td>\n",
              "      <td>Total Transfer Capabilities</td>\n",
              "      <td>\\Robert_Badeer_Aug2000\\Notes Folders\\Discussio...</td>\n",
              "      <td>\"Neeley, Myrna\" &lt;MNeeley@caiso.com&gt;</td>\n",
              "      <td>Market Status &lt;MarketStatus@caiso.com&gt;, PX Rea...</td>\n",
              "    </tr>\n",
              "    <tr>\n",
              "      <th>1</th>\n",
              "      <td>1</td>\n",
              "      <td>2</td>\n",
              "      <td>allen-p/deleted_items/189.</td>\n",
              "      <td>Message-ID: &lt;7027882.1075858635275.JavaMail.ev...</td>\n",
              "      <td>0.0</td>\n",
              "      <td>Wed, 24 Oct 2001 21:45:42 -0700 (PDT)</td>\n",
              "      <td>Save 30% on \"How People Grow : What the Bible ...</td>\n",
              "      <td>\\PALLEN (Non-Privileged)\\Allen, Phillip K.\\Del...</td>\n",
              "      <td>\"Amazon.com\" &lt;book-news@amazon.com&gt;@ENRON</td>\n",
              "      <td>pallen@enron.com</td>\n",
              "    </tr>\n",
              "    <tr>\n",
              "      <th>2</th>\n",
              "      <td>2</td>\n",
              "      <td>3</td>\n",
              "      <td>arnold-j/all_documents/331.</td>\n",
              "      <td>Message-ID: &lt;23580308.1075857574590.JavaMail.e...</td>\n",
              "      <td>0.0</td>\n",
              "      <td>Wed, 4 Oct 2000 01:23:00 -0700 (PDT)</td>\n",
              "      <td>Re: ABN</td>\n",
              "      <td>\\John_Arnold_Dec2000\\Notes Folders\\All documents</td>\n",
              "      <td>John Arnold</td>\n",
              "      <td>Sarah Wesner</td>\n",
              "    </tr>\n",
              "    <tr>\n",
              "      <th>3</th>\n",
              "      <td>3</td>\n",
              "      <td>4</td>\n",
              "      <td>allen-p/all_documents/260.</td>\n",
              "      <td>Message-ID: &lt;14437034.1075855671174.JavaMail.e...</td>\n",
              "      <td>0.0</td>\n",
              "      <td>Fri, 19 May 2000 03:53:00 -0700 (PDT)</td>\n",
              "      <td>Re: 91 acres</td>\n",
              "      <td>\\Phillip_Allen_Dec2000\\Notes Folders\\All docum...</td>\n",
              "      <td>Phillip K Allen</td>\n",
              "      <td>\"Jeff Smith\" &lt;jsmith@austintx.com&gt; @ ENRON</td>\n",
              "    </tr>\n",
              "    <tr>\n",
              "      <th>4</th>\n",
              "      <td>4</td>\n",
              "      <td>5</td>\n",
              "      <td>arnold-j/deleted_items/702.</td>\n",
              "      <td>Message-ID: &lt;21959484.1075861667058.JavaMail.e...</td>\n",
              "      <td>0.0</td>\n",
              "      <td>Mon, 19 Nov 2001 05:51:44 -0800 (PST)</td>\n",
              "      <td>Enron Mentions - 11/17/01 - 11/18/01</td>\n",
              "      <td>\\JARNOLD (Non-Privileged)\\Arnold, John\\Deleted...</td>\n",
              "      <td>Schmidt, Ann M. &lt;/O=ENRON/OU=NA/CN=RECIPIENTS/...</td>\n",
              "      <td>NaN</td>\n",
              "    </tr>\n",
              "    <tr>\n",
              "      <th>...</th>\n",
              "      <td>...</td>\n",
              "      <td>...</td>\n",
              "      <td>...</td>\n",
              "      <td>...</td>\n",
              "      <td>...</td>\n",
              "      <td>...</td>\n",
              "      <td>...</td>\n",
              "      <td>...</td>\n",
              "      <td>...</td>\n",
              "      <td>...</td>\n",
              "    </tr>\n",
              "    <tr>\n",
              "      <th>9995</th>\n",
              "      <td>9995</td>\n",
              "      <td>9996</td>\n",
              "      <td>allen-p/_sent_mail/92.</td>\n",
              "      <td>Message-ID: &lt;480919.1075855687277.JavaMail.eva...</td>\n",
              "      <td>0.0</td>\n",
              "      <td>Tue, 24 Oct 2000 09:49:00 -0700 (PDT)</td>\n",
              "      <td>Re:</td>\n",
              "      <td>\\Phillip_Allen_Dec2000\\Notes Folders\\'sent mail</td>\n",
              "      <td>Phillip K Allen</td>\n",
              "      <td>Andy Zipper</td>\n",
              "    </tr>\n",
              "    <tr>\n",
              "      <th>9996</th>\n",
              "      <td>9996</td>\n",
              "      <td>9997</td>\n",
              "      <td>badeer-r/discussion_threads/140.</td>\n",
              "      <td>Message-ID: &lt;7384648.1075863599780.JavaMail.ev...</td>\n",
              "      <td>0.0</td>\n",
              "      <td>Thu, 10 Aug 2000 04:03:00 -0700 (PDT)</td>\n",
              "      <td>DMA White Paper on Price Cap Extension</td>\n",
              "      <td>\\Robert_Badeer_Aug2000\\Notes Folders\\Discussio...</td>\n",
              "      <td>\"Fuller, Don\" &lt;DFuller@caiso.com&gt;</td>\n",
              "      <td>ISO Market Participants &lt;IMCEAEX-_O=CAISO_OU=C...</td>\n",
              "    </tr>\n",
              "    <tr>\n",
              "      <th>9997</th>\n",
              "      <td>9997</td>\n",
              "      <td>9998</td>\n",
              "      <td>bailey-s/deleted_items/223.</td>\n",
              "      <td>Message-ID: &lt;18591838.1075861107479.JavaMail.e...</td>\n",
              "      <td>0.0</td>\n",
              "      <td>Tue, 26 Feb 2002 11:11:37 -0800 (PST)</td>\n",
              "      <td>RE: Livelink issues</td>\n",
              "      <td>\\Susan_Bailey_Mar2002\\Bailey, Susan\\Deleted Items</td>\n",
              "      <td>Luu, Kien &lt;/O=ENRON/OU=NA/CN=RECIPIENTS/CN=KLUU&gt;</td>\n",
              "      <td>Bailey, Susan &lt;/O=ENRON/OU=NA/CN=RECIPIENTS/CN...</td>\n",
              "    </tr>\n",
              "    <tr>\n",
              "      <th>9998</th>\n",
              "      <td>9998</td>\n",
              "      <td>9999</td>\n",
              "      <td>badeer-r/discussion_threads/192.</td>\n",
              "      <td>Message-ID: &lt;20571431.1075863601000.JavaMail.e...</td>\n",
              "      <td>0.0</td>\n",
              "      <td>Wed, 23 Aug 2000 03:26:00 -0700 (PDT)</td>\n",
              "      <td>SI Outage</td>\n",
              "      <td>\\Robert_Badeer_Aug2000\\Notes Folders\\Discussio...</td>\n",
              "      <td>CAISO Market Operations - Day Ahead &lt;CAISOMktO...</td>\n",
              "      <td>Market Status &lt;MarketStatus@caiso.com&gt;</td>\n",
              "    </tr>\n",
              "    <tr>\n",
              "      <th>9999</th>\n",
              "      <td>9999</td>\n",
              "      <td>10000</td>\n",
              "      <td>arnold-j/sent_items/550.</td>\n",
              "      <td>Message-ID: &lt;5015419.1075852725819.JavaMail.ev...</td>\n",
              "      <td>0.0</td>\n",
              "      <td>Fri, 12 Oct 2001 14:21:31 -0700 (PDT)</td>\n",
              "      <td>RE: did you like the stew?</td>\n",
              "      <td>\\JARNOLD (Non-Privileged)\\Arnold, John\\Sent Items</td>\n",
              "      <td>Arnold, John &lt;/O=ENRON/OU=NA/CN=RECIPIENTS/CN=...</td>\n",
              "      <td>Allen, Margaret &lt;/O=ENRON/OU=NA/CN=RECIPIENTS/...</td>\n",
              "    </tr>\n",
              "  </tbody>\n",
              "</table>\n",
              "<p>10000 rows × 10 columns</p>\n",
              "</div>"
            ],
            "text/plain": [
              "      Unnamed: 0  ...                                               X-To\n",
              "0              0  ...  Market Status <MarketStatus@caiso.com>, PX Rea...\n",
              "1              1  ...                                   pallen@enron.com\n",
              "2              2  ...                                       Sarah Wesner\n",
              "3              3  ...         \"Jeff Smith\" <jsmith@austintx.com> @ ENRON\n",
              "4              4  ...                                                NaN\n",
              "...          ...  ...                                                ...\n",
              "9995        9995  ...                                        Andy Zipper\n",
              "9996        9996  ...  ISO Market Participants <IMCEAEX-_O=CAISO_OU=C...\n",
              "9997        9997  ...  Bailey, Susan </O=ENRON/OU=NA/CN=RECIPIENTS/CN...\n",
              "9998        9998  ...             Market Status <MarketStatus@caiso.com>\n",
              "9999        9999  ...  Allen, Margaret </O=ENRON/OU=NA/CN=RECIPIENTS/...\n",
              "\n",
              "[10000 rows x 10 columns]"
            ]
          },
          "metadata": {},
          "execution_count": 113
        }
      ]
    },
    {
      "cell_type": "code",
      "source": [
        "# drop missing value rows\n",
        "tdata.dropna(axis=0, inplace=True)"
      ],
      "metadata": {
        "id": "PWnNNfp3JFep"
      },
      "execution_count": 114,
      "outputs": []
    },
    {
      "cell_type": "code",
      "source": [
        "tdata['le_Xfrom'] = label_encoder.fit_transform(tdata['X-From'])\n",
        "tdata['le_subject'] = label_encoder.fit_transform(tdata['subject'])\n",
        "tdata['date'] = pd.to_datetime(tdata['date'])\n",
        "#df.dtypes\n",
        "tdata['hour'] = tdata.date.dt.hour\n",
        "tdata['weekday'] = tdata.date.dt.weekday"
      ],
      "metadata": {
        "colab": {
          "base_uri": "https://localhost:8080/",
          "height": 527
        },
        "id": "1NNk8-B4Et2u",
        "outputId": "5681bf9c-6e8d-49f9-f2dc-25512a897f0f"
      },
      "execution_count": 118,
      "outputs": [
        {
          "output_type": "error",
          "ename": "ValueError",
          "evalue": "ignored",
          "traceback": [
            "\u001b[0;31m---------------------------------------------------------------------------\u001b[0m",
            "\u001b[0;31mValueError\u001b[0m                                Traceback (most recent call last)",
            "\u001b[0;32m/usr/local/lib/python3.7/dist-packages/pandas/core/arrays/datetimes.py\u001b[0m in \u001b[0;36mobjects_to_datetime64ns\u001b[0;34m(data, dayfirst, yearfirst, utc, errors, require_iso8601, allow_object)\u001b[0m\n\u001b[1;32m   2058\u001b[0m         \u001b[0;32mtry\u001b[0m\u001b[0;34m:\u001b[0m\u001b[0;34m\u001b[0m\u001b[0;34m\u001b[0m\u001b[0m\n\u001b[0;32m-> 2059\u001b[0;31m             \u001b[0mvalues\u001b[0m\u001b[0;34m,\u001b[0m \u001b[0mtz_parsed\u001b[0m \u001b[0;34m=\u001b[0m \u001b[0mconversion\u001b[0m\u001b[0;34m.\u001b[0m\u001b[0mdatetime_to_datetime64\u001b[0m\u001b[0;34m(\u001b[0m\u001b[0mdata\u001b[0m\u001b[0;34m)\u001b[0m\u001b[0;34m\u001b[0m\u001b[0;34m\u001b[0m\u001b[0m\n\u001b[0m\u001b[1;32m   2060\u001b[0m             \u001b[0;31m# If tzaware, these values represent unix timestamps, so we\u001b[0m\u001b[0;34m\u001b[0m\u001b[0;34m\u001b[0m\u001b[0;34m\u001b[0m\u001b[0m\n",
            "\u001b[0;32mpandas/_libs/tslibs/conversion.pyx\u001b[0m in \u001b[0;36mpandas._libs.tslibs.conversion.datetime_to_datetime64\u001b[0;34m()\u001b[0m\n",
            "\u001b[0;31mValueError\u001b[0m: Array must be all same time zone",
            "\nDuring handling of the above exception, another exception occurred:\n",
            "\u001b[0;31mValueError\u001b[0m                                Traceback (most recent call last)",
            "\u001b[0;32m<ipython-input-118-8d57463a69c0>\u001b[0m in \u001b[0;36m<module>\u001b[0;34m()\u001b[0m\n\u001b[1;32m      1\u001b[0m \u001b[0mtdata\u001b[0m\u001b[0;34m[\u001b[0m\u001b[0;34m'le_Xfrom'\u001b[0m\u001b[0;34m]\u001b[0m \u001b[0;34m=\u001b[0m \u001b[0mlabel_encoder\u001b[0m\u001b[0;34m.\u001b[0m\u001b[0mfit_transform\u001b[0m\u001b[0;34m(\u001b[0m\u001b[0mtdata\u001b[0m\u001b[0;34m[\u001b[0m\u001b[0;34m'X-From'\u001b[0m\u001b[0;34m]\u001b[0m\u001b[0;34m)\u001b[0m\u001b[0;34m\u001b[0m\u001b[0;34m\u001b[0m\u001b[0m\n\u001b[1;32m      2\u001b[0m \u001b[0mtdata\u001b[0m\u001b[0;34m[\u001b[0m\u001b[0;34m'le_subject'\u001b[0m\u001b[0;34m]\u001b[0m \u001b[0;34m=\u001b[0m \u001b[0mlabel_encoder\u001b[0m\u001b[0;34m.\u001b[0m\u001b[0mfit_transform\u001b[0m\u001b[0;34m(\u001b[0m\u001b[0mtdata\u001b[0m\u001b[0;34m[\u001b[0m\u001b[0;34m'subject'\u001b[0m\u001b[0;34m]\u001b[0m\u001b[0;34m)\u001b[0m\u001b[0;34m\u001b[0m\u001b[0;34m\u001b[0m\u001b[0m\n\u001b[0;32m----> 3\u001b[0;31m \u001b[0mtdata\u001b[0m\u001b[0;34m[\u001b[0m\u001b[0;34m'date'\u001b[0m\u001b[0;34m]\u001b[0m \u001b[0;34m=\u001b[0m \u001b[0mpd\u001b[0m\u001b[0;34m.\u001b[0m\u001b[0mto_datetime\u001b[0m\u001b[0;34m(\u001b[0m\u001b[0mtdata\u001b[0m\u001b[0;34m[\u001b[0m\u001b[0;34m'date'\u001b[0m\u001b[0;34m]\u001b[0m\u001b[0;34m)\u001b[0m\u001b[0;34m\u001b[0m\u001b[0;34m\u001b[0m\u001b[0m\n\u001b[0m\u001b[1;32m      4\u001b[0m \u001b[0;31m#df.dtypes\u001b[0m\u001b[0;34m\u001b[0m\u001b[0;34m\u001b[0m\u001b[0;34m\u001b[0m\u001b[0m\n\u001b[1;32m      5\u001b[0m \u001b[0mtdata\u001b[0m\u001b[0;34m[\u001b[0m\u001b[0;34m'hour'\u001b[0m\u001b[0;34m]\u001b[0m \u001b[0;34m=\u001b[0m \u001b[0mtdata\u001b[0m\u001b[0;34m.\u001b[0m\u001b[0mdate\u001b[0m\u001b[0;34m.\u001b[0m\u001b[0mdt\u001b[0m\u001b[0;34m.\u001b[0m\u001b[0mhour\u001b[0m\u001b[0;34m\u001b[0m\u001b[0;34m\u001b[0m\u001b[0m\n",
            "\u001b[0;32m/usr/local/lib/python3.7/dist-packages/pandas/core/tools/datetimes.py\u001b[0m in \u001b[0;36mto_datetime\u001b[0;34m(arg, errors, dayfirst, yearfirst, utc, format, exact, unit, infer_datetime_format, origin, cache)\u001b[0m\n\u001b[1;32m    801\u001b[0m             \u001b[0mresult\u001b[0m \u001b[0;34m=\u001b[0m \u001b[0marg\u001b[0m\u001b[0;34m.\u001b[0m\u001b[0mmap\u001b[0m\u001b[0;34m(\u001b[0m\u001b[0mcache_array\u001b[0m\u001b[0;34m)\u001b[0m\u001b[0;34m\u001b[0m\u001b[0;34m\u001b[0m\u001b[0m\n\u001b[1;32m    802\u001b[0m         \u001b[0;32melse\u001b[0m\u001b[0;34m:\u001b[0m\u001b[0;34m\u001b[0m\u001b[0;34m\u001b[0m\u001b[0m\n\u001b[0;32m--> 803\u001b[0;31m             \u001b[0mvalues\u001b[0m \u001b[0;34m=\u001b[0m \u001b[0mconvert_listlike\u001b[0m\u001b[0;34m(\u001b[0m\u001b[0marg\u001b[0m\u001b[0;34m.\u001b[0m\u001b[0m_values\u001b[0m\u001b[0;34m,\u001b[0m \u001b[0mformat\u001b[0m\u001b[0;34m)\u001b[0m\u001b[0;34m\u001b[0m\u001b[0;34m\u001b[0m\u001b[0m\n\u001b[0m\u001b[1;32m    804\u001b[0m             \u001b[0mresult\u001b[0m \u001b[0;34m=\u001b[0m \u001b[0marg\u001b[0m\u001b[0;34m.\u001b[0m\u001b[0m_constructor\u001b[0m\u001b[0;34m(\u001b[0m\u001b[0mvalues\u001b[0m\u001b[0;34m,\u001b[0m \u001b[0mindex\u001b[0m\u001b[0;34m=\u001b[0m\u001b[0marg\u001b[0m\u001b[0;34m.\u001b[0m\u001b[0mindex\u001b[0m\u001b[0;34m,\u001b[0m \u001b[0mname\u001b[0m\u001b[0;34m=\u001b[0m\u001b[0marg\u001b[0m\u001b[0;34m.\u001b[0m\u001b[0mname\u001b[0m\u001b[0;34m)\u001b[0m\u001b[0;34m\u001b[0m\u001b[0;34m\u001b[0m\u001b[0m\n\u001b[1;32m    805\u001b[0m     \u001b[0;32melif\u001b[0m \u001b[0misinstance\u001b[0m\u001b[0;34m(\u001b[0m\u001b[0marg\u001b[0m\u001b[0;34m,\u001b[0m \u001b[0;34m(\u001b[0m\u001b[0mABCDataFrame\u001b[0m\u001b[0;34m,\u001b[0m \u001b[0mabc\u001b[0m\u001b[0;34m.\u001b[0m\u001b[0mMutableMapping\u001b[0m\u001b[0;34m)\u001b[0m\u001b[0;34m)\u001b[0m\u001b[0;34m:\u001b[0m\u001b[0;34m\u001b[0m\u001b[0;34m\u001b[0m\u001b[0m\n",
            "\u001b[0;32m/usr/local/lib/python3.7/dist-packages/pandas/core/tools/datetimes.py\u001b[0m in \u001b[0;36m_convert_listlike_datetimes\u001b[0;34m(arg, format, name, tz, unit, errors, infer_datetime_format, dayfirst, yearfirst, exact)\u001b[0m\n\u001b[1;32m    464\u001b[0m             \u001b[0merrors\u001b[0m\u001b[0;34m=\u001b[0m\u001b[0merrors\u001b[0m\u001b[0;34m,\u001b[0m\u001b[0;34m\u001b[0m\u001b[0;34m\u001b[0m\u001b[0m\n\u001b[1;32m    465\u001b[0m             \u001b[0mrequire_iso8601\u001b[0m\u001b[0;34m=\u001b[0m\u001b[0mrequire_iso8601\u001b[0m\u001b[0;34m,\u001b[0m\u001b[0;34m\u001b[0m\u001b[0;34m\u001b[0m\u001b[0m\n\u001b[0;32m--> 466\u001b[0;31m             \u001b[0mallow_object\u001b[0m\u001b[0;34m=\u001b[0m\u001b[0;32mTrue\u001b[0m\u001b[0;34m,\u001b[0m\u001b[0;34m\u001b[0m\u001b[0;34m\u001b[0m\u001b[0m\n\u001b[0m\u001b[1;32m    467\u001b[0m         )\n\u001b[1;32m    468\u001b[0m \u001b[0;34m\u001b[0m\u001b[0m\n",
            "\u001b[0;32m/usr/local/lib/python3.7/dist-packages/pandas/core/arrays/datetimes.py\u001b[0m in \u001b[0;36mobjects_to_datetime64ns\u001b[0;34m(data, dayfirst, yearfirst, utc, errors, require_iso8601, allow_object)\u001b[0m\n\u001b[1;32m   2062\u001b[0m             \u001b[0;32mreturn\u001b[0m \u001b[0mvalues\u001b[0m\u001b[0;34m.\u001b[0m\u001b[0mview\u001b[0m\u001b[0;34m(\u001b[0m\u001b[0;34m\"i8\"\u001b[0m\u001b[0;34m)\u001b[0m\u001b[0;34m,\u001b[0m \u001b[0mtz_parsed\u001b[0m\u001b[0;34m\u001b[0m\u001b[0;34m\u001b[0m\u001b[0m\n\u001b[1;32m   2063\u001b[0m         \u001b[0;32mexcept\u001b[0m \u001b[0;34m(\u001b[0m\u001b[0mValueError\u001b[0m\u001b[0;34m,\u001b[0m \u001b[0mTypeError\u001b[0m\u001b[0;34m)\u001b[0m\u001b[0;34m:\u001b[0m\u001b[0;34m\u001b[0m\u001b[0;34m\u001b[0m\u001b[0m\n\u001b[0;32m-> 2064\u001b[0;31m             \u001b[0;32mraise\u001b[0m \u001b[0me\u001b[0m\u001b[0;34m\u001b[0m\u001b[0;34m\u001b[0m\u001b[0m\n\u001b[0m\u001b[1;32m   2065\u001b[0m \u001b[0;34m\u001b[0m\u001b[0m\n\u001b[1;32m   2066\u001b[0m     \u001b[0;32mif\u001b[0m \u001b[0mtz_parsed\u001b[0m \u001b[0;32mis\u001b[0m \u001b[0;32mnot\u001b[0m \u001b[0;32mNone\u001b[0m\u001b[0;34m:\u001b[0m\u001b[0;34m\u001b[0m\u001b[0;34m\u001b[0m\u001b[0m\n",
            "\u001b[0;32m/usr/local/lib/python3.7/dist-packages/pandas/core/arrays/datetimes.py\u001b[0m in \u001b[0;36mobjects_to_datetime64ns\u001b[0;34m(data, dayfirst, yearfirst, utc, errors, require_iso8601, allow_object)\u001b[0m\n\u001b[1;32m   2053\u001b[0m             \u001b[0mdayfirst\u001b[0m\u001b[0;34m=\u001b[0m\u001b[0mdayfirst\u001b[0m\u001b[0;34m,\u001b[0m\u001b[0;34m\u001b[0m\u001b[0;34m\u001b[0m\u001b[0m\n\u001b[1;32m   2054\u001b[0m             \u001b[0myearfirst\u001b[0m\u001b[0;34m=\u001b[0m\u001b[0myearfirst\u001b[0m\u001b[0;34m,\u001b[0m\u001b[0;34m\u001b[0m\u001b[0;34m\u001b[0m\u001b[0m\n\u001b[0;32m-> 2055\u001b[0;31m             \u001b[0mrequire_iso8601\u001b[0m\u001b[0;34m=\u001b[0m\u001b[0mrequire_iso8601\u001b[0m\u001b[0;34m,\u001b[0m\u001b[0;34m\u001b[0m\u001b[0;34m\u001b[0m\u001b[0m\n\u001b[0m\u001b[1;32m   2056\u001b[0m         )\n\u001b[1;32m   2057\u001b[0m     \u001b[0;32mexcept\u001b[0m \u001b[0mValueError\u001b[0m \u001b[0;32mas\u001b[0m \u001b[0me\u001b[0m\u001b[0;34m:\u001b[0m\u001b[0;34m\u001b[0m\u001b[0;34m\u001b[0m\u001b[0m\n",
            "\u001b[0;32mpandas/_libs/tslib.pyx\u001b[0m in \u001b[0;36mpandas._libs.tslib.array_to_datetime\u001b[0;34m()\u001b[0m\n",
            "\u001b[0;32mpandas/_libs/tslib.pyx\u001b[0m in \u001b[0;36mpandas._libs.tslib.array_to_datetime\u001b[0;34m()\u001b[0m\n",
            "\u001b[0;31mValueError\u001b[0m: Tz-aware datetime.datetime cannot be converted to datetime64 unless utc=True"
          ]
        }
      ]
    },
    {
      "cell_type": "code",
      "source": [
        "\n",
        "X = df[['le_Xfrom', 'le_subject']]\n",
        "y = tdata['label']\n",
        "\n",
        "tree_scores = [None]*100\n",
        "depth_of_tree = [None]*100\n",
        "leaves_of_tree = [None]*100\n",
        "tree_accuracy = [None]*100\n",
        "\n",
        "for i in range(0,99):\n",
        "\t#Implement train_test_split\n",
        "\tX_train, X_test, Y_train, Y_test = train_test_split(X[0:7961], y, test_size=.2)\n",
        "\n",
        "\t#code for  k means cluster analysis with sklearn\n",
        "\t#km = KMeans(n_clusters=2).fit(X_train)\n",
        " \n",
        "\t#code for Decision tree classifier\n",
        "\tclf = DecisionTreeClassifier(max_depth=5).fit(X_train, Y_train)\n",
        "\n",
        "\t#y_pred = km.predict(X_test)\n",
        "\ty_tree_pred = clf.predict(X_test)\n",
        "  \n",
        "\ttree_accuracy[i] = accuracy_score(y_tree_pred, Y_test)\n",
        "\ttree_scores[i] = clf.score(X_test, Y_test)\n",
        "\tdepth_of_tree[i] = clf.get_depth()\n",
        "\tleaves_of_tree[i] = clf.get_n_leaves()\n",
        " \n",
        "\n",
        "print(\"Tree Accuracy:\\n\", pd.Series(tree_scores).describe())\n",
        "print(\"Tree Depths:\\n\", pd.Series(depth_of_tree).describe())\n",
        "print(\"Tree Depths:\\n\", pd.Series(leaves_of_tree).describe())\n",
        "#print(y_tree_pred[:1000])\n",
        "#print(Y_test[:100])\n",
        "#print(tree_accuracy)\n",
        "count = (Y_test == 1).sum()\n",
        "count2 = (y_tree_pred == 1).sum()\n",
        "print(count)\n",
        "print(count2)\n"
      ],
      "metadata": {
        "colab": {
          "base_uri": "https://localhost:8080/"
        },
        "id": "kxC2ehDjG1Rd",
        "outputId": "11e1b288-140c-4cfb-9815-736d13d88c87"
      },
      "execution_count": 146,
      "outputs": [
        {
          "output_type": "stream",
          "name": "stdout",
          "text": [
            "Tree Accuracy:\n",
            " count    99.000000\n",
            "mean      0.979164\n",
            "std       0.003356\n",
            "min       0.970496\n",
            "25%       0.976460\n",
            "50%       0.978657\n",
            "75%       0.981795\n",
            "max       0.988701\n",
            "dtype: float64\n",
            "Tree Depths:\n",
            " count    99.0\n",
            "mean      5.0\n",
            "std       0.0\n",
            "min       5.0\n",
            "25%       5.0\n",
            "50%       5.0\n",
            "75%       5.0\n",
            "max       5.0\n",
            "dtype: float64\n",
            "Tree Depths:\n",
            " count    99.000000\n",
            "mean     14.626263\n",
            "std       2.505447\n",
            "min       8.000000\n",
            "25%      13.000000\n",
            "50%      14.000000\n",
            "75%      16.500000\n",
            "max      20.000000\n",
            "dtype: float64\n",
            "41\n",
            "2\n"
          ]
        }
      ]
    },
    {
      "cell_type": "code",
      "source": [
        "tdata['label'].value_counts()"
      ],
      "metadata": {
        "colab": {
          "base_uri": "https://localhost:8080/"
        },
        "id": "sfKnweXOWSp-",
        "outputId": "28c2ded2-9e6d-46da-b341-7a424ab63f09"
      },
      "execution_count": 140,
      "outputs": [
        {
          "output_type": "execute_result",
          "data": {
            "text/plain": [
              "0.0    7802\n",
              "1.0     159\n",
              "Name: label, dtype: int64"
            ]
          },
          "metadata": {},
          "execution_count": 140
        }
      ]
    }
  ]
}