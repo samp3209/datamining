{
  "nbformat": 4,
  "nbformat_minor": 0,
  "metadata": {
    "colab": {
      "name": "moredatacleaning.ipynb",
      "provenance": [],
      "authorship_tag": "ABX9TyPuIyEB5chK9PfNj0ci1x+4",
      "include_colab_link": true
    },
    "kernelspec": {
      "name": "python3",
      "display_name": "Python 3"
    },
    "language_info": {
      "name": "python"
    }
  },
  "cells": [
    {
      "cell_type": "markdown",
      "metadata": {
        "id": "view-in-github",
        "colab_type": "text"
      },
      "source": [
        "<a href=\"https://colab.research.google.com/github/samp3209/datamining/blob/main/moredatacleaning.ipynb\" target=\"_parent\"><img src=\"https://colab.research.google.com/assets/colab-badge.svg\" alt=\"Open In Colab\"/></a>"
      ]
    },
    {
      "cell_type": "code",
      "metadata": {
        "colab": {
          "base_uri": "https://localhost:8080/"
        },
        "id": "ptJJFBWTsm7p",
        "outputId": "b448f234-6a3d-4b0d-b32f-4eb4ec0f42e2"
      },
      "source": [
        "import pandas as pd\n",
        "import numpy as np\n",
        "import sklearn\n",
        "from sklearn.preprocessing import OneHotEncoder\n",
        "from sklearn.preprocessing import LabelEncoder\n",
        "\n",
        "university_towns = []\n",
        "\n",
        "with open('university_towns.txt') as file:\n",
        "  for line in file:\n",
        "    if '[edit]' in line:\n",
        "      state = line\n",
        "    else:\n",
        "      university_towns.append((state,line))\n",
        "\n",
        "university_towns[:5]\n",
        "\n",
        "df = pd.DataFrame(university_towns, columns=['State', 'RegionName'])\n",
        "#print(df.head())\n",
        "df['State'] = df['State'].str.replace('\\[edit\\]\\\\n', ' ')\n",
        "\n",
        "def get_city(item):\n",
        "  #takes in df and goes line by line editing the data by finding where a given character is a choosing everything before that character\n",
        "    if ')' in item:\n",
        "      return item[:item.find(')')]\n",
        "    elif '[' in item:\n",
        "      return item[:item.find('[')]\n",
        "    else:\n",
        "      return item\n",
        "\n",
        "df = df.applymap(get_city)\n",
        "df.head()\n",
        "#splits the regionname column into city and university and cleaning the columns up\n",
        "df[['City', 'University', 'misc']] = df['RegionName'].str.split(\"\\(\", expand=True)\n",
        "df.drop('misc', axis=1, inplace=True)\n",
        "df.drop('RegionName', axis=1, inplace=True)\n",
        "df = df.dropna()\n",
        "\n",
        "\n",
        "label_encoder = LabelEncoder()\n",
        "print(df.dtypes)\n",
        "data_coloumn_category = df.select_dtypes(exclude=[np.number]).columns\n",
        "data_column_numeric = df.select_dtypes(include=[np.number]).columns\n",
        "\n",
        "#print(data_coloumn_category)\n",
        "onehot_encoder = OneHotEncoder(sparse=False)\n",
        "\n",
        "onehot_encoded = onehot_encoder.fit_transform(df[data_coloumn_category])\n",
        "\n",
        "\n",
        "\n",
        "\n",
        "#for i in data_coloumn_category:\n",
        "  #df[i] = label_encoder.fit_transform(df[i])\n",
        "\n",
        "#creating final dataset. Problem is that there are so many states and cities its difficult to use onehot\n",
        "onehot_encoded_frame = pd.DataFrame(onehot_encoded, columns = onehot_encoder.get_feature_names(data_coloumn_category))\n",
        "df_onehot_getdummies = pd.get_dummies(df[data_coloumn_category], prefix=data_coloumn_category)\n",
        "final_df = pd.concat([df_onehot_getdummies, df[data_column_numeric]], axis=1)\n",
        "final_df.std().sort_values(ascending=False)\n",
        "onehot_encoded_frame.std().sort_values(ascending=False)"
      ],
      "execution_count": 27,
      "outputs": [
        {
          "output_type": "stream",
          "name": "stdout",
          "text": [
            "State         object\n",
            "City          object\n",
            "University    object\n",
            "dtype: object\n"
          ]
        },
        {
          "output_type": "execute_result",
          "data": {
            "text/plain": [
              "State_Pennsylvania                          0.277389\n",
              "State_New York                              0.238512\n",
              "State_California                            0.215519\n",
              "State_Ohio                                  0.202796\n",
              "State_Texas                                 0.202796\n",
              "                                              ...   \n",
              "City_Auburn                                 0.044151\n",
              "University_University of North Alabama      0.044151\n",
              "University_Jacksonville State University    0.044151\n",
              "City_Montevallo                             0.044151\n",
              "University_Troy University                  0.044151\n",
              "Length: 1047, dtype: float64"
            ]
          },
          "metadata": {},
          "execution_count": 27
        }
      ]
    }
  ]
}