{
  "nbformat": 4,
  "nbformat_minor": 0,
  "metadata": {
    "colab": {
      "name": "moredatacleaning.ipynb",
      "provenance": [],
      "authorship_tag": "ABX9TyPKhoAxSIueCLB3nceErvs3",
      "include_colab_link": true
    },
    "kernelspec": {
      "name": "python3",
      "display_name": "Python 3"
    },
    "language_info": {
      "name": "python"
    }
  },
  "cells": [
    {
      "cell_type": "markdown",
      "metadata": {
        "id": "view-in-github",
        "colab_type": "text"
      },
      "source": [
        "<a href=\"https://colab.research.google.com/github/samp3209/datamining/blob/main/moredatacleaning.ipynb\" target=\"_parent\"><img src=\"https://colab.research.google.com/assets/colab-badge.svg\" alt=\"Open In Colab\"/></a>"
      ]
    },
    {
      "cell_type": "code",
      "metadata": {
        "colab": {
          "base_uri": "https://localhost:8080/",
          "height": 204
        },
        "id": "ptJJFBWTsm7p",
        "outputId": "a7e02f60-2e05-4349-85f9-86f8de40fca9"
      },
      "source": [
        "import pandas as pd\n",
        "import numpy as np\n",
        "\n",
        "university_towns = []\n",
        "\n",
        "with open('university_towns.txt') as file:\n",
        "  for line in file:\n",
        "    if '[edit]' in line:\n",
        "      state = line\n",
        "    else:\n",
        "      university_towns.append((state,line))\n",
        "\n",
        "university_towns[:5]\n",
        "\n",
        "df = pd.DataFrame(university_towns, columns=['State', 'RegionName'])\n",
        "df.head()\n",
        "#df['State'] = df['State'].str.replace('\\[edit\\]\\\\n', ' ')\n",
        "\n",
        "def get_city(item):\n",
        "  #takes in df and goes line by line editing the data by finding where a given character is a choosing everything before that character\n",
        "    if ')' in item:\n",
        "      return item[:item.find(')')+1]\n",
        "    elif '[' in item:\n",
        "      return item[:item.find('[')]\n",
        "    else:\n",
        "      return item\n",
        "\n",
        "df = df.applymap(get_city)\n",
        "df.head()"
      ],
      "execution_count": 13,
      "outputs": [
        {
          "output_type": "execute_result",
          "data": {
            "text/html": [
              "<div>\n",
              "<style scoped>\n",
              "    .dataframe tbody tr th:only-of-type {\n",
              "        vertical-align: middle;\n",
              "    }\n",
              "\n",
              "    .dataframe tbody tr th {\n",
              "        vertical-align: top;\n",
              "    }\n",
              "\n",
              "    .dataframe thead th {\n",
              "        text-align: right;\n",
              "    }\n",
              "</style>\n",
              "<table border=\"1\" class=\"dataframe\">\n",
              "  <thead>\n",
              "    <tr style=\"text-align: right;\">\n",
              "      <th></th>\n",
              "      <th>State</th>\n",
              "      <th>RegionName</th>\n",
              "    </tr>\n",
              "  </thead>\n",
              "  <tbody>\n",
              "    <tr>\n",
              "      <th>0</th>\n",
              "      <td>Alabama</td>\n",
              "      <td>Auburn (Auburn University)</td>\n",
              "    </tr>\n",
              "    <tr>\n",
              "      <th>1</th>\n",
              "      <td>Alabama</td>\n",
              "      <td>Florence (University of North Alabama)</td>\n",
              "    </tr>\n",
              "    <tr>\n",
              "      <th>2</th>\n",
              "      <td>Alabama</td>\n",
              "      <td>Jacksonville (Jacksonville State University)</td>\n",
              "    </tr>\n",
              "    <tr>\n",
              "      <th>3</th>\n",
              "      <td>Alabama</td>\n",
              "      <td>Livingston (University of West Alabama)</td>\n",
              "    </tr>\n",
              "    <tr>\n",
              "      <th>4</th>\n",
              "      <td>Alabama</td>\n",
              "      <td>Montevallo (University of Montevallo)</td>\n",
              "    </tr>\n",
              "  </tbody>\n",
              "</table>\n",
              "</div>"
            ],
            "text/plain": [
              "     State                                    RegionName\n",
              "0  Alabama                    Auburn (Auburn University)\n",
              "1  Alabama        Florence (University of North Alabama)\n",
              "2  Alabama  Jacksonville (Jacksonville State University)\n",
              "3  Alabama       Livingston (University of West Alabama)\n",
              "4  Alabama         Montevallo (University of Montevallo)"
            ]
          },
          "metadata": {},
          "execution_count": 13
        }
      ]
    }
  ]
}