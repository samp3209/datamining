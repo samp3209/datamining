{
  "nbformat": 4,
  "nbformat_minor": 0,
  "metadata": {
    "colab": {
      "name": "TaxStuffplusplus.ipynb",
      "provenance": [],
      "collapsed_sections": [],
      "include_colab_link": true
    },
    "kernelspec": {
      "name": "python3",
      "display_name": "Python 3"
    },
    "language_info": {
      "name": "python"
    }
  },
  "cells": [
    {
      "cell_type": "markdown",
      "metadata": {
        "id": "view-in-github",
        "colab_type": "text"
      },
      "source": [
        "<a href=\"https://colab.research.google.com/github/samp3209/datamining/blob/main/TaxStuffplusplus.ipynb\" target=\"_parent\"><img src=\"https://colab.research.google.com/assets/colab-badge.svg\" alt=\"Open In Colab\"/></a>"
      ]
    },
    {
      "cell_type": "code",
      "metadata": {
        "colab": {
          "base_uri": "https://localhost:8080/",
          "height": 1000
        },
        "id": "eJW29qjiEf0x",
        "outputId": "e7db76f0-5df4-4176-bc0b-ce6f73013304"
      },
      "source": [
        "import numpy as np\n",
        "#Pandas is to store and make functional the data we're going to use\n",
        "import pandas as pd\n",
        "#Sklearn is to test whether our method, Standard deviation, is working for finding the best feature(s)\n",
        "from sklearn import linear_model as lm\n",
        "from sklearn.model_selection import train_test_split\n",
        "import matplotlib.pyplot as plt\n",
        "\n",
        "\n",
        "#Read in data\n",
        "#taxData = pd.read_csv('/content/sales-and-use-tax.csv')\n",
        "taxData = pd.read_csv('https://data.burlingtonvt.gov/explore/dataset/sales-and-use-tax/download/?format=csv&timezone=US/Eastern&lang=en&use_labels_for_header=true&csv_separator=%2C')\n",
        "#popData = pd.read_csv('/content/HS-STAT-Population-of-Vermont-towns-1930-2019.csv')\n",
        "popData = pd.read_excel('https://www.healthvermont.gov/sites/default/files/documents/xls/HS-STAT-Population-of-Vermont-towns-1930-2019.xls', skiprows=4)\n",
        "\n",
        "#dropped an ID column\n",
        "popData = popData.drop('CTC', axis=1)\n",
        "\n",
        "#Data Engineering step(s)\n",
        "#Reshaped the data to get ready for merging with the tax data\n",
        "popData2 = popData.melt(id_vars=['NAME'], var_name=\"Calendar Year\", value_name=\"Population\")\n",
        "\n",
        "#Changing data type(dtype) for merging\n",
        "popData2 = popData2.astype({'Calendar Year' : 'int64'})\n",
        "\n",
        "#Merging datasets into one dataset\n",
        "DATA = taxData.merge(popData2, left_on=[\"Town\", \"Calendar Year\"], right_on=[\"NAME\", \"Calendar Year\"], how='inner')\n",
        "\n",
        "#Feature we want to predict\n",
        "TargetFeature = \"Gross\"\n",
        "#Separate Features and Target(s)\n",
        "DATAFeatures = DATA.drop(TargetFeature, axis=1)\n",
        "\n",
        "#Data Mining Steps - Using standard deviation\n",
        "MostImportantFeature = DATAFeatures.std().sort_values(ascending=False)[0:1]\n",
        "LeastImportantFeature = DATAFeatures.std().sort_values()[0:1]\n",
        "\n",
        "#Final Data Engineering Steps\n",
        "#Find most important feature, by our Data mining methodology\n",
        "FeatureName = MostImportantFeature.index[0]\n",
        "\n",
        "\n",
        "#Testing our choice from Data Mining Results\n",
        "#Setting up input arrays for test\n",
        "\n",
        "xb = np.array(DATA['Retail'])\n",
        "xb = xb.reshape(-1,1)\n",
        "yb = np.array(DATA['Gross'])\n",
        "yb = yb.reshape(-1,1)\n",
        "\n",
        "bestModel = lm.LinearRegression().fit(xb,yb)\n",
        "BMscore = bestModel.score(xb, yb)\n",
        "\n",
        "#if the regression score is above threshold use the chosen feature\n",
        "BestDataModel = pd.DataFrame(DATA[['Gross', 'Retail']])\n",
        "\n",
        "#multivariate example\n",
        "xtm = DATA[['Population', 'Gross Count', 'Retail Count', 'Use Count']]\n",
        "#xt = xt.reshape(-1,1)\n",
        "ytm = np.array(DATA[TargetFeature])\n",
        "ytm = ytm.reshape(-1,1)\n",
        "\n",
        "testModelm = lm.LinearRegression().fit(xtm,ytm)\n",
        "Testscorem = testModelm.score(xtm,ytm)\n",
        "\n",
        "#Showing the bad case from Data Mining Results\n",
        "xw = np.array(DATA['Calendar Year'])\n",
        "xw = xw.reshape(-1,1)\n",
        "yw = np.array(DATA['Gross'])\n",
        "yw = yw.reshape(-1,1)\n",
        "\n",
        "xwtest = np.array(xw)\n",
        "xwtest = xw.reshape(-1,1)\n",
        "ywtest = np.array(yw)\n",
        "ywtest = yw.reshape(-1,1)\n",
        "\n",
        "worstModel = lm.LinearRegression().fit(xw,yw)\n",
        "WMscore = worstModel.score(xw,yw)\n",
        "\n",
        "\n",
        "print(DATA.std().sort_values(ascending=False))\n",
        "print('\\nThe Most Important feature, ', MostImportantFeature.index[0],', has an linear regression accuracy of:  ', BMscore, sep=\"\")\n",
        "print('\\nThe parameters for the best model are :\\n m = ', bestModel.coef_, '\\n b = ', bestModel.intercept_)\n",
        "print('\\nUsing multiple input features and avoiding other tax revenue components, gives a linear regression accuracy of:  ', Testscorem, sep=\"\")\n",
        "print('\\nThe parameters for the best multivariate model are :\\n m = ', testModelm.coef_, '\\n b = ', testModelm.intercept_)\n",
        "print('\\nThe Least Important feature, ', LeastImportantFeature.index[0],', has an linear regression accuracy of:  ', WMscore, sep=\"\")\n",
        "print('\\nThe best data model is:  \\n', BestDataModel.head(), '\\n')\n",
        "\n",
        "yb_pred = bestModel.predict(xb)\n",
        "yw_pred = worstModel.predict(xw)\n",
        "#yt_pred = testModel.predict(xt)\n",
        "\n",
        "plt.figure(0)\n",
        "plt.scatter(xb, yb)\n",
        "plt.plot(xb, yb_pred, color='red')\n",
        "\n",
        "plt.figure(1)\n",
        "plt.scatter(xw, yw)\n",
        "plt.plot(xw, yw_pred, color='red')\n"
      ],
      "execution_count": null,
      "outputs": [
        {
          "output_type": "stream",
          "name": "stdout",
          "text": [
            "Gross            2.469427e+08\n",
            "Retail           5.074067e+07\n",
            "Use              2.819924e+06\n",
            "Population       4.160572e+03\n",
            "Gross Count      1.292872e+02\n",
            "Retail Count     1.133789e+02\n",
            "Use Count        4.442867e+01\n",
            "Calendar Year    1.125664e+00\n",
            "dtype: float64\n",
            "\n",
            "The Most Important feature, Retail, has an linear regression accuracy of:  0.8663761236994375\n",
            "\n",
            "The parameters for the best model are :\n",
            " m =  [[4.52994771]] \n",
            " b =  [5728858.06267977]\n",
            "\n",
            "Using multiple input features and avoiding other tax revenue components, gives a linear regression accuracy of:  0.7069695728326539\n",
            "\n",
            "The parameters for the best multivariate model are :\n",
            " m =  [[   16559.04168509  3772153.78417461 -5301727.07814138  5747774.4543804 ]] \n",
            " b =  [-1051402.4763127]\n",
            "\n",
            "The Least Important feature, Calendar Year, has an linear regression accuracy of:  0.00014268782597526286\n",
            "\n",
            "The best data model is:  \n",
            "           Gross        Retail\n",
            "0  8.655269e+06  1.446626e+06\n",
            "1  2.081151e+07  4.655620e+06\n",
            "2  1.303645e+08  1.365132e+07\n",
            "3  5.231264e+08  1.405078e+08\n",
            "4  9.516783e+07  2.056342e+07 \n",
            "\n"
          ]
        },
        {
          "output_type": "execute_result",
          "data": {
            "text/plain": [
              "[<matplotlib.lines.Line2D at 0x7f27d2e54fd0>]"
            ]
          },
          "metadata": {},
          "execution_count": 1
        },
        {
          "output_type": "display_data",
          "data": {
            "image/png": "[encoded data removed]",
            "text/plain": [
              "<Figure size 432x288 with 1 Axes>"
            ]
          },
          "metadata": {
            "needs_background": "light"
          }
        },
        {
          "output_type": "display_data",
          "data": {
            "image/png": "[encoded data removed]",
            "text/plain": [
              "<Figure size 432x288 with 1 Axes>"
            ]
          },
          "metadata": {
            "needs_background": "light"
          }
        }
      ]
    }
  ]
}