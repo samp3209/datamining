{
  "nbformat": 4,
  "nbformat_minor": 0,
  "metadata": {
    "colab": {
      "name": "PANDAS++.ipynb",
      "provenance": [],
      "authorship_tag": "ABX9TyPgxwGPmXdlmN5eWuF+PL6p",
      "include_colab_link": true
    },
    "kernelspec": {
      "name": "python3",
      "display_name": "Python 3"
    },
    "language_info": {
      "name": "python"
    }
  },
  "cells": [
    {
      "cell_type": "markdown",
      "metadata": {
        "id": "view-in-github",
        "colab_type": "text"
      },
      "source": [
        "<a href=\"https://colab.research.google.com/github/samp3209/datamining/blob/main/PANDAS%2B%2B.ipynb\" target=\"_parent\"><img src=\"https://colab.research.google.com/assets/colab-badge.svg\" alt=\"Open In Colab\"/></a>"
      ]
    },
    {
      "cell_type": "code",
      "metadata": {
        "colab": {
          "base_uri": "https://localhost:8080/",
          "height": 35
        },
        "id": "WrfABWYFXQE5",
        "outputId": "5e63facf-2ee5-4b54-fcb3-11ffaae0cd83"
      },
      "source": [
        "import pandas as pd\n",
        "import numpy as np\n",
        "from sklearn import linear_model as lm\n",
        "\n",
        "pd.__version__"
      ],
      "execution_count": 1,
      "outputs": [
        {
          "output_type": "execute_result",
          "data": {
            "application/vnd.google.colaboratory.intrinsic+json": {
              "type": "string"
            },
            "text/plain": [
              "'1.1.5'"
            ]
          },
          "metadata": {},
          "execution_count": 1
        }
      ]
    },
    {
      "cell_type": "code",
      "metadata": {
        "colab": {
          "base_uri": "https://localhost:8080/"
        },
        "id": "tPjzglvHXbRl",
        "outputId": "46e27fdf-cb9c-4ea2-b1b0-b0c6332f115e"
      },
      "source": [
        "#data loading steps\n",
        "pdata = pd.read_excel('VTPopStat.xls')\n",
        "sdata = pd.read_csv('sales-and-use-tax.csv')\n",
        "print(sdata.head())\n",
        "pdata = pdata.drop('CTC', axis=1)\n",
        "print(pdata.head())\n",
        "\n",
        "#data engineering steps\n",
        "#dropping columns and reshaping population data\n",
        "pdata2 = pdata.melt(id_vars=[\"NAME\"], var_name=\"Calendar Year\", value_name=\"Population\")\n",
        "pdata2.head()\n",
        "#building final data set\n",
        "DATA = sdata.merge(pdata2, left_on=[\"Town\", \"Calendar Year\"], right_on=[\"NAME\", \"Calendar Year\"], how='inner')\n",
        "DATA.describe()\n",
        "target = \"Gross\"\n",
        "DATA2 = DATA.drop('Gross', axis=1)\n",
        "#data mining steps find std by column and choosing the largest one\n",
        "feature = DATA2.std().sort_values(ascending=False)[0:1]\n",
        "\n",
        "\n",
        "\n",
        "\n",
        "\n",
        "\n",
        "#testing data mining findings\n",
        "xb = np.array(DATA[feature.index[0]])\n",
        "xb = xb.reshape(-1,1)\n",
        "yb = np.array(DATA['Gross'])\n",
        "yb = yb.reshape(-1,1)\n",
        "model = lm.LinearRegression().fit(xb,yb)\n",
        "score = model.score(xb,yb)\n",
        "\n",
        "#New Data with Best feature \n",
        "BestDataModel = DATA[feature.index[0]]\n",
        "print(score)\n",
        "print(BestDataModel)"
      ],
      "execution_count": 18,
      "outputs": [
        {
          "output_type": "stream",
          "name": "stdout",
          "text": [
            "   Calendar Year        Town  ...           Use  Use Count\n",
            "0           2018     ADDISON  ...  0.000000e+00        0.0\n",
            "1           2018     ALBURGH  ...  0.000000e+00        0.0\n",
            "2           2018  BARRE TOWN  ...  1.015334e+06       15.0\n",
            "3           2018  BENNINGTON  ...  2.771998e+06      113.0\n",
            "4           2018    BRADFORD  ...  9.882338e+05       26.0\n",
            "\n",
            "[5 rows x 8 columns]\n",
            "          NAME  1930  1940  1950  1960  ...  2015  2016  2017  2018  2019\n",
            "0      ADDISON   684   576   628   645  ...  1361  1348  1341  1337  1322\n",
            "1     BRIDPORT   703   665   663   653  ...  1215  1208  1193  1187  1178\n",
            "2      BRISTOL  1832  1939  1988  2159  ...  3945  3906  3892  3885  3842\n",
            "3     CORNWALL   640   670   728   756  ...  1193  1199  1198  1207  1192\n",
            "4  FERRISBURGH  1285  1347  1387  1426  ...  2764  2740  2721  2715  2690\n",
            "\n",
            "[5 rows x 55 columns]\n",
            "0.8663761236994375\n",
            "0      1.446626e+06\n",
            "1      4.655620e+06\n",
            "2      1.365132e+07\n",
            "3      1.405078e+08\n",
            "4      2.056342e+07\n",
            "           ...     \n",
            "780    3.834357e+08\n",
            "781    3.381616e+07\n",
            "782    5.526718e+06\n",
            "783    1.867886e+06\n",
            "784    2.302616e+07\n",
            "Name: Retail, Length: 785, dtype: float64\n"
          ]
        }
      ]
    }
  ]
}