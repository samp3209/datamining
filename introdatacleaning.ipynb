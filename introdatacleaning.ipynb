{
  "nbformat": 4,
  "nbformat_minor": 0,
  "metadata": {
    "colab": {
      "name": "introdatacleaning.ipynb",
      "provenance": [],
      "authorship_tag": "ABX9TyMKgyxn1N9FE0dOEzc+xiva",
      "include_colab_link": true
    },
    "kernelspec": {
      "name": "python3",
      "display_name": "Python 3"
    },
    "language_info": {
      "name": "python"
    }
  },
  "cells": [
    {
      "cell_type": "markdown",
      "metadata": {
        "id": "view-in-github",
        "colab_type": "text"
      },
      "source": [
        "<a href=\"https://colab.research.google.com/github/samp3209/datamining/blob/main/introdatacleaning.ipynb\" target=\"_parent\"><img src=\"https://colab.research.google.com/assets/colab-badge.svg\" alt=\"Open In Colab\"/></a>"
      ]
    },
    {
      "cell_type": "code",
      "metadata": {
        "colab": {
          "base_uri": "https://localhost:8080/"
        },
        "id": "fSgA4zdqFX5e",
        "outputId": "70d4a707-7bf6-4052-a585-6c8be049cd00"
      },
      "source": [
        "import pandas as pd\n",
        "import numpy as np\n",
        "\n",
        "data = pd.read_csv('flickr.csv')\n",
        "#finding columns to remove based on how many NaNs there are\n",
        "#data['Edition Statement'].isna().value_counts()/len(data)\n",
        "#data['Corporate Author'].isna().value_counts()/len(data)\n",
        "#data['Engraver'].isna().value_counts()/len(data)\n",
        "#data['Former owner'].isna().value_counts()/len(data)\n",
        "\n",
        "to_drop = ['Edition Statement', 'Corporate Author', 'Corporate Contributors', 'Former owner', 'Engraver']\n",
        "data2 = data.drop(columns=to_drop)\n",
        "data2\n",
        "#check for unique values\n",
        "data2['Identifier'].value_counts().describe()\n",
        "data2['Date of Publication'].is_unique\n",
        "#seting identifier to index\n",
        "data2.set_index('Identifier', inplace=True)\n",
        "data2.loc[206]\n",
        "\n",
        "#fixing date of publication column using regex\n",
        "data2.loc[1905:, 'Date of Publication'].head(10)\n",
        "regex = r'^(\\d{4})'\n",
        "dataextract = data2['Date of Publication'].str.extract(regex, expand=False)\n",
        "dataextract\n",
        "data2['Date of Publication'] = pd.to_numeric(dataextract)\n",
        "data2.dtypes"
      ],
      "execution_count": 32,
      "outputs": [
        {
          "output_type": "execute_result",
          "data": {
            "text/plain": [
              "Place of Publication     object\n",
              "Date of Publication     float64\n",
              "Publisher                object\n",
              "Title                    object\n",
              "Author                   object\n",
              "Contributors             object\n",
              "Issuance type            object\n",
              "Flickr URL               object\n",
              "Shelfmarks               object\n",
              "dtype: object"
            ]
          },
          "metadata": {},
          "execution_count": 32
        }
      ]
    }
  ]
}