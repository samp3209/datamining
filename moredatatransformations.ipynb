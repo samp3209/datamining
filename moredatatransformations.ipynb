{
  "nbformat": 4,
  "nbformat_minor": 0,
  "metadata": {
    "colab": {
      "name": "moredatatransformations.ipynb",
      "provenance": [],
      "authorship_tag": "ABX9TyOWGON4qL8vArZKnlmuVkv8",
      "include_colab_link": true
    },
    "kernelspec": {
      "name": "python3",
      "display_name": "Python 3"
    },
    "language_info": {
      "name": "python"
    }
  },
  "cells": [
    {
      "cell_type": "markdown",
      "metadata": {
        "id": "view-in-github",
        "colab_type": "text"
      },
      "source": [
        "<a href=\"https://colab.research.google.com/github/samp3209/datamining/blob/main/moredatatransformations.ipynb\" target=\"_parent\"><img src=\"https://colab.research.google.com/assets/colab-badge.svg\" alt=\"Open In Colab\"/></a>"
      ]
    },
    {
      "cell_type": "code",
      "metadata": {
        "id": "Nc7ZkhFPk4Ee"
      },
      "source": [
        "import pandas as pd\n",
        "import numpy as np\n",
        "import sklearn\n",
        "from datetime import date\n"
      ],
      "execution_count": 1,
      "outputs": []
    },
    {
      "cell_type": "code",
      "metadata": {
        "colab": {
          "base_uri": "https://localhost:8080/"
        },
        "id": "sEN6TghAmeKl",
        "outputId": "a3db2f55-da29-438a-bc97-06989b6234d3"
      },
      "source": [
        "data = pd.read_csv('melb_data.csv')\n",
        "#print(data.shape)\n",
        "#print(data.info())\n",
        "\n",
        "data['Date'] = pd.to_datetime(data['Date'])\n",
        "#data.Date.head()\n",
        "data.Propertycount = data.Propertycount.astype('int')\n",
        "\n",
        "#building a map for data['Type']\n",
        "TypeMap = {'h':'house', 'u': 'unit', 't':'town_house'}\n",
        "data.Type.replace(TypeMap).sample(10)\n",
        "data.Type = data.Type.astype('category')\n",
        "#data.Type.memory_usage()\n",
        "#data.Date.dt.month.sample(10)\n",
        "data.Address.str.capitalize().sample(10)\n",
        "data.Suburb"
      ],
      "execution_count": 2,
      "outputs": [
        {
          "output_type": "execute_result",
          "data": {
            "text/plain": [
              "0           Abbotsford\n",
              "1           Abbotsford\n",
              "2           Abbotsford\n",
              "3           Abbotsford\n",
              "4           Abbotsford\n",
              "             ...      \n",
              "13575    Wheelers Hill\n",
              "13576     Williamstown\n",
              "13577     Williamstown\n",
              "13578     Williamstown\n",
              "13579       Yarraville\n",
              "Name: Suburb, Length: 13580, dtype: object"
            ]
          },
          "metadata": {},
          "execution_count": 2
        }
      ]
    },
    {
      "cell_type": "code",
      "metadata": {
        "colab": {
          "base_uri": "https://localhost:8080/",
          "height": 501
        },
        "id": "4jgbCRY1u3Ks",
        "outputId": "f2c02ae2-42fe-495e-860f-c1b258cde064"
      },
      "source": [
        "data = pd.read_csv('marketing_data.csv')\n",
        "data['Age'] = date.today().year - data.Year_Birth\n",
        "data.Age\n",
        "data['Year'] = pd.DatetimeIndex(data.Dt_Customer).year\n",
        "data.Year\n",
        "data['Enrollment_Length'] = date.today().year - data.Year\n",
        "data.Enrollment_Length\n",
        "data.sample(10)\n",
        "#replace ,$ and . \n",
        "data['Income'] = data[' Income '].str.replace(',', '').str.replace('$', '').str.replace('.', '').fillna(0).astype(int)\n",
        "print(data.Income)\n",
        "#lambda function is a small function call this one takes the income and scales it down to two digits\n",
        "data['Income_ms'] = data['Income'].apply(lambda x: round(x/1000000, 2))\n",
        "data[['Income','Income_ms']].describe()"
      ],
      "execution_count": 10,
      "outputs": [
        {
          "output_type": "stream",
          "name": "stdout",
          "text": [
            "0       8483500\n",
            "1       5709100\n",
            "2       6726700\n",
            "3       3247400\n",
            "4       2147400\n",
            "         ...   \n",
            "2235    6647600\n",
            "2236    3105600\n",
            "2237    4631000\n",
            "2238    6581900\n",
            "2239    9487100\n",
            "Name: Income, Length: 2240, dtype: int64\n"
          ]
        },
        {
          "output_type": "execute_result",
          "data": {
            "text/html": [
              "<div>\n",
              "<style scoped>\n",
              "    .dataframe tbody tr th:only-of-type {\n",
              "        vertical-align: middle;\n",
              "    }\n",
              "\n",
              "    .dataframe tbody tr th {\n",
              "        vertical-align: top;\n",
              "    }\n",
              "\n",
              "    .dataframe thead th {\n",
              "        text-align: right;\n",
              "    }\n",
              "</style>\n",
              "<table border=\"1\" class=\"dataframe\">\n",
              "  <thead>\n",
              "    <tr style=\"text-align: right;\">\n",
              "      <th></th>\n",
              "      <th>Income</th>\n",
              "      <th>Income_ms</th>\n",
              "    </tr>\n",
              "  </thead>\n",
              "  <tbody>\n",
              "    <tr>\n",
              "      <th>count</th>\n",
              "      <td>2.240000e+03</td>\n",
              "      <td>2240.000000</td>\n",
              "    </tr>\n",
              "    <tr>\n",
              "      <th>mean</th>\n",
              "      <td>5.168746e+06</td>\n",
              "      <td>5.168737</td>\n",
              "    </tr>\n",
              "    <tr>\n",
              "      <th>std</th>\n",
              "      <td>2.560934e+06</td>\n",
              "      <td>2.560927</td>\n",
              "    </tr>\n",
              "    <tr>\n",
              "      <th>min</th>\n",
              "      <td>0.000000e+00</td>\n",
              "      <td>0.000000</td>\n",
              "    </tr>\n",
              "    <tr>\n",
              "      <th>25%</th>\n",
              "      <td>3.472200e+06</td>\n",
              "      <td>3.470000</td>\n",
              "    </tr>\n",
              "    <tr>\n",
              "      <th>50%</th>\n",
              "      <td>5.107500e+06</td>\n",
              "      <td>5.105000</td>\n",
              "    </tr>\n",
              "    <tr>\n",
              "      <th>75%</th>\n",
              "      <td>6.828975e+06</td>\n",
              "      <td>6.830000</td>\n",
              "    </tr>\n",
              "    <tr>\n",
              "      <th>max</th>\n",
              "      <td>6.666660e+07</td>\n",
              "      <td>66.670000</td>\n",
              "    </tr>\n",
              "  </tbody>\n",
              "</table>\n",
              "</div>"
            ],
            "text/plain": [
              "             Income    Income_ms\n",
              "count  2.240000e+03  2240.000000\n",
              "mean   5.168746e+06     5.168737\n",
              "std    2.560934e+06     2.560927\n",
              "min    0.000000e+00     0.000000\n",
              "25%    3.472200e+06     3.470000\n",
              "50%    5.107500e+06     5.105000\n",
              "75%    6.828975e+06     6.830000\n",
              "max    6.666660e+07    66.670000"
            ]
          },
          "metadata": {},
          "execution_count": 10
        }
      ]
    }
  ]
}