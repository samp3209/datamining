{
  "nbformat": 4,
  "nbformat_minor": 0,
  "metadata": {
    "colab": {
      "name": "moredatatransformations.ipynb",
      "provenance": [],
      "authorship_tag": "ABX9TyMax+RiFLB5hKm09SsImKF4",
      "include_colab_link": true
    },
    "kernelspec": {
      "name": "python3",
      "display_name": "Python 3"
    },
    "language_info": {
      "name": "python"
    }
  },
  "cells": [
    {
      "cell_type": "markdown",
      "metadata": {
        "id": "view-in-github",
        "colab_type": "text"
      },
      "source": [
        "<a href=\"https://colab.research.google.com/github/samp3209/datamining/blob/main/moredatatransformations.ipynb\" target=\"_parent\"><img src=\"https://colab.research.google.com/assets/colab-badge.svg\" alt=\"Open In Colab\"/></a>"
      ]
    },
    {
      "cell_type": "code",
      "metadata": {
        "id": "Nc7ZkhFPk4Ee"
      },
      "source": [
        "import pandas as pd\n",
        "import numpy as np\n",
        "import sklearn\n",
        "from datetime import date\n"
      ],
      "execution_count": 47,
      "outputs": []
    },
    {
      "cell_type": "code",
      "metadata": {
        "colab": {
          "base_uri": "https://localhost:8080/"
        },
        "id": "sEN6TghAmeKl",
        "outputId": "a920d1c6-e416-4a05-d1ae-efe443ed5aab"
      },
      "source": [
        "data = pd.read_csv('melb_data.csv')\n",
        "#print(data.shape)\n",
        "#print(data.info())\n",
        "\n",
        "data['Date'] = pd.to_datetime(data['Date'])\n",
        "#data.Date.head()\n",
        "data.Propertycount = data.Propertycount.astype('int')\n",
        "\n",
        "#building a map for data['Type']\n",
        "TypeMap = {'h':'house', 'u': 'unit', 't':'town_house'}\n",
        "data.Type.replace(TypeMap).sample(10)\n",
        "data.Type = data.Type.astype('category')\n",
        "#data.Type.memory_usage()\n",
        "#data.Date.dt.month.sample(10)\n",
        "data.Address.str.capitalize().sample(10)\n",
        "data.Suburb"
      ],
      "execution_count": 45,
      "outputs": [
        {
          "output_type": "execute_result",
          "data": {
            "text/plain": [
              "0           Abbotsford\n",
              "1           Abbotsford\n",
              "2           Abbotsford\n",
              "3           Abbotsford\n",
              "4           Abbotsford\n",
              "             ...      \n",
              "13575    Wheelers Hill\n",
              "13576     Williamstown\n",
              "13577     Williamstown\n",
              "13578     Williamstown\n",
              "13579       Yarraville\n",
              "Name: Suburb, Length: 13580, dtype: object"
            ]
          },
          "metadata": {},
          "execution_count": 45
        }
      ]
    },
    {
      "cell_type": "code",
      "metadata": {
        "colab": {
          "base_uri": "https://localhost:8080/"
        },
        "id": "4jgbCRY1u3Ks",
        "outputId": "7a8dcf13-339a-4e12-ad9f-8363a1d49e62"
      },
      "source": [
        "data = pd.read_csv('marketing_data.csv')\n",
        "data['Age'] = date.today().year - data.Year_Birth\n",
        "data.Age\n",
        "data['Year'] = pd.DatetimeIndex(data.Dt_Customer).year\n",
        "data.Year\n",
        "data['Enrollment_Length'] = date.today().year - data.Year\n",
        "data.Enrollment_Length\n",
        "data.sample(10)\n",
        "#replace ,$ and . \n",
        "data['Income'] = data[' Income '].str.replace(',', '').str.replace('$', '').str.replace('.', '').fillna(0).astype(int)\n",
        "data.Income"
      ],
      "execution_count": 61,
      "outputs": [
        {
          "output_type": "execute_result",
          "data": {
            "text/plain": [
              "0       8483500\n",
              "1       5709100\n",
              "2       6726700\n",
              "3       3247400\n",
              "4       2147400\n",
              "         ...   \n",
              "2235    6647600\n",
              "2236    3105600\n",
              "2237    4631000\n",
              "2238    6581900\n",
              "2239    9487100\n",
              "Name: Income, Length: 2240, dtype: int64"
            ]
          },
          "metadata": {},
          "execution_count": 61
        }
      ]
    }
  ]
}