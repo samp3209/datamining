{
  "nbformat": 4,
  "nbformat_minor": 0,
  "metadata": {
    "colab": {
      "name": "moredatatransformations.ipynb",
      "provenance": [],
      "authorship_tag": "ABX9TyPv7YEwcrXdXc7EtYWQkZxV",
      "include_colab_link": true
    },
    "kernelspec": {
      "name": "python3",
      "display_name": "Python 3"
    },
    "language_info": {
      "name": "python"
    }
  },
  "cells": [
    {
      "cell_type": "markdown",
      "metadata": {
        "id": "view-in-github",
        "colab_type": "text"
      },
      "source": [
        "<a href=\"https://colab.research.google.com/github/samp3209/datamining/blob/main/moredatatransformations.ipynb\" target=\"_parent\"><img src=\"https://colab.research.google.com/assets/colab-badge.svg\" alt=\"Open In Colab\"/></a>"
      ]
    },
    {
      "cell_type": "code",
      "metadata": {
        "id": "Nc7ZkhFPk4Ee"
      },
      "source": [
        "import pandas as pd\n",
        "import numpy as np\n",
        "import sklearn\n",
        "from datetime import date\n",
        "import sklearn.preprocessing\n",
        "from sklearn.preprocessing import LabelEncoder\n"
      ],
      "execution_count": 1,
      "outputs": []
    },
    {
      "cell_type": "code",
      "metadata": {
        "colab": {
          "base_uri": "https://localhost:8080/"
        },
        "id": "sEN6TghAmeKl",
        "outputId": "9ae9d42e-aab4-4540-c173-2f403beb622e"
      },
      "source": [
        "data = pd.read_csv('melb_data.csv')\n",
        "#print(data.shape)\n",
        "#print(data.info())\n",
        "\n",
        "data['Date'] = pd.to_datetime(data['Date'])\n",
        "#data.Date.head()\n",
        "data.Propertycount = data.Propertycount.astype('int')\n",
        "\n",
        "#building a map for data['Type']\n",
        "TypeMap = {'h':'house', 'u': 'unit', 't':'town_house'}\n",
        "data.Type.replace(TypeMap).sample(10)\n",
        "data.Type = data.Type.astype('category')\n",
        "#data.Type.memory_usage()\n",
        "#data.Date.dt.month.sample(10)\n",
        "data.Address.str.capitalize().sample(10)\n",
        "data.Suburb"
      ],
      "execution_count": 13,
      "outputs": [
        {
          "output_type": "execute_result",
          "data": {
            "text/plain": [
              "0           Abbotsford\n",
              "1           Abbotsford\n",
              "2           Abbotsford\n",
              "3           Abbotsford\n",
              "4           Abbotsford\n",
              "             ...      \n",
              "13575    Wheelers Hill\n",
              "13576     Williamstown\n",
              "13577     Williamstown\n",
              "13578     Williamstown\n",
              "13579       Yarraville\n",
              "Name: Suburb, Length: 13580, dtype: object"
            ]
          },
          "metadata": {},
          "execution_count": 13
        }
      ]
    },
    {
      "cell_type": "code",
      "metadata": {
        "colab": {
          "base_uri": "https://localhost:8080/"
        },
        "id": "4jgbCRY1u3Ks",
        "outputId": "236f71a2-548d-43a4-86c3-30eb1565a9af"
      },
      "source": [
        "data = pd.read_csv('marketing_data.csv')\n",
        "data['Age'] = date.today().year - data.Year_Birth\n",
        "data.Age\n",
        "data['Year'] = pd.DatetimeIndex(data.Dt_Customer).year\n",
        "data.Year\n",
        "data['Enrollment_Length'] = date.today().year - data.Year\n",
        "data.Enrollment_Length\n",
        "data.sample(10)\n",
        "#replace ,$ and . \n",
        "data['Income'] = data[' Income '].str.replace(',', '').str.replace('$', '').str.replace('.', '').fillna(0).astype(int)\n",
        "#print(data.Income)\n",
        "#lambda function is a small function call this one takes the income and scales it down to two digits\n",
        "data['Income_ks'] = data['Income'].apply(lambda x: round(x/1000, 2))\n",
        "data[['Income','Income_ks']].describe()\n",
        "data.head(6)\n",
        "data['ScaledMntMeatProducts'] = sklearn.preprocessing.minmax_scale(data['MntMeatProducts'])\n",
        "data['ScaledMntMeatProducts'].describe()\n",
        "#data['ScaledMntMeatProducts2'] = sklearn.preprocessing.StandardScaler(data['MntMeatProducts'])\n",
        "data['ScaledMntMeatProducts2'] = data['MntMeatProducts'].apply(lambda x: (x-data['MntMeatProducts'].mean())/data['MntMeatProducts'].std())\n",
        "data['ScaledMntMeatProducts2'].describe()\n"
      ],
      "execution_count": null,
      "outputs": [
        {
          "output_type": "execute_result",
          "data": {
            "text/plain": [
              "count    2.240000e+03\n",
              "mean     1.932978e-17\n",
              "std      1.000000e+00\n",
              "min     -7.396483e-01\n",
              "25%     -6.687626e-01\n",
              "50%     -4.428143e-01\n",
              "75%      2.881948e-01\n",
              "max      6.902720e+00\n",
              "Name: ScaledMntMeatProducts2, dtype: float64"
            ]
          },
          "metadata": {},
          "execution_count": 23
        }
      ]
    },
    {
      "cell_type": "code",
      "metadata": {
        "id": "mYebicxXZ4EH"
      },
      "source": [
        "df = pd.read_csv('marketing_data.csv')\n",
        "df = df.dropna()\n",
        "\n",
        "#seperates columns into categorical and numeric\n",
        "data_coloumn_category = df.select_dtypes(exclude=[np.number]).columns\n",
        "data_column_numeric = df.select_dtypes(include=[np.number]).columns\n",
        "\n",
        "#initializes the label encoder\n",
        "label_encoder = LabelEncoder()\n",
        "\n",
        "#step thru each categorical column and transforms each categorical data into a number \n",
        "for i in data_coloumn_category:\n",
        "  df[i] = label_encoder.fit_transform(df[i])\n"
      ],
      "execution_count": null,
      "outputs": []
    },
    {
      "cell_type": "code",
      "metadata": {
        "colab": {
          "base_uri": "https://localhost:8080/"
        },
        "id": "8tKeNRXJQEFf",
        "outputId": "78c661a7-b0c6-484e-a8e8-c757dfcd21f7"
      },
      "source": [
        "import pandas as pd\n",
        "import numpy as np\n",
        "from sklearn.preprocessing import LabelEncoder\n",
        "from sklearn.preprocessing import OneHotEncoder\n",
        "\n",
        "df = pd.read_csv('/content/Banking_Marketing.csv')\n",
        "\n",
        "df = df.dropna()\n",
        "\n",
        "data_column_category = df.select_dtypes(exclude=[np.number]).columns\n",
        "data_column_numeric = df.select_dtypes(include=[np.number]).columns\n",
        "\n",
        "df_onehot_getdummies = pd.get_dummies(df[data_column_category], prefix=data_column_category)\n",
        "\n",
        "\n",
        "\n",
        "#label_encoder = LabelEncoder()\n",
        "\n",
        "#for i in data_column_category:\n",
        "\n",
        "  #df[i] = label_encoder.fit_transform(df[i])\n",
        "\n",
        "onehot_encoder = OneHotEncoder(sparse=False)\n",
        "\n",
        "onehot_encoded = onehot_encoder.fit_transform(df[data_column_category])\n",
        "\n",
        "onehot_encoded_frame = pd.DataFrame(onehot_encoded, columns = onehot_encoder.get_feature_names(data_column_category))\n",
        "final_df = pd.concat([df_onehot_getdummies, df[data_column_numeric]], axis=1)\n",
        "final_df.std().sort_values(ascending=False)\n",
        "onehot_encoded_frame.std().sort_values(ascending=False)\n",
        "final_df.info()"
      ],
      "execution_count": 12,
      "outputs": [
        {
          "output_type": "stream",
          "name": "stdout",
          "text": [
            "<class 'pandas.core.frame.DataFrame'>\n",
            "Int64Index: 41189 entries, 0 to 41198\n",
            "Data columns (total 65 columns):\n",
            " #   Column                         Non-Null Count  Dtype  \n",
            "---  ------                         --------------  -----  \n",
            " 0   job_admin.                     41189 non-null  uint8  \n",
            " 1   job_blue-collar                41189 non-null  uint8  \n",
            " 2   job_entrepreneur               41189 non-null  uint8  \n",
            " 3   job_housemaid                  41189 non-null  uint8  \n",
            " 4   job_management                 41189 non-null  uint8  \n",
            " 5   job_retired                    41189 non-null  uint8  \n",
            " 6   job_self-employed              41189 non-null  uint8  \n",
            " 7   job_services                   41189 non-null  uint8  \n",
            " 8   job_student                    41189 non-null  uint8  \n",
            " 9   job_technician                 41189 non-null  uint8  \n",
            " 10  job_unemployed                 41189 non-null  uint8  \n",
            " 11  job_unknown                    41189 non-null  uint8  \n",
            " 12  marital_divorced               41189 non-null  uint8  \n",
            " 13  marital_married                41189 non-null  uint8  \n",
            " 14  marital_single                 41189 non-null  uint8  \n",
            " 15  marital_unknown                41189 non-null  uint8  \n",
            " 16  education_basic.4y             41189 non-null  uint8  \n",
            " 17  education_basic.6y             41189 non-null  uint8  \n",
            " 18  education_basic.9y             41189 non-null  uint8  \n",
            " 19  education_high.school          41189 non-null  uint8  \n",
            " 20  education_illiterate           41189 non-null  uint8  \n",
            " 21  education_professional.course  41189 non-null  uint8  \n",
            " 22  education_university.degree    41189 non-null  uint8  \n",
            " 23  education_unknown              41189 non-null  uint8  \n",
            " 24  default_no                     41189 non-null  uint8  \n",
            " 25  default_unknown                41189 non-null  uint8  \n",
            " 26  default_yes                    41189 non-null  uint8  \n",
            " 27  housing_no                     41189 non-null  uint8  \n",
            " 28  housing_unknown                41189 non-null  uint8  \n",
            " 29  housing_yes                    41189 non-null  uint8  \n",
            " 30  loan_n                         41189 non-null  uint8  \n",
            " 31  loan_no                        41189 non-null  uint8  \n",
            " 32  loan_unknown                   41189 non-null  uint8  \n",
            " 33  loan_yes                       41189 non-null  uint8  \n",
            " 34  contact_cellular               41189 non-null  uint8  \n",
            " 35  contact_telephone              41189 non-null  uint8  \n",
            " 36  month_apr                      41189 non-null  uint8  \n",
            " 37  month_aug                      41189 non-null  uint8  \n",
            " 38  month_dec                      41189 non-null  uint8  \n",
            " 39  month_jul                      41189 non-null  uint8  \n",
            " 40  month_jun                      41189 non-null  uint8  \n",
            " 41  month_mar                      41189 non-null  uint8  \n",
            " 42  month_may                      41189 non-null  uint8  \n",
            " 43  month_nov                      41189 non-null  uint8  \n",
            " 44  month_oct                      41189 non-null  uint8  \n",
            " 45  month_sep                      41189 non-null  uint8  \n",
            " 46  day_of_week_fri                41189 non-null  uint8  \n",
            " 47  day_of_week_mon                41189 non-null  uint8  \n",
            " 48  day_of_week_thu                41189 non-null  uint8  \n",
            " 49  day_of_week_tue                41189 non-null  uint8  \n",
            " 50  day_of_week_wed                41189 non-null  uint8  \n",
            " 51  poutcome_failure               41189 non-null  uint8  \n",
            " 52  poutcome_nonexistent           41189 non-null  uint8  \n",
            " 53  poutcome_success               41189 non-null  uint8  \n",
            " 54  age                            41189 non-null  int64  \n",
            " 55  duration                       41189 non-null  float64\n",
            " 56  campaign                       41189 non-null  int64  \n",
            " 57  pdays                          41189 non-null  int64  \n",
            " 58  previous                       41189 non-null  int64  \n",
            " 59  emp_var_rate                   41189 non-null  float64\n",
            " 60  cons_price_idx                 41189 non-null  float64\n",
            " 61  cons_conf_idx                  41189 non-null  float64\n",
            " 62  euribor3m                      41189 non-null  float64\n",
            " 63  nr_employed                    41189 non-null  float64\n",
            " 64  y                              41189 non-null  int64  \n",
            "dtypes: float64(6), int64(5), uint8(54)\n",
            "memory usage: 5.9 MB\n"
          ]
        }
      ]
    }
  ]
}