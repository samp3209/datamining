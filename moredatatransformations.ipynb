{
  "nbformat": 4,
  "nbformat_minor": 0,
  "metadata": {
    "colab": {
      "name": "moredatatransformations.ipynb",
      "provenance": [],
      "authorship_tag": "ABX9TyPT9DVa7wnGEcZ1mEMiOONQ",
      "include_colab_link": true
    },
    "kernelspec": {
      "name": "python3",
      "display_name": "Python 3"
    },
    "language_info": {
      "name": "python"
    }
  },
  "cells": [
    {
      "cell_type": "markdown",
      "metadata": {
        "id": "view-in-github",
        "colab_type": "text"
      },
      "source": [
        "<a href=\"https://colab.research.google.com/github/samp3209/datamining/blob/main/moredatatransformations.ipynb\" target=\"_parent\"><img src=\"https://colab.research.google.com/assets/colab-badge.svg\" alt=\"Open In Colab\"/></a>"
      ]
    },
    {
      "cell_type": "code",
      "metadata": {
        "id": "Nc7ZkhFPk4Ee"
      },
      "source": [
        "import pandas as pd\n",
        "import numpy as np\n",
        "import sklearn\n",
        "from datetime import date\n",
        "import sklearn.preprocessing\n",
        "from sklearn.preprocessing import LabelEncoder\n"
      ],
      "execution_count": 24,
      "outputs": []
    },
    {
      "cell_type": "code",
      "metadata": {
        "colab": {
          "base_uri": "https://localhost:8080/"
        },
        "id": "sEN6TghAmeKl",
        "outputId": "5b6e255a-c515-49ec-a676-093db0d371c0"
      },
      "source": [
        "data = pd.read_csv('melb_data.csv')\n",
        "#print(data.shape)\n",
        "#print(data.info())\n",
        "\n",
        "data['Date'] = pd.to_datetime(data['Date'])\n",
        "#data.Date.head()\n",
        "data.Propertycount = data.Propertycount.astype('int')\n",
        "\n",
        "#building a map for data['Type']\n",
        "TypeMap = {'h':'house', 'u': 'unit', 't':'town_house'}\n",
        "data.Type.replace(TypeMap).sample(10)\n",
        "data.Type = data.Type.astype('category')\n",
        "#data.Type.memory_usage()\n",
        "#data.Date.dt.month.sample(10)\n",
        "data.Address.str.capitalize().sample(10)\n",
        "data.Suburb"
      ],
      "execution_count": 4,
      "outputs": [
        {
          "output_type": "execute_result",
          "data": {
            "text/plain": [
              "0           Abbotsford\n",
              "1           Abbotsford\n",
              "2           Abbotsford\n",
              "3           Abbotsford\n",
              "4           Abbotsford\n",
              "             ...      \n",
              "13575    Wheelers Hill\n",
              "13576     Williamstown\n",
              "13577     Williamstown\n",
              "13578     Williamstown\n",
              "13579       Yarraville\n",
              "Name: Suburb, Length: 13580, dtype: object"
            ]
          },
          "metadata": {},
          "execution_count": 4
        }
      ]
    },
    {
      "cell_type": "code",
      "metadata": {
        "colab": {
          "base_uri": "https://localhost:8080/"
        },
        "id": "4jgbCRY1u3Ks",
        "outputId": "236f71a2-548d-43a4-86c3-30eb1565a9af"
      },
      "source": [
        "data = pd.read_csv('marketing_data.csv')\n",
        "data['Age'] = date.today().year - data.Year_Birth\n",
        "data.Age\n",
        "data['Year'] = pd.DatetimeIndex(data.Dt_Customer).year\n",
        "data.Year\n",
        "data['Enrollment_Length'] = date.today().year - data.Year\n",
        "data.Enrollment_Length\n",
        "data.sample(10)\n",
        "#replace ,$ and . \n",
        "data['Income'] = data[' Income '].str.replace(',', '').str.replace('$', '').str.replace('.', '').fillna(0).astype(int)\n",
        "#print(data.Income)\n",
        "#lambda function is a small function call this one takes the income and scales it down to two digits\n",
        "data['Income_ks'] = data['Income'].apply(lambda x: round(x/1000, 2))\n",
        "data[['Income','Income_ks']].describe()\n",
        "data.head(6)\n",
        "data['ScaledMntMeatProducts'] = sklearn.preprocessing.minmax_scale(data['MntMeatProducts'])\n",
        "data['ScaledMntMeatProducts'].describe()\n",
        "#data['ScaledMntMeatProducts2'] = sklearn.preprocessing.StandardScaler(data['MntMeatProducts'])\n",
        "data['ScaledMntMeatProducts2'] = data['MntMeatProducts'].apply(lambda x: (x-data['MntMeatProducts'].mean())/data['MntMeatProducts'].std())\n",
        "data['ScaledMntMeatProducts2'].describe()\n"
      ],
      "execution_count": 23,
      "outputs": [
        {
          "output_type": "execute_result",
          "data": {
            "text/plain": [
              "count    2.240000e+03\n",
              "mean     1.932978e-17\n",
              "std      1.000000e+00\n",
              "min     -7.396483e-01\n",
              "25%     -6.687626e-01\n",
              "50%     -4.428143e-01\n",
              "75%      2.881948e-01\n",
              "max      6.902720e+00\n",
              "Name: ScaledMntMeatProducts2, dtype: float64"
            ]
          },
          "metadata": {},
          "execution_count": 23
        }
      ]
    },
    {
      "cell_type": "code",
      "metadata": {
        "id": "mYebicxXZ4EH"
      },
      "source": [
        "df = pd.read_csv('marketing_data.csv')\n",
        "df = df.dropna()\n",
        "\n",
        "#seperates columns into categorical and numeric\n",
        "data_coloumn_category = df.select_dtypes(exclude=[np.number]).columns\n",
        "data_column_numeric = df.select_dtypes(include=[np.number]).columns\n",
        "\n",
        "#initializes the label encoder\n",
        "label_encoder = LabelEncoder()\n",
        "\n",
        "#step thru each categorical column and transforms each categorical data into a number \n",
        "for i in data_coloumn_category:\n",
        "  df[i] = label_encoder.fit_transform(df[i])\n"
      ],
      "execution_count": null,
      "outputs": []
    }
  ]
}