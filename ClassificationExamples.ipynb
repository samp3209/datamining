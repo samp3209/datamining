{
  "nbformat": 4,
  "nbformat_minor": 0,
  "metadata": {
    "colab": {
      "name": "ClassificationExamples.ipynb",
      "provenance": [],
      "authorship_tag": "ABX9TyP5mrplOEN//9dvMlwwWYgF",
      "include_colab_link": true
    },
    "kernelspec": {
      "name": "python3",
      "display_name": "Python 3"
    },
    "language_info": {
      "name": "python"
    }
  },
  "cells": [
    {
      "cell_type": "markdown",
      "metadata": {
        "id": "view-in-github",
        "colab_type": "text"
      },
      "source": [
        "<a href=\"https://colab.research.google.com/github/samp3209/datamining/blob/main/ClassificationExamples.ipynb\" target=\"_parent\"><img src=\"https://colab.research.google.com/assets/colab-badge.svg\" alt=\"Open In Colab\"/></a>"
      ]
    },
    {
      "cell_type": "code",
      "metadata": {
        "colab": {
          "base_uri": "https://localhost:8080/",
          "height": 571
        },
        "id": "9ArIRz1hxKDi",
        "outputId": "ac46de28-b288-4b13-9842-bb72268b15be"
      },
      "source": [
        "from numpy import where\n",
        "from collections import Counter\n",
        "from sklearn.datasets import make_blobs\n",
        "from matplotlib import pyplot\n",
        "from sklearn.cluster import KMeans\n",
        "from sklearn.model_selection import train_test_split\n",
        "from sklearn.metrics import accuracy_score\n",
        "from sklearn.tree import DecisionTreeClassifier\n",
        "import pandas as pd\n",
        "\n",
        "\n",
        "X, y = make_blobs(n_samples=1000, centers=2)\n",
        "counter = Counter(y)\n",
        "\n",
        "#for i in range(10):\n",
        "  #print(X[i], y[i])\n",
        "\n",
        "for label, _ in counter.items():\n",
        "  row_ix = where(y == label)[0]\n",
        "  pyplot.scatter(X[row_ix, 0], X[row_ix, 1], label=str(label))\n",
        "pyplot.legend()\n",
        "pyplot.show()\n",
        "\n",
        "\n",
        "#x_train, x_test, y_train, y_test = train_test_split(X,y, test_size=.2)\n",
        "\n",
        "\n",
        "i=0\n",
        "kmeans_scores = [None]*100\n",
        "trees_scores = [None]*100\n",
        "while i < 100:\n",
        "  x_train, x_test, y_train, y_test = train_test_split(X,y, test_size=.2)\n",
        "  kmeans = KMeans(n_clusters=2, random_state=0).fit(x_train)\n",
        "#kmeans.labels_\n",
        "\n",
        "  clf = DecisionTreeClassifier().fit(x_train, y_train)\n",
        "\n",
        "  y_tree_pred = clf.predict(x_test)\n",
        "  y_pred = kmeans.predict(x_test)\n",
        "#print(y_pred[:5])\n",
        "#print(y_test[:5])\n",
        "  #print(\"accuracy\", accuracy_score(y_test, y_pred))\n",
        "  kmeans_scores[i] = accuracy_score(y_test,y_pred)\n",
        "  trees_scores[i] = clf.score(x_test, y_test)\n",
        "  i+=1\n",
        "\n",
        "print(pd.Series(kmeans_scores).describe())\n",
        "print(pd.Series(trees_scores).describe())\n"
      ],
      "execution_count": 16,
      "outputs": [
        {
          "output_type": "display_data",
          "data": {
            "image/png": "[encoded data removed]",
            "text/plain": [
              "<Figure size 432x288 with 1 Axes>"
            ]
          },
          "metadata": {
            "needs_background": "light"
          }
        },
        {
          "output_type": "stream",
          "name": "stdout",
          "text": [
            "count    100.000000\n",
            "mean       0.500000\n",
            "std        0.502519\n",
            "min        0.000000\n",
            "25%        0.000000\n",
            "50%        0.500000\n",
            "75%        1.000000\n",
            "max        1.000000\n",
            "dtype: float64\n",
            "count    100.0\n",
            "mean       1.0\n",
            "std        0.0\n",
            "min        1.0\n",
            "25%        1.0\n",
            "50%        1.0\n",
            "75%        1.0\n",
            "max        1.0\n",
            "dtype: float64\n"
          ]
        }
      ]
    }
  ]
}