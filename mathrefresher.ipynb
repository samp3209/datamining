{
  "nbformat": 4,
  "nbformat_minor": 0,
  "metadata": {
    "colab": {
      "name": "mathrefresher.ipynb",
      "provenance": [],
      "authorship_tag": "ABX9TyNrZTJvCFhGPpSMQOGmjMG6",
      "include_colab_link": true
    },
    "kernelspec": {
      "name": "python3",
      "display_name": "Python 3"
    },
    "language_info": {
      "name": "python"
    }
  },
  "cells": [
    {
      "cell_type": "markdown",
      "metadata": {
        "id": "view-in-github",
        "colab_type": "text"
      },
      "source": [
        "<a href=\"https://colab.research.google.com/github/samp3209/datamining/blob/main/mathrefresher.ipynb\" target=\"_parent\"><img src=\"https://colab.research.google.com/assets/colab-badge.svg\" alt=\"Open In Colab\"/></a>"
      ]
    },
    {
      "cell_type": "code",
      "metadata": {
        "id": "lfgAtkKudBro"
      },
      "source": [
        "import numpy as np\n",
        "import pandas\n",
        "import psycopg2\n",
        "import sqlalchemy\n",
        "import matplotlib\n",
        "from scipy import stats\n",
        "from statistics import median"
      ],
      "execution_count": 17,
      "outputs": []
    },
    {
      "cell_type": "code",
      "metadata": {
        "colab": {
          "base_uri": "https://localhost:8080/"
        },
        "id": "yrqIBTAG3pQB",
        "outputId": "1ec76aa9-0a37-4e5d-fda8-6d9ad8d9aa3b"
      },
      "source": [
        "x = np.random.rand(100)\n",
        "print(x)\n",
        "print(x.mean())\n",
        "print(stats.mode(x))\n",
        "print(median(x))"
      ],
      "execution_count": 20,
      "outputs": [
        {
          "output_type": "stream",
          "name": "stdout",
          "text": [
            "[0.10557403 0.46865879 0.12186805 0.72867819 0.38195964 0.48368164\n",
            " 0.49417173 0.4652546  0.37717403 0.32301801 0.44921115 0.08172209\n",
            " 0.17854124 0.78457709 0.59741482 0.95615687 0.38879164 0.58870365\n",
            " 0.23434201 0.55282525 0.06864474 0.52484597 0.69456693 0.45833671\n",
            " 0.28862804 0.85087308 0.28862206 0.58363366 0.33500385 0.85954489\n",
            " 0.70449275 0.42367005 0.60612421 0.11308998 0.13165231 0.08993435\n",
            " 0.18130686 0.32636419 0.22973    0.08321914 0.94250383 0.84020792\n",
            " 0.51018233 0.17282161 0.18774191 0.13520329 0.49850474 0.15763326\n",
            " 0.97171518 0.81628211 0.18327985 0.04484039 0.3107618  0.19942346\n",
            " 0.30980142 0.40716751 0.15110531 0.44284953 0.2146767  0.22642878\n",
            " 0.21906241 0.33935652 0.13825101 0.37561367 0.66830315 0.73458289\n",
            " 0.58796885 0.75356652 0.39028711 0.72080588 0.03820766 0.03599738\n",
            " 0.21430545 0.88989511 0.61994213 0.51895696 0.52122181 0.83165878\n",
            " 0.652247   0.68657982 0.75046879 0.64406699 0.20895254 0.05430987\n",
            " 0.98750165 0.75705246 0.02021003 0.04136369 0.91502347 0.4446947\n",
            " 0.85027676 0.55574635 0.09470902 0.16159362 0.48670766 0.34025595\n",
            " 0.61667739 0.61085785 0.72535217 0.6317086 ]\n",
            "0.4416207888795634\n",
            "ModeResult(mode=array([0.02021003]), count=array([1]))\n",
            "0.4437721181411787\n"
          ]
        }
      ]
    }
  ]
}