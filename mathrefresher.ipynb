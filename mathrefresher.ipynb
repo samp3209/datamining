{
  "nbformat": 4,
  "nbformat_minor": 0,
  "metadata": {
    "colab": {
      "name": "mathrefresher.ipynb",
      "provenance": [],
      "authorship_tag": "ABX9TyN5FGBOEpvCOEaD+2Zu4UFW",
      "include_colab_link": true
    },
    "kernelspec": {
      "name": "python3",
      "display_name": "Python 3"
    },
    "language_info": {
      "name": "python"
    }
  },
  "cells": [
    {
      "cell_type": "markdown",
      "metadata": {
        "id": "view-in-github",
        "colab_type": "text"
      },
      "source": [
        "<a href=\"https://colab.research.google.com/github/samp3209/datamining/blob/main/mathrefresher.ipynb\" target=\"_parent\"><img src=\"https://colab.research.google.com/assets/colab-badge.svg\" alt=\"Open In Colab\"/></a>"
      ]
    },
    {
      "cell_type": "code",
      "metadata": {
        "id": "lfgAtkKudBro"
      },
      "source": [
        "import numpy as np\n",
        "import pandas\n",
        "import psycopg2\n",
        "import sqlalchemy\n",
        "import matplotlib.pyplot as plt\n",
        "\n",
        "from scipy import stats\n",
        "from statistics import median"
      ],
      "execution_count": 50,
      "outputs": []
    },
    {
      "cell_type": "code",
      "metadata": {
        "colab": {
          "base_uri": "https://localhost:8080/"
        },
        "id": "yrqIBTAG3pQB",
        "outputId": "1ec76aa9-0a37-4e5d-fda8-6d9ad8d9aa3b"
      },
      "source": [
        "x = np.random.rand(100)\n",
        "print(x)\n",
        "print(x.mean())\n",
        "print(stats.mode(x))\n",
        "print(median(x))"
      ],
      "execution_count": 20,
      "outputs": [
        {
          "output_type": "stream",
          "name": "stdout",
          "text": [
            "[0.10557403 0.46865879 0.12186805 0.72867819 0.38195964 0.48368164\n",
            " 0.49417173 0.4652546  0.37717403 0.32301801 0.44921115 0.08172209\n",
            " 0.17854124 0.78457709 0.59741482 0.95615687 0.38879164 0.58870365\n",
            " 0.23434201 0.55282525 0.06864474 0.52484597 0.69456693 0.45833671\n",
            " 0.28862804 0.85087308 0.28862206 0.58363366 0.33500385 0.85954489\n",
            " 0.70449275 0.42367005 0.60612421 0.11308998 0.13165231 0.08993435\n",
            " 0.18130686 0.32636419 0.22973    0.08321914 0.94250383 0.84020792\n",
            " 0.51018233 0.17282161 0.18774191 0.13520329 0.49850474 0.15763326\n",
            " 0.97171518 0.81628211 0.18327985 0.04484039 0.3107618  0.19942346\n",
            " 0.30980142 0.40716751 0.15110531 0.44284953 0.2146767  0.22642878\n",
            " 0.21906241 0.33935652 0.13825101 0.37561367 0.66830315 0.73458289\n",
            " 0.58796885 0.75356652 0.39028711 0.72080588 0.03820766 0.03599738\n",
            " 0.21430545 0.88989511 0.61994213 0.51895696 0.52122181 0.83165878\n",
            " 0.652247   0.68657982 0.75046879 0.64406699 0.20895254 0.05430987\n",
            " 0.98750165 0.75705246 0.02021003 0.04136369 0.91502347 0.4446947\n",
            " 0.85027676 0.55574635 0.09470902 0.16159362 0.48670766 0.34025595\n",
            " 0.61667739 0.61085785 0.72535217 0.6317086 ]\n",
            "0.4416207888795634\n",
            "ModeResult(mode=array([0.02021003]), count=array([1]))\n",
            "0.4437721181411787\n"
          ]
        }
      ]
    },
    {
      "cell_type": "code",
      "metadata": {
        "colab": {
          "base_uri": "https://localhost:8080/"
        },
        "id": "lR1pOhPtCjQw",
        "outputId": "61573f41-5a05-47ca-8946-85c7edff0f15"
      },
      "source": [
        "y = np.random.rand(100)\n",
        "print(np.corrcoef(y))"
      ],
      "execution_count": 34,
      "outputs": [
        {
          "output_type": "stream",
          "name": "stdout",
          "text": [
            "1.0\n"
          ]
        }
      ]
    },
    {
      "cell_type": "code",
      "metadata": {
        "colab": {
          "base_uri": "https://localhost:8080/"
        },
        "id": "XzGMb3we78ka",
        "outputId": "48ccc25d-9d50-410e-f412-fe260ea46268"
      },
      "source": [
        "print(np.std(x))\n",
        "print(stats.median_absolute_deviation(x))\n",
        "print(np.var(x))\n",
        "print(np.corrcoef(x, y))\n",
        "print(np.log10(x))\n"
      ],
      "execution_count": 58,
      "outputs": [
        {
          "output_type": "stream",
          "name": "stdout",
          "text": [
            "0.2685352307839854\n",
            "0.34417539447717604\n",
            "0.0721111701722083\n",
            "[[1.         0.13607163]\n",
            " [0.13607163 1.        ]]\n",
            "[-0.9764429  -0.32914323 -0.91411014 -0.13746423 -0.41798253 -0.3154404\n",
            " -0.3061221  -0.33230932 -0.42345822 -0.49077326 -0.34754947 -1.08766054\n",
            " -0.74826146 -0.10536437 -0.223724   -0.01947085 -0.41028308 -0.23010327\n",
            " -0.63014986 -0.25741213 -1.16339277 -0.27996813 -0.1582859  -0.33881535\n",
            " -0.53966148 -0.07013522 -0.53967047 -0.23385967 -0.4749502  -0.06573143\n",
            " -0.15212347 -0.37297223 -0.21743837 -0.94657589 -0.88057151 -1.04607441\n",
            " -0.74158576 -0.4862975  -0.6387823  -1.07977676 -0.02571688 -0.07561323\n",
            " -0.29227459 -0.76240196 -0.72643878 -0.86901274 -0.30233071 -0.80235214\n",
            " -0.01246101 -0.08815972 -0.73688528 -1.34833065 -0.50757238 -0.70022376\n",
            " -0.50891659 -0.39022688 -0.82072027 -0.35374381 -0.66821508 -0.64506838\n",
            " -0.65943213 -0.4693438  -0.85933169 -0.42525861 -0.17502649 -0.13395919\n",
            " -0.23064568 -0.12287841 -0.4086158  -0.14218168 -1.41784957 -1.44372911\n",
            " -0.66896679 -0.05066118 -0.20764885 -0.28486866 -0.28297742 -0.08005482\n",
            " -0.18558791 -0.16330897 -0.12466736 -0.19106896 -0.67995234 -1.26512121\n",
            " -0.00546217 -0.12087403 -1.69443309 -1.38338072 -0.03856777 -0.35193805\n",
            " -0.07043969 -0.25512338 -1.02360868 -0.7915758  -0.31273181 -0.46819428\n",
            " -0.20994197 -0.21405984 -0.13945109 -0.19948321]\n"
          ]
        }
      ]
    },
    {
      "cell_type": "code",
      "metadata": {
        "colab": {
          "base_uri": "https://localhost:8080/",
          "height": 265
        },
        "id": "sDPFXSFwDqzK",
        "outputId": "6eaf47ca-7646-4789-d912-95062b47c6ac"
      },
      "source": [
        "plt.scatter(x,y)\n",
        "plt.show()"
      ],
      "execution_count": 54,
      "outputs": [
        {
          "output_type": "display_data",
          "data": {
            "image/png": "[encoded data removed]",
            "text/plain": [
              "<Figure size 432x288 with 1 Axes>"
            ]
          },
          "metadata": {
            "needs_background": "light"
          }
        }
      ]
    }
  ]
}