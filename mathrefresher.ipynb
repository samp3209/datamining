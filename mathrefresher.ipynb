{
  "nbformat": 4,
  "nbformat_minor": 0,
  "metadata": {
    "colab": {
      "name": "mathrefresher.ipynb",
      "provenance": [],
      "authorship_tag": "ABX9TyPyINPPkh1XPASoHvcSzTUh",
      "include_colab_link": true
    },
    "kernelspec": {
      "name": "python3",
      "display_name": "Python 3"
    },
    "language_info": {
      "name": "python"
    }
  },
  "cells": [
    {
      "cell_type": "markdown",
      "metadata": {
        "id": "view-in-github",
        "colab_type": "text"
      },
      "source": [
        "<a href=\"https://colab.research.google.com/github/samp3209/datamining/blob/main/mathrefresher.ipynb\" target=\"_parent\"><img src=\"https://colab.research.google.com/assets/colab-badge.svg\" alt=\"Open In Colab\"/></a>"
      ]
    },
    {
      "cell_type": "code",
      "metadata": {
        "id": "lfgAtkKudBro"
      },
      "source": [
        "import numpy as np\n",
        "import pandas\n",
        "import psycopg2\n",
        "import sqlalchemy\n",
        "import matplotlib as plt\n",
        "from sklearn.linear_model import LinearRegression\n",
        "from scipy import stats\n",
        "from statistics import median"
      ],
      "execution_count": 15,
      "outputs": []
    },
    {
      "cell_type": "code",
      "metadata": {
        "colab": {
          "base_uri": "https://localhost:8080/"
        },
        "id": "yrqIBTAG3pQB",
        "outputId": "81b451e7-b7d9-48c8-af37-20eb4c292ce3"
      },
      "source": [
        "x = np.random.rand(100)\n",
        "print(x)\n",
        "print(x.mean())\n",
        "print(stats.mode(x))\n",
        "print(median(x))"
      ],
      "execution_count": 4,
      "outputs": [
        {
          "output_type": "stream",
          "name": "stdout",
          "text": [
            "[0.84159627 0.54745731 0.29423758 0.71225152 0.41737084 0.76257814\n",
            " 0.81356526 0.33481991 0.28018386 0.86764298 0.10797786 0.76138028\n",
            " 0.70158728 0.32987345 0.36534852 0.54498833 0.63396062 0.97705877\n",
            " 0.46725294 0.99005286 0.14391216 0.69614291 0.84177865 0.764644\n",
            " 0.76962586 0.48219775 0.56616373 0.1368129  0.70096422 0.89965797\n",
            " 0.8837515  0.53993487 0.60165034 0.8167134  0.09074368 0.81837866\n",
            " 0.95000555 0.80344962 0.99066128 0.46792517 0.59276687 0.53475733\n",
            " 0.77466555 0.92777654 0.18036108 0.95338599 0.13591821 0.27719009\n",
            " 0.13747648 0.91773758 0.56850599 0.32427722 0.11285652 0.82731927\n",
            " 0.75263981 0.40820436 0.72835667 0.54853042 0.95922754 0.77345005\n",
            " 0.81391239 0.52528951 0.35998263 0.51765141 0.80718307 0.17820039\n",
            " 0.38718752 0.23243697 0.38960791 0.6630805  0.56163561 0.46279326\n",
            " 0.17697198 0.66506279 0.8646371  0.55167208 0.09487092 0.86592795\n",
            " 0.88709225 0.8884068  0.10893447 0.71820188 0.35548069 0.91642369\n",
            " 0.49431961 0.21337024 0.87342507 0.70073444 0.95783458 0.53348532\n",
            " 0.16966561 0.12850113 0.61439344 0.30905129 0.57979819 0.94555851\n",
            " 0.03918154 0.49264714 0.50925341 0.4495423 ]\n",
            "0.5715510796791488\n",
            "ModeResult(mode=array([0.03918154]), count=array([1]))\n",
            "0.5673348570456886\n"
          ]
        }
      ]
    },
    {
      "cell_type": "code",
      "metadata": {
        "colab": {
          "base_uri": "https://localhost:8080/"
        },
        "id": "lR1pOhPtCjQw",
        "outputId": "8706b8fd-101b-4234-fe18-f35497284248"
      },
      "source": [
        "y = np.random.rand(100)\n",
        "print(np.corrcoef(y))"
      ],
      "execution_count": 5,
      "outputs": [
        {
          "output_type": "stream",
          "name": "stdout",
          "text": [
            "1.0\n"
          ]
        }
      ]
    },
    {
      "cell_type": "code",
      "metadata": {
        "colab": {
          "base_uri": "https://localhost:8080/"
        },
        "id": "XzGMb3we78ka",
        "outputId": "82f19776-1f01-4ad0-859c-0a8623d24f84"
      },
      "source": [
        "print(np.std(x))\n",
        "print(stats.median_absolute_deviation(x))\n",
        "print(np.var(x))\n",
        "print(np.corrcoef(x, y))\n",
        "print(np.log10(x))\n"
      ],
      "execution_count": 6,
      "outputs": [
        {
          "output_type": "stream",
          "name": "stdout",
          "text": [
            "0.2714489446132816\n",
            "0.35106201503676493\n",
            "0.07368452953166442\n",
            "[[1.         0.10710947]\n",
            " [0.10710947 1.        ]]\n",
            "[-0.0748962  -0.26164974 -0.53130186 -0.14736661 -0.3794779  -0.11771565\n",
            " -0.08960761 -0.47518873 -0.55255689 -0.06165894 -0.96666528 -0.11839838\n",
            " -0.1539183  -0.48165264 -0.43729265 -0.2636128  -0.19793772 -0.01007931\n",
            " -0.33044796 -0.00434162 -0.84190251 -0.1573016  -0.07480209 -0.11654072\n",
            " -0.11372035 -0.31677482 -0.24705796 -0.86387294 -0.15430415 -0.04592257\n",
            " -0.05366984 -0.26765862 -0.22065584 -0.08793032 -1.04218363 -0.0870457\n",
            " -0.02227386 -0.09504135 -0.00407481 -0.3298236  -0.22711608 -0.27184325\n",
            " -0.11088576 -0.03255661 -0.74385716 -0.02073123 -0.86672236 -0.5572223\n",
            " -0.8617716  -0.03728149 -0.24526496 -0.48908356 -0.94747335 -0.08232686\n",
            " -0.12341281 -0.38912236 -0.1376559  -0.26079928 -0.01807836 -0.11156773\n",
            " -0.08942234 -0.27960127 -0.44371845 -0.28596259 -0.09302796 -0.74909136\n",
            " -0.41207865 -0.6336948  -0.40937223 -0.17843374 -0.25054537 -0.33461297\n",
            " -0.75209548 -0.17713735 -0.06316613 -0.258319   -1.02286688 -0.06251824\n",
            " -0.05203121 -0.05138812 -0.96283467 -0.14375346 -0.44918399 -0.03790369\n",
            " -0.30599216 -0.67086616 -0.05877434 -0.15444654 -0.01870949 -0.27287752\n",
            " -0.77040617 -0.89109304 -0.21155343 -0.50996944 -0.23672315 -0.02431159\n",
            " -1.40691852 -0.30746403 -0.29306605 -0.34722944]\n"
          ]
        }
      ]
    },
    {
      "cell_type": "code",
      "metadata": {
        "colab": {
          "base_uri": "https://localhost:8080/",
          "height": 282
        },
        "id": "sDPFXSFwDqzK",
        "outputId": "f431c349-1128-41f2-c6a2-90e60efef67c"
      },
      "source": [
        "plt.pyplot.scatter(x,y)\n",
        "\n",
        "reg = LinearRegression().fit(x.reshape(-1,1),y.reshape(-1,1))\n",
        "reg.score(x.reshape(-1,1),y.reshape(-1,1))\n",
        "modeled_y = reg.predict(x.reshape(-1,1))\n",
        "plt.pyplot.plot(x, modeled_y)\n"
      ],
      "execution_count": 20,
      "outputs": [
        {
          "output_type": "execute_result",
          "data": {
            "text/plain": [
              "[<matplotlib.lines.Line2D at 0x7fb042679950>]"
            ]
          },
          "metadata": {},
          "execution_count": 20
        },
        {
          "output_type": "display_data",
          "data": {
            "image/png": "[encoded data removed]",
            "text/plain": [
              "<Figure size 432x288 with 1 Axes>"
            ]
          },
          "metadata": {
            "needs_background": "light"
          }
        }
      ]
    }
  ]
}