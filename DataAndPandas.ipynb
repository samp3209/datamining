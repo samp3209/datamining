{
  "nbformat": 4,
  "nbformat_minor": 0,
  "metadata": {
    "colab": {
      "name": "DataAndPandas.ipynb",
      "provenance": [],
      "authorship_tag": "ABX9TyPs+gUwXyEZEceqFOKXva7o",
      "include_colab_link": true
    },
    "kernelspec": {
      "name": "python3",
      "display_name": "Python 3"
    },
    "language_info": {
      "name": "python"
    }
  },
  "cells": [
    {
      "cell_type": "markdown",
      "metadata": {
        "id": "view-in-github",
        "colab_type": "text"
      },
      "source": [
        "<a href=\"https://colab.research.google.com/github/samp3209/datamining/blob/main/DataAndPandas.ipynb\" target=\"_parent\"><img src=\"https://colab.research.google.com/assets/colab-badge.svg\" alt=\"Open In Colab\"/></a>"
      ]
    },
    {
      "cell_type": "code",
      "metadata": {
        "id": "IXMKWRaB8aya",
        "colab": {
          "base_uri": "https://localhost:8080/"
        },
        "outputId": "eb5dc9a8-becb-4c4c-c3c6-6dde685b368c"
      },
      "source": [
        "import pandas as pd\n",
        "import numpy as np\n",
        "#!pip install pandas==1.3.0"
      ],
      "execution_count": 2,
      "outputs": [
        {
          "output_type": "stream",
          "name": "stdout",
          "text": [
            "Requirement already satisfied: pandas==1.3.0 in /usr/local/lib/python3.7/dist-packages (1.3.0)\n",
            "Requirement already satisfied: numpy>=1.17.3 in /usr/local/lib/python3.7/dist-packages (from pandas==1.3.0) (1.19.5)\n",
            "Requirement already satisfied: python-dateutil>=2.7.3 in /usr/local/lib/python3.7/dist-packages (from pandas==1.3.0) (2.8.2)\n",
            "Requirement already satisfied: pytz>=2017.3 in /usr/local/lib/python3.7/dist-packages (from pandas==1.3.0) (2018.9)\n",
            "Requirement already satisfied: six>=1.5 in /usr/local/lib/python3.7/dist-packages (from python-dateutil>=2.7.3->pandas==1.3.0) (1.15.0)\n"
          ]
        }
      ]
    },
    {
      "cell_type": "code",
      "metadata": {
        "colab": {
          "base_uri": "https://localhost:8080/"
        },
        "id": "F2Aq3j489_1E",
        "outputId": "84134a24-54a7-4917-b51c-72c12f14f636"
      },
      "source": [
        "#reading iris data in csv json and xml\n",
        "datac = pd.read_csv(\"tableconvert_csv_so70jx.csv\")\n",
        "dataj = pd.read_json(\"tableconvert_json_f0acan-1.json\")\n",
        "datax = pd.read_xml(\"tableconvert_xml_1dxz8d-1.xml\")\n",
        "print(datac.head())\n"
      ],
      "execution_count": 42,
      "outputs": [
        {
          "output_type": "stream",
          "name": "stdout",
          "text": [
            "   sepal.length  sepal.width  petal.length  petal.width variety\n",
            "0           5.1          3.5           1.4          0.2  Setosa\n",
            "1           4.9          3.0           1.4          0.2  Setosa\n",
            "2           4.7          3.2           1.3          0.2  Setosa\n",
            "3           4.6          3.1           1.5          0.2  Setosa\n",
            "4           5.0          3.6           1.4          0.2  Setosa\n"
          ]
        }
      ]
    },
    {
      "cell_type": "code",
      "metadata": {
        "id": "TEH296qNO2ma"
      },
      "source": [
        "#writing from csv to json and xml\n",
        "CtoJ = datac.to_json()\n",
        "#print(CtoJ)\n",
        "CtoX = datac.to_xml()\n",
        "#print(CtoX)\n",
        "JtoC = dataj.to_csv()\n",
        "#print(JtoC))\n",
        "JtoX = dataj.to_xml()\n",
        "#print(JtoX)\n",
        "XtoC = datax.to_csv()\n",
        "#print(XtoC)\n",
        "XtoJ = datax.to_json()"
      ],
      "execution_count": 27,
      "outputs": []
    },
    {
      "cell_type": "code",
      "metadata": {
        "colab": {
          "base_uri": "https://localhost:8080/"
        },
        "id": "5Af18VGZP4_9",
        "outputId": "559fba7e-bdf7-4341-e6f7-2a1140fb1618"
      },
      "source": [
        "#changes pandas data to numpy and does some basic commands\n",
        "npdata = datac.to_numpy()\n",
        "#print(npdata)\n",
        "print(npdata.size)\n",
        "print(npdata.shape)\n",
        "print(npdata.ndim)"
      ],
      "execution_count": 41,
      "outputs": [
        {
          "output_type": "stream",
          "name": "stdout",
          "text": [
            "750\n",
            "(150, 5)\n",
            "2\n"
          ]
        }
      ]
    },
    {
      "cell_type": "code",
      "metadata": {
        "colab": {
          "base_uri": "https://localhost:8080/"
        },
        "id": "KZ4X-wE0d--b",
        "outputId": "458d6a43-3292-4dcb-fa40-072d818710e0"
      },
      "source": [
        "#converts numpy array into pandas and then finds the mean of each column\n",
        "df = pd.DataFrame(npdata, columns=['sepal.length', 'sepal.width', 'petal.length', 'petal.width', 'variety'])\n",
        "print(df)\n",
        "df.mean(axis=0)"
      ],
      "execution_count": 45,
      "outputs": [
        {
          "output_type": "stream",
          "name": "stdout",
          "text": [
            "    sepal.length sepal.width petal.length petal.width    variety\n",
            "0            5.1         3.5          1.4         0.2     Setosa\n",
            "1            4.9         3.0          1.4         0.2     Setosa\n",
            "2            4.7         3.2          1.3         0.2     Setosa\n",
            "3            4.6         3.1          1.5         0.2     Setosa\n",
            "4            5.0         3.6          1.4         0.2     Setosa\n",
            "..           ...         ...          ...         ...        ...\n",
            "145          6.7         3.0          5.2         2.3  Virginica\n",
            "146          6.3         2.5          5.0         1.9  Virginica\n",
            "147          6.5         3.0          5.2         2.0  Virginica\n",
            "148          6.2         3.4          5.4         2.3  Virginica\n",
            "149          5.9         3.0          5.1         1.8  Virginica\n",
            "\n",
            "[150 rows x 5 columns]\n"
          ]
        },
        {
          "output_type": "stream",
          "name": "stderr",
          "text": [
            "/usr/local/lib/python3.7/dist-packages/ipykernel_launcher.py:3: FutureWarning: Dropping of nuisance columns in DataFrame reductions (with 'numeric_only=None') is deprecated; in a future version this will raise TypeError.  Select only valid columns before calling the reduction.\n",
            "  This is separate from the ipykernel package so we can avoid doing imports until\n"
          ]
        },
        {
          "output_type": "execute_result",
          "data": {
            "text/plain": [
              "sepal.length    5.843333\n",
              "sepal.width     3.057333\n",
              "petal.length    3.758000\n",
              "petal.width     1.199333\n",
              "dtype: float64"
            ]
          },
          "metadata": {},
          "execution_count": 45
        }
      ]
    },
    {
      "cell_type": "markdown",
      "metadata": {
        "id": "r-hWQ9p4TFbh"
      },
      "source": [
        "my_array = np.array([[49,72,93],[21,32,57]])\n"
      ]
    }
  ]
}