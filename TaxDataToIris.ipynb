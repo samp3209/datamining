{
  "nbformat": 4,
  "nbformat_minor": 0,
  "metadata": {
    "colab": {
      "name": "TaxDataToIris.ipynb",
      "provenance": [],
      "collapsed_sections": [],
      "authorship_tag": "ABX9TyOHG0MfXmduPFyA78BDFly/",
      "include_colab_link": true
    },
    "kernelspec": {
      "name": "python3",
      "display_name": "Python 3"
    },
    "language_info": {
      "name": "python"
    }
  },
  "cells": [
    {
      "cell_type": "markdown",
      "metadata": {
        "id": "view-in-github",
        "colab_type": "text"
      },
      "source": [
        "<a href=\"https://colab.research.google.com/github/samp3209/datamining/blob/main/TaxDataToIris.ipynb\" target=\"_parent\"><img src=\"https://colab.research.google.com/assets/colab-badge.svg\" alt=\"Open In Colab\"/></a>"
      ]
    },
    {
      "cell_type": "code",
      "metadata": {
        "id": "fFX8cVCU0wlG"
      },
      "source": [
        "import pandas as pd\n",
        "import numpy as np\n",
        "from sklearn import linear_model as lm\n",
        "import matplotlib.pyplot as plt"
      ],
      "execution_count": null,
      "outputs": []
    },
    {
      "cell_type": "code",
      "metadata": {
        "colab": {
          "base_uri": "https://localhost:8080/"
        },
        "id": "5_kiIirP11A3",
        "outputId": "89398c05-ab29-4726-d835-3777762757b0"
      },
      "source": [
        "#importing the data and restructuring the variety column to be integers instead of string\n",
        "data = pd.read_csv('iris.csv')\n",
        "#print(data.head())\n",
        "print(data.value_counts(['variety']))\n",
        "var = data['variety']\n",
        "#data['variety'] = np.where(data['variety'] == 'Setosa', 0,1)\n",
        "var[var.isin(data.value_counts(['variety']).index[0])] = 3\n",
        "var[var.isin(data.value_counts(['variety']).index[0])] = 2\n",
        "var[var.isin(data.value_counts(['variety']).index[0])] = 1\n",
        "\n",
        "data['variety'] =  var\n",
        "data['variety'] = data.variety.astype(float)\n",
        "data.dtypes"
      ],
      "execution_count": null,
      "outputs": [
        {
          "output_type": "stream",
          "name": "stdout",
          "text": [
            "variety   \n",
            "Virginica     50\n",
            "Versicolor    50\n",
            "Setosa        50\n",
            "dtype: int64\n"
          ]
        },
        {
          "output_type": "stream",
          "name": "stderr",
          "text": [
            "/usr/local/lib/python3.7/dist-packages/ipykernel_launcher.py:7: SettingWithCopyWarning: \n",
            "A value is trying to be set on a copy of a slice from a DataFrame\n",
            "\n",
            "See the caveats in the documentation: https://pandas.pydata.org/pandas-docs/stable/user_guide/indexing.html#returning-a-view-versus-a-copy\n",
            "  import sys\n",
            "/usr/local/lib/python3.7/dist-packages/ipykernel_launcher.py:8: SettingWithCopyWarning: \n",
            "A value is trying to be set on a copy of a slice from a DataFrame\n",
            "\n",
            "See the caveats in the documentation: https://pandas.pydata.org/pandas-docs/stable/user_guide/indexing.html#returning-a-view-versus-a-copy\n",
            "  \n",
            "/usr/local/lib/python3.7/dist-packages/ipykernel_launcher.py:9: SettingWithCopyWarning: \n",
            "A value is trying to be set on a copy of a slice from a DataFrame\n",
            "\n",
            "See the caveats in the documentation: https://pandas.pydata.org/pandas-docs/stable/user_guide/indexing.html#returning-a-view-versus-a-copy\n",
            "  if __name__ == '__main__':\n"
          ]
        },
        {
          "output_type": "execute_result",
          "data": {
            "text/plain": [
              "sepal.length    float64\n",
              "sepal.width     float64\n",
              "petal.length    float64\n",
              "petal.width     float64\n",
              "variety         float64\n",
              "dtype: object"
            ]
          },
          "metadata": {},
          "execution_count": 23
        }
      ]
    },
    {
      "cell_type": "code",
      "metadata": {
        "colab": {
          "base_uri": "https://localhost:8080/"
        },
        "id": "mwhbn3Sr9gtX",
        "outputId": "bf0f25d9-4077-4e60-f700-43c53048ba52"
      },
      "source": [
        "#finding the feature with the largest standard deviation\n",
        "data.describe()\n",
        "feature = data.std().sort_values(ascending=False)[0:1]\n",
        "print(feature)\n",
        "#testing the feature and creating a model to train for variety\n",
        "xb = np.array(data[feature.index[0]])\n",
        "xb = xb.reshape(-1,1)\n",
        "yb = np.array(data['variety'])\n",
        "yb = yb.reshape(-1,1)\n",
        "\n",
        "model = lm.LinearRegression().fit(xb,yb)\n",
        "score = model.score(xb,yb)\n",
        "print(score)\n",
        "yb_pred = model.predict(xb)\n",
        "print(yb_pred)"
      ],
      "execution_count": null,
      "outputs": [
        {
          "output_type": "stream",
          "name": "stdout",
          "text": [
            "petal.length    1.765298\n",
            "dtype: float64\n",
            "0.9006668599219426\n",
            "[[0.96148046]\n",
            " [0.96148046]\n",
            " [0.91743807]\n",
            " [1.00552285]\n",
            " [0.96148046]\n",
            " [1.09360763]\n",
            " [0.96148046]\n",
            " [1.00552285]\n",
            " [0.96148046]\n",
            " [1.00552285]\n",
            " [1.00552285]\n",
            " [1.04956524]\n",
            " [0.96148046]\n",
            " [0.82935329]\n",
            " [0.87339568]\n",
            " [1.00552285]\n",
            " [0.91743807]\n",
            " [0.96148046]\n",
            " [1.09360763]\n",
            " [1.00552285]\n",
            " [1.09360763]\n",
            " [1.00552285]\n",
            " [0.7853109 ]\n",
            " [1.09360763]\n",
            " [1.18169241]\n",
            " [1.04956524]\n",
            " [1.04956524]\n",
            " [1.00552285]\n",
            " [0.96148046]\n",
            " [1.04956524]\n",
            " [1.04956524]\n",
            " [1.00552285]\n",
            " [1.00552285]\n",
            " [0.96148046]\n",
            " [1.00552285]\n",
            " [0.87339568]\n",
            " [0.91743807]\n",
            " [0.96148046]\n",
            " [0.91743807]\n",
            " [1.00552285]\n",
            " [0.91743807]\n",
            " [0.91743807]\n",
            " [0.91743807]\n",
            " [1.04956524]\n",
            " [1.18169241]\n",
            " [0.96148046]\n",
            " [1.04956524]\n",
            " [0.96148046]\n",
            " [1.00552285]\n",
            " [0.96148046]\n",
            " [2.41487931]\n",
            " [2.32679453]\n",
            " [2.50296409]\n",
            " [2.10658258]\n",
            " [2.37083692]\n",
            " [2.32679453]\n",
            " [2.41487931]\n",
            " [1.79828586]\n",
            " [2.37083692]\n",
            " [2.06254019]\n",
            " [1.88637064]\n",
            " [2.19466736]\n",
            " [2.10658258]\n",
            " [2.41487931]\n",
            " [1.93041303]\n",
            " [2.28275214]\n",
            " [2.32679453]\n",
            " [2.15062497]\n",
            " [2.32679453]\n",
            " [2.06254019]\n",
            " [2.4589217 ]\n",
            " [2.10658258]\n",
            " [2.50296409]\n",
            " [2.41487931]\n",
            " [2.23870975]\n",
            " [2.28275214]\n",
            " [2.4589217 ]\n",
            " [2.54700647]\n",
            " [2.32679453]\n",
            " [1.88637064]\n",
            " [2.0184978 ]\n",
            " [1.97445541]\n",
            " [2.06254019]\n",
            " [2.59104886]\n",
            " [2.32679453]\n",
            " [2.32679453]\n",
            " [2.41487931]\n",
            " [2.28275214]\n",
            " [2.15062497]\n",
            " [2.10658258]\n",
            " [2.28275214]\n",
            " [2.37083692]\n",
            " [2.10658258]\n",
            " [1.79828586]\n",
            " [2.19466736]\n",
            " [2.19466736]\n",
            " [2.19466736]\n",
            " [2.23870975]\n",
            " [1.66615869]\n",
            " [2.15062497]\n",
            " [2.98743037]\n",
            " [2.59104886]\n",
            " [2.94338798]\n",
            " [2.81126081]\n",
            " [2.89934559]\n",
            " [3.2516847 ]\n",
            " [2.32679453]\n",
            " [3.11955753]\n",
            " [2.89934559]\n",
            " [3.03147276]\n",
            " [2.59104886]\n",
            " [2.67913364]\n",
            " [2.76721842]\n",
            " [2.54700647]\n",
            " [2.59104886]\n",
            " [2.67913364]\n",
            " [2.76721842]\n",
            " [3.29572709]\n",
            " [3.38381187]\n",
            " [2.54700647]\n",
            " [2.8553032 ]\n",
            " [2.50296409]\n",
            " [3.29572709]\n",
            " [2.50296409]\n",
            " [2.8553032 ]\n",
            " [2.98743037]\n",
            " [2.4589217 ]\n",
            " [2.50296409]\n",
            " [2.81126081]\n",
            " [2.89934559]\n",
            " [3.03147276]\n",
            " [3.16359992]\n",
            " [2.81126081]\n",
            " [2.59104886]\n",
            " [2.81126081]\n",
            " [3.03147276]\n",
            " [2.81126081]\n",
            " [2.76721842]\n",
            " [2.4589217 ]\n",
            " [2.72317603]\n",
            " [2.81126081]\n",
            " [2.59104886]\n",
            " [2.59104886]\n",
            " [2.94338798]\n",
            " [2.8553032 ]\n",
            " [2.63509125]\n",
            " [2.54700647]\n",
            " [2.63509125]\n",
            " [2.72317603]\n",
            " [2.59104886]]\n"
          ]
        }
      ]
    },
    {
      "cell_type": "code",
      "metadata": {
        "colab": {
          "base_uri": "https://localhost:8080/",
          "height": 285
        },
        "id": "bpMiTSl3BgpI",
        "outputId": "58a27356-1176-4aee-aef7-29fec1d26dac"
      },
      "source": [
        "plt.figure(0)\n",
        "plt.scatter(xb,yb)\n",
        "plt.plot(xb, yb_pred, color='Red')"
      ],
      "execution_count": null,
      "outputs": [
        {
          "output_type": "execute_result",
          "data": {
            "text/plain": [
              "[<matplotlib.lines.Line2D at 0x7fe170c90910>]"
            ]
          },
          "metadata": {},
          "execution_count": 30
        },
        {
          "output_type": "display_data",
          "data": {
            "image/png": "[encoded data removed]",
            "text/plain": [
              "<Figure size 432x288 with 1 Axes>"
            ]
          },
          "metadata": {
            "needs_background": "light"
          }
        }
      ]
    }
  ]
}